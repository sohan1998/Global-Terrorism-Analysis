{
  "nbformat": 4,
  "nbformat_minor": 0,
  "metadata": {
    "colab": {
      "name": "script.ipynb",
      "version": "0.3.2",
      "provenance": [],
      "collapsed_sections": []
    },
    "kernelspec": {
      "name": "python3",
      "display_name": "Python 3"
    },
    "accelerator": "GPU"
  },
  "cells": [
    {
      "metadata": {
        "id": "AjUCDfP-KKyv",
        "colab_type": "text"
      },
      "cell_type": "markdown",
      "source": [
        "## Importing libraries"
      ]
    },
    {
      "metadata": {
        "id": "lYxEcM9YKKyx",
        "colab_type": "code",
        "colab": {}
      },
      "cell_type": "code",
      "source": [
        "import pandas as pd\n",
        "import numpy as np\n",
        "import matplotlib.pyplot as plt\n",
        "import seaborn as sns\n",
        "import io"
      ],
      "execution_count": 0,
      "outputs": []
    },
    {
      "metadata": {
        "id": "pRdY5axUKKy1",
        "colab_type": "text"
      },
      "cell_type": "markdown",
      "source": [
        "## Importing the dataset"
      ]
    },
    {
      "metadata": {
        "id": "6AcJKrr8KKy2",
        "colab_type": "code",
        "colab": {}
      },
      "cell_type": "code",
      "source": [
        "#dataset = pd.read_csv(\"globalterrorismdb_0718dist.csv\",encoding='ISO-8859-1')"
      ],
      "execution_count": 0,
      "outputs": []
    },
    {
      "metadata": {
        "id": "BDdm_2PYKZ0m",
        "colab_type": "code",
        "outputId": "5dc3f595-9a1a-4c38-c3f0-d869650a1160",
        "colab": {
          "resources": {
            "http://localhost:8080/nbextensions/google.colab/files.js": {
              "data": "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",
              "ok": true,
              "headers": [
                [
                  "content-type",
                  "application/javascript"
                ]
              ],
              "status": 200,
              "status_text": ""
            }
          },
          "base_uri": "https://localhost:8080/",
          "height": 73
        }
      },
      "cell_type": "code",
      "source": [
        "from google.colab import files\n",
        "\n",
        "upload1 = files.upload()"
      ],
      "execution_count": 0,
      "outputs": [
        {
          "output_type": "display_data",
          "data": {
            "text/html": [
              "\n",
              "     <input type=\"file\" id=\"files-89674f89-ef22-40b3-a48e-cd32aec475ca\" name=\"files[]\" multiple disabled />\n",
              "     <output id=\"result-89674f89-ef22-40b3-a48e-cd32aec475ca\">\n",
              "      Upload widget is only available when the cell has been executed in the\n",
              "      current browser session. Please rerun this cell to enable.\n",
              "      </output>\n",
              "      <script src=\"/nbextensions/google.colab/files.js\"></script> "
            ],
            "text/plain": [
              "<IPython.core.display.HTML object>"
            ]
          },
          "metadata": {
            "tags": []
          }
        },
        {
          "output_type": "stream",
          "text": [
            "Saving file.csv to file.csv\n"
          ],
          "name": "stdout"
        }
      ]
    },
    {
      "metadata": {
        "id": "QO1iwSkZKZiP",
        "colab_type": "code",
        "colab": {}
      },
      "cell_type": "code",
      "source": [
        "dataset = pd.read_csv(io.StringIO(upload1['file.csv'].decode('utf-8')))"
      ],
      "execution_count": 0,
      "outputs": []
    },
    {
      "metadata": {
        "id": "MBnK_fX3KKy8",
        "colab_type": "code",
        "outputId": "e3e7d923-195c-41e9-f3ca-ef3af24a31d3",
        "colab": {
          "base_uri": "https://localhost:8080/",
          "height": 34
        }
      },
      "cell_type": "code",
      "source": [
        "print(dataset.shape)"
      ],
      "execution_count": 0,
      "outputs": [
        {
          "output_type": "stream",
          "text": [
            "(181691, 10)\n"
          ],
          "name": "stdout"
        }
      ]
    },
    {
      "metadata": {
        "id": "L6PwljfOKKzC",
        "colab_type": "text"
      },
      "cell_type": "markdown",
      "source": [
        "## Understanding the dataset"
      ]
    },
    {
      "metadata": {
        "id": "N7tPhvzZKKzD",
        "colab_type": "code",
        "colab": {}
      },
      "cell_type": "code",
      "source": [
        "dataset = dataset[[\"iyear\",\"extended\",\"region_txt\",\"latitude\",\"longitude\",\"attacktype1_txt\",\"targtype1_txt\",\"weaptype1_txt\",\"nkill\",\"nwound\"]]"
      ],
      "execution_count": 0,
      "outputs": []
    },
    {
      "metadata": {
        "id": "GxFbhkKaKKzH",
        "colab_type": "code",
        "outputId": "3d8f22bf-2d95-4899-8dff-3e8d988af639",
        "colab": {
          "base_uri": "https://localhost:8080/",
          "height": 34
        }
      },
      "cell_type": "code",
      "source": [
        "dataset.shape #Only including relevant columns"
      ],
      "execution_count": 0,
      "outputs": [
        {
          "output_type": "execute_result",
          "data": {
            "text/plain": [
              "(181691, 10)"
            ]
          },
          "metadata": {
            "tags": []
          },
          "execution_count": 6
        }
      ]
    },
    {
      "metadata": {
        "id": "6dUrvOtaKKzN",
        "colab_type": "code",
        "outputId": "88685443-03c1-47ad-8545-638056639ed9",
        "colab": {
          "base_uri": "https://localhost:8080/",
          "height": 68
        }
      },
      "cell_type": "code",
      "source": [
        "dataset.columns"
      ],
      "execution_count": 0,
      "outputs": [
        {
          "output_type": "execute_result",
          "data": {
            "text/plain": [
              "Index(['iyear', 'extended', 'region_txt', 'latitude', 'longitude',\n",
              "       'attacktype1_txt', 'targtype1_txt', 'weaptype1_txt', 'nkill', 'nwound'],\n",
              "      dtype='object')"
            ]
          },
          "metadata": {
            "tags": []
          },
          "execution_count": 7
        }
      ]
    },
    {
      "metadata": {
        "id": "OB8XWdXNKKzR",
        "colab_type": "code",
        "outputId": "f802aab9-a566-4be8-de73-d9e56c02e670",
        "colab": {
          "base_uri": "https://localhost:8080/",
          "height": 273
        }
      },
      "cell_type": "code",
      "source": [
        "dataset.info()"
      ],
      "execution_count": 0,
      "outputs": [
        {
          "output_type": "stream",
          "text": [
            "<class 'pandas.core.frame.DataFrame'>\n",
            "RangeIndex: 181691 entries, 0 to 181690\n",
            "Data columns (total 10 columns):\n",
            "iyear              181691 non-null int64\n",
            "extended           181691 non-null int64\n",
            "region_txt         181691 non-null object\n",
            "latitude           177135 non-null float64\n",
            "longitude          177134 non-null float64\n",
            "attacktype1_txt    181691 non-null object\n",
            "targtype1_txt      181691 non-null object\n",
            "weaptype1_txt      181691 non-null object\n",
            "nkill              171378 non-null float64\n",
            "nwound             165380 non-null float64\n",
            "dtypes: float64(4), int64(2), object(4)\n",
            "memory usage: 13.9+ MB\n"
          ],
          "name": "stdout"
        }
      ]
    },
    {
      "metadata": {
        "id": "hK6CqmlyKKzV",
        "colab_type": "code",
        "outputId": "4d18112a-bb4f-4e65-b410-8450dffd8e3c",
        "colab": {
          "base_uri": "https://localhost:8080/",
          "height": 286
        }
      },
      "cell_type": "code",
      "source": [
        "dataset.describe()"
      ],
      "execution_count": 0,
      "outputs": [
        {
          "output_type": "execute_result",
          "data": {
            "text/html": [
              "<div>\n",
              "<style scoped>\n",
              "    .dataframe tbody tr th:only-of-type {\n",
              "        vertical-align: middle;\n",
              "    }\n",
              "\n",
              "    .dataframe tbody tr th {\n",
              "        vertical-align: top;\n",
              "    }\n",
              "\n",
              "    .dataframe thead th {\n",
              "        text-align: right;\n",
              "    }\n",
              "</style>\n",
              "<table border=\"1\" class=\"dataframe\">\n",
              "  <thead>\n",
              "    <tr style=\"text-align: right;\">\n",
              "      <th></th>\n",
              "      <th>iyear</th>\n",
              "      <th>extended</th>\n",
              "      <th>latitude</th>\n",
              "      <th>longitude</th>\n",
              "      <th>nkill</th>\n",
              "      <th>nwound</th>\n",
              "    </tr>\n",
              "  </thead>\n",
              "  <tbody>\n",
              "    <tr>\n",
              "      <th>count</th>\n",
              "      <td>181691.000000</td>\n",
              "      <td>181691.000000</td>\n",
              "      <td>177135.000000</td>\n",
              "      <td>1.771340e+05</td>\n",
              "      <td>171378.000000</td>\n",
              "      <td>165380.000000</td>\n",
              "    </tr>\n",
              "    <tr>\n",
              "      <th>mean</th>\n",
              "      <td>2002.638997</td>\n",
              "      <td>0.045346</td>\n",
              "      <td>23.498343</td>\n",
              "      <td>-4.586957e+02</td>\n",
              "      <td>2.403272</td>\n",
              "      <td>3.167668</td>\n",
              "    </tr>\n",
              "    <tr>\n",
              "      <th>std</th>\n",
              "      <td>13.259430</td>\n",
              "      <td>0.208063</td>\n",
              "      <td>18.569242</td>\n",
              "      <td>2.047790e+05</td>\n",
              "      <td>11.545741</td>\n",
              "      <td>35.949392</td>\n",
              "    </tr>\n",
              "    <tr>\n",
              "      <th>min</th>\n",
              "      <td>1970.000000</td>\n",
              "      <td>0.000000</td>\n",
              "      <td>-53.154613</td>\n",
              "      <td>-8.618590e+07</td>\n",
              "      <td>0.000000</td>\n",
              "      <td>0.000000</td>\n",
              "    </tr>\n",
              "    <tr>\n",
              "      <th>25%</th>\n",
              "      <td>1991.000000</td>\n",
              "      <td>0.000000</td>\n",
              "      <td>11.510046</td>\n",
              "      <td>4.545640e+00</td>\n",
              "      <td>0.000000</td>\n",
              "      <td>0.000000</td>\n",
              "    </tr>\n",
              "    <tr>\n",
              "      <th>50%</th>\n",
              "      <td>2009.000000</td>\n",
              "      <td>0.000000</td>\n",
              "      <td>31.467463</td>\n",
              "      <td>4.324651e+01</td>\n",
              "      <td>0.000000</td>\n",
              "      <td>0.000000</td>\n",
              "    </tr>\n",
              "    <tr>\n",
              "      <th>75%</th>\n",
              "      <td>2014.000000</td>\n",
              "      <td>0.000000</td>\n",
              "      <td>34.685087</td>\n",
              "      <td>6.871033e+01</td>\n",
              "      <td>2.000000</td>\n",
              "      <td>2.000000</td>\n",
              "    </tr>\n",
              "    <tr>\n",
              "      <th>max</th>\n",
              "      <td>2017.000000</td>\n",
              "      <td>1.000000</td>\n",
              "      <td>74.633553</td>\n",
              "      <td>1.793667e+02</td>\n",
              "      <td>1570.000000</td>\n",
              "      <td>8191.000000</td>\n",
              "    </tr>\n",
              "  </tbody>\n",
              "</table>\n",
              "</div>"
            ],
            "text/plain": [
              "               iyear       extended       latitude     longitude  \\\n",
              "count  181691.000000  181691.000000  177135.000000  1.771340e+05   \n",
              "mean     2002.638997       0.045346      23.498343 -4.586957e+02   \n",
              "std        13.259430       0.208063      18.569242  2.047790e+05   \n",
              "min      1970.000000       0.000000     -53.154613 -8.618590e+07   \n",
              "25%      1991.000000       0.000000      11.510046  4.545640e+00   \n",
              "50%      2009.000000       0.000000      31.467463  4.324651e+01   \n",
              "75%      2014.000000       0.000000      34.685087  6.871033e+01   \n",
              "max      2017.000000       1.000000      74.633553  1.793667e+02   \n",
              "\n",
              "               nkill         nwound  \n",
              "count  171378.000000  165380.000000  \n",
              "mean        2.403272       3.167668  \n",
              "std        11.545741      35.949392  \n",
              "min         0.000000       0.000000  \n",
              "25%         0.000000       0.000000  \n",
              "50%         0.000000       0.000000  \n",
              "75%         2.000000       2.000000  \n",
              "max      1570.000000    8191.000000  "
            ]
          },
          "metadata": {
            "tags": []
          },
          "execution_count": 9
        }
      ]
    },
    {
      "metadata": {
        "id": "9PqdMIgTKKzZ",
        "colab_type": "code",
        "outputId": "0a9e0b3f-da04-48b5-966c-55bbec8e6ddb",
        "colab": {
          "base_uri": "https://localhost:8080/",
          "height": 197
        }
      },
      "cell_type": "code",
      "source": [
        "dataset.head()"
      ],
      "execution_count": 0,
      "outputs": [
        {
          "output_type": "execute_result",
          "data": {
            "text/html": [
              "<div>\n",
              "<style scoped>\n",
              "    .dataframe tbody tr th:only-of-type {\n",
              "        vertical-align: middle;\n",
              "    }\n",
              "\n",
              "    .dataframe tbody tr th {\n",
              "        vertical-align: top;\n",
              "    }\n",
              "\n",
              "    .dataframe thead th {\n",
              "        text-align: right;\n",
              "    }\n",
              "</style>\n",
              "<table border=\"1\" class=\"dataframe\">\n",
              "  <thead>\n",
              "    <tr style=\"text-align: right;\">\n",
              "      <th></th>\n",
              "      <th>iyear</th>\n",
              "      <th>extended</th>\n",
              "      <th>region_txt</th>\n",
              "      <th>latitude</th>\n",
              "      <th>longitude</th>\n",
              "      <th>attacktype1_txt</th>\n",
              "      <th>targtype1_txt</th>\n",
              "      <th>weaptype1_txt</th>\n",
              "      <th>nkill</th>\n",
              "      <th>nwound</th>\n",
              "    </tr>\n",
              "  </thead>\n",
              "  <tbody>\n",
              "    <tr>\n",
              "      <th>0</th>\n",
              "      <td>1970</td>\n",
              "      <td>0</td>\n",
              "      <td>Central America &amp; Caribbean</td>\n",
              "      <td>18.456792</td>\n",
              "      <td>-69.951164</td>\n",
              "      <td>Assassination</td>\n",
              "      <td>Private Citizens &amp; Property</td>\n",
              "      <td>Unknown</td>\n",
              "      <td>1.0</td>\n",
              "      <td>0.0</td>\n",
              "    </tr>\n",
              "    <tr>\n",
              "      <th>1</th>\n",
              "      <td>1970</td>\n",
              "      <td>0</td>\n",
              "      <td>North America</td>\n",
              "      <td>19.371887</td>\n",
              "      <td>-99.086624</td>\n",
              "      <td>Hostage Taking (Kidnapping)</td>\n",
              "      <td>Government (Diplomatic)</td>\n",
              "      <td>Unknown</td>\n",
              "      <td>0.0</td>\n",
              "      <td>0.0</td>\n",
              "    </tr>\n",
              "    <tr>\n",
              "      <th>2</th>\n",
              "      <td>1970</td>\n",
              "      <td>0</td>\n",
              "      <td>Southeast Asia</td>\n",
              "      <td>15.478598</td>\n",
              "      <td>120.599741</td>\n",
              "      <td>Assassination</td>\n",
              "      <td>Journalists &amp; Media</td>\n",
              "      <td>Unknown</td>\n",
              "      <td>1.0</td>\n",
              "      <td>0.0</td>\n",
              "    </tr>\n",
              "    <tr>\n",
              "      <th>3</th>\n",
              "      <td>1970</td>\n",
              "      <td>0</td>\n",
              "      <td>Western Europe</td>\n",
              "      <td>37.997490</td>\n",
              "      <td>23.762728</td>\n",
              "      <td>Bombing/Explosion</td>\n",
              "      <td>Government (Diplomatic)</td>\n",
              "      <td>Explosives</td>\n",
              "      <td>NaN</td>\n",
              "      <td>NaN</td>\n",
              "    </tr>\n",
              "    <tr>\n",
              "      <th>4</th>\n",
              "      <td>1970</td>\n",
              "      <td>0</td>\n",
              "      <td>East Asia</td>\n",
              "      <td>33.580412</td>\n",
              "      <td>130.396361</td>\n",
              "      <td>Facility/Infrastructure Attack</td>\n",
              "      <td>Government (Diplomatic)</td>\n",
              "      <td>Incendiary</td>\n",
              "      <td>NaN</td>\n",
              "      <td>NaN</td>\n",
              "    </tr>\n",
              "  </tbody>\n",
              "</table>\n",
              "</div>"
            ],
            "text/plain": [
              "   iyear  extended                   region_txt   latitude   longitude  \\\n",
              "0   1970         0  Central America & Caribbean  18.456792  -69.951164   \n",
              "1   1970         0                North America  19.371887  -99.086624   \n",
              "2   1970         0               Southeast Asia  15.478598  120.599741   \n",
              "3   1970         0               Western Europe  37.997490   23.762728   \n",
              "4   1970         0                    East Asia  33.580412  130.396361   \n",
              "\n",
              "                  attacktype1_txt                targtype1_txt weaptype1_txt  \\\n",
              "0                   Assassination  Private Citizens & Property       Unknown   \n",
              "1     Hostage Taking (Kidnapping)      Government (Diplomatic)       Unknown   \n",
              "2                   Assassination          Journalists & Media       Unknown   \n",
              "3               Bombing/Explosion      Government (Diplomatic)    Explosives   \n",
              "4  Facility/Infrastructure Attack      Government (Diplomatic)    Incendiary   \n",
              "\n",
              "   nkill  nwound  \n",
              "0    1.0     0.0  \n",
              "1    0.0     0.0  \n",
              "2    1.0     0.0  \n",
              "3    NaN     NaN  \n",
              "4    NaN     NaN  "
            ]
          },
          "metadata": {
            "tags": []
          },
          "execution_count": 10
        }
      ]
    },
    {
      "metadata": {
        "id": "1Ct3J2KLKKze",
        "colab_type": "code",
        "outputId": "cced2ff9-c396-428e-d8b9-8c818be4d510",
        "colab": {
          "base_uri": "https://localhost:8080/",
          "height": 346
        }
      },
      "cell_type": "code",
      "source": [
        "dataset.sample(10)"
      ],
      "execution_count": 0,
      "outputs": [
        {
          "output_type": "execute_result",
          "data": {
            "text/html": [
              "<div>\n",
              "<style scoped>\n",
              "    .dataframe tbody tr th:only-of-type {\n",
              "        vertical-align: middle;\n",
              "    }\n",
              "\n",
              "    .dataframe tbody tr th {\n",
              "        vertical-align: top;\n",
              "    }\n",
              "\n",
              "    .dataframe thead th {\n",
              "        text-align: right;\n",
              "    }\n",
              "</style>\n",
              "<table border=\"1\" class=\"dataframe\">\n",
              "  <thead>\n",
              "    <tr style=\"text-align: right;\">\n",
              "      <th></th>\n",
              "      <th>iyear</th>\n",
              "      <th>extended</th>\n",
              "      <th>region_txt</th>\n",
              "      <th>latitude</th>\n",
              "      <th>longitude</th>\n",
              "      <th>attacktype1_txt</th>\n",
              "      <th>targtype1_txt</th>\n",
              "      <th>weaptype1_txt</th>\n",
              "      <th>nkill</th>\n",
              "      <th>nwound</th>\n",
              "    </tr>\n",
              "  </thead>\n",
              "  <tbody>\n",
              "    <tr>\n",
              "      <th>146045</th>\n",
              "      <td>2015</td>\n",
              "      <td>0</td>\n",
              "      <td>South Asia</td>\n",
              "      <td>30.475091</td>\n",
              "      <td>69.365678</td>\n",
              "      <td>Armed Assault</td>\n",
              "      <td>Police</td>\n",
              "      <td>Firearms</td>\n",
              "      <td>1.0</td>\n",
              "      <td>0.0</td>\n",
              "    </tr>\n",
              "    <tr>\n",
              "      <th>171397</th>\n",
              "      <td>2017</td>\n",
              "      <td>0</td>\n",
              "      <td>South Asia</td>\n",
              "      <td>18.965838</td>\n",
              "      <td>83.451666</td>\n",
              "      <td>Facility/Infrastructure Attack</td>\n",
              "      <td>Transportation</td>\n",
              "      <td>Sabotage Equipment</td>\n",
              "      <td>34.0</td>\n",
              "      <td>61.0</td>\n",
              "    </tr>\n",
              "    <tr>\n",
              "      <th>52333</th>\n",
              "      <td>1992</td>\n",
              "      <td>0</td>\n",
              "      <td>Middle East &amp; North Africa</td>\n",
              "      <td>38.403111</td>\n",
              "      <td>37.956069</td>\n",
              "      <td>Armed Assault</td>\n",
              "      <td>Military</td>\n",
              "      <td>Firearms</td>\n",
              "      <td>3.0</td>\n",
              "      <td>0.0</td>\n",
              "    </tr>\n",
              "    <tr>\n",
              "      <th>171476</th>\n",
              "      <td>2017</td>\n",
              "      <td>0</td>\n",
              "      <td>Middle East &amp; North Africa</td>\n",
              "      <td>36.354145</td>\n",
              "      <td>43.143570</td>\n",
              "      <td>Unknown</td>\n",
              "      <td>Military</td>\n",
              "      <td>Unknown</td>\n",
              "      <td>NaN</td>\n",
              "      <td>NaN</td>\n",
              "    </tr>\n",
              "    <tr>\n",
              "      <th>59505</th>\n",
              "      <td>1995</td>\n",
              "      <td>0</td>\n",
              "      <td>Sub-Saharan Africa</td>\n",
              "      <td>-7.365016</td>\n",
              "      <td>20.815942</td>\n",
              "      <td>Armed Assault</td>\n",
              "      <td>Government (Diplomatic)</td>\n",
              "      <td>Firearms</td>\n",
              "      <td>0.0</td>\n",
              "      <td>2.0</td>\n",
              "    </tr>\n",
              "    <tr>\n",
              "      <th>7647</th>\n",
              "      <td>1979</td>\n",
              "      <td>0</td>\n",
              "      <td>Central America &amp; Caribbean</td>\n",
              "      <td>12.432570</td>\n",
              "      <td>-86.881204</td>\n",
              "      <td>Assassination</td>\n",
              "      <td>Private Citizens &amp; Property</td>\n",
              "      <td>Unknown</td>\n",
              "      <td>1.0</td>\n",
              "      <td>0.0</td>\n",
              "    </tr>\n",
              "    <tr>\n",
              "      <th>104155</th>\n",
              "      <td>2011</td>\n",
              "      <td>0</td>\n",
              "      <td>Middle East &amp; North Africa</td>\n",
              "      <td>37.080181</td>\n",
              "      <td>41.220196</td>\n",
              "      <td>Armed Assault</td>\n",
              "      <td>Military</td>\n",
              "      <td>Firearms</td>\n",
              "      <td>1.0</td>\n",
              "      <td>1.0</td>\n",
              "    </tr>\n",
              "    <tr>\n",
              "      <th>165836</th>\n",
              "      <td>2016</td>\n",
              "      <td>0</td>\n",
              "      <td>Middle East &amp; North Africa</td>\n",
              "      <td>18.223461</td>\n",
              "      <td>42.526051</td>\n",
              "      <td>Bombing/Explosion</td>\n",
              "      <td>Private Citizens &amp; Property</td>\n",
              "      <td>Explosives</td>\n",
              "      <td>0.0</td>\n",
              "      <td>0.0</td>\n",
              "    </tr>\n",
              "    <tr>\n",
              "      <th>121050</th>\n",
              "      <td>2013</td>\n",
              "      <td>0</td>\n",
              "      <td>South Asia</td>\n",
              "      <td>31.823601</td>\n",
              "      <td>64.564087</td>\n",
              "      <td>Bombing/Explosion</td>\n",
              "      <td>Military</td>\n",
              "      <td>Explosives</td>\n",
              "      <td>2.0</td>\n",
              "      <td>1.0</td>\n",
              "    </tr>\n",
              "    <tr>\n",
              "      <th>67269</th>\n",
              "      <td>1997</td>\n",
              "      <td>0</td>\n",
              "      <td>Sub-Saharan Africa</td>\n",
              "      <td>-1.996892</td>\n",
              "      <td>29.706386</td>\n",
              "      <td>Armed Assault</td>\n",
              "      <td>Police</td>\n",
              "      <td>Firearms</td>\n",
              "      <td>5.0</td>\n",
              "      <td>0.0</td>\n",
              "    </tr>\n",
              "  </tbody>\n",
              "</table>\n",
              "</div>"
            ],
            "text/plain": [
              "        iyear  extended                   region_txt   latitude  longitude  \\\n",
              "146045   2015         0                   South Asia  30.475091  69.365678   \n",
              "171397   2017         0                   South Asia  18.965838  83.451666   \n",
              "52333    1992         0   Middle East & North Africa  38.403111  37.956069   \n",
              "171476   2017         0   Middle East & North Africa  36.354145  43.143570   \n",
              "59505    1995         0           Sub-Saharan Africa  -7.365016  20.815942   \n",
              "7647     1979         0  Central America & Caribbean  12.432570 -86.881204   \n",
              "104155   2011         0   Middle East & North Africa  37.080181  41.220196   \n",
              "165836   2016         0   Middle East & North Africa  18.223461  42.526051   \n",
              "121050   2013         0                   South Asia  31.823601  64.564087   \n",
              "67269    1997         0           Sub-Saharan Africa  -1.996892  29.706386   \n",
              "\n",
              "                       attacktype1_txt                targtype1_txt  \\\n",
              "146045                   Armed Assault                       Police   \n",
              "171397  Facility/Infrastructure Attack               Transportation   \n",
              "52333                    Armed Assault                     Military   \n",
              "171476                         Unknown                     Military   \n",
              "59505                    Armed Assault      Government (Diplomatic)   \n",
              "7647                     Assassination  Private Citizens & Property   \n",
              "104155                   Armed Assault                     Military   \n",
              "165836               Bombing/Explosion  Private Citizens & Property   \n",
              "121050               Bombing/Explosion                     Military   \n",
              "67269                    Armed Assault                       Police   \n",
              "\n",
              "             weaptype1_txt  nkill  nwound  \n",
              "146045            Firearms    1.0     0.0  \n",
              "171397  Sabotage Equipment   34.0    61.0  \n",
              "52333             Firearms    3.0     0.0  \n",
              "171476             Unknown    NaN     NaN  \n",
              "59505             Firearms    0.0     2.0  \n",
              "7647               Unknown    1.0     0.0  \n",
              "104155            Firearms    1.0     1.0  \n",
              "165836          Explosives    0.0     0.0  \n",
              "121050          Explosives    2.0     1.0  \n",
              "67269             Firearms    5.0     0.0  "
            ]
          },
          "metadata": {
            "tags": []
          },
          "execution_count": 11
        }
      ]
    },
    {
      "metadata": {
        "id": "fThTf5bSKKzk",
        "colab_type": "text"
      },
      "cell_type": "markdown",
      "source": [
        "## Data Preprocessing"
      ]
    },
    {
      "metadata": {
        "id": "Jck55Sc0KKzl",
        "colab_type": "text"
      },
      "cell_type": "markdown",
      "source": [
        "#### Missing values"
      ]
    },
    {
      "metadata": {
        "id": "7VfGZfSvKKzm",
        "colab_type": "code",
        "colab": {}
      },
      "cell_type": "code",
      "source": [
        "dataset = dataset.dropna() #Removing the incomplete columns entirely"
      ],
      "execution_count": 0,
      "outputs": []
    },
    {
      "metadata": {
        "id": "3QMJ_ONNKKzr",
        "colab_type": "code",
        "colab": {}
      },
      "cell_type": "code",
      "source": [
        "dataset = dataset.reset_index()"
      ],
      "execution_count": 0,
      "outputs": []
    },
    {
      "metadata": {
        "id": "ZyAKaXZEKKzw",
        "colab_type": "text"
      },
      "cell_type": "markdown",
      "source": [
        "#### Removing irrelevant feature"
      ]
    },
    {
      "metadata": {
        "id": "JM2oQ2BMKKzx",
        "colab_type": "code",
        "colab": {}
      },
      "cell_type": "code",
      "source": [
        "dataset = dataset.drop([\"index\"],axis=1)  #Irrelevant column"
      ],
      "execution_count": 0,
      "outputs": []
    },
    {
      "metadata": {
        "id": "iFdf36hKKKz0",
        "colab_type": "code",
        "outputId": "73e96f1d-bcab-4f95-ea1d-a393684e275e",
        "colab": {
          "base_uri": "https://localhost:8080/",
          "height": 346
        }
      },
      "cell_type": "code",
      "source": [
        "dataset.sample(10)"
      ],
      "execution_count": 0,
      "outputs": [
        {
          "output_type": "execute_result",
          "data": {
            "text/html": [
              "<div>\n",
              "<style scoped>\n",
              "    .dataframe tbody tr th:only-of-type {\n",
              "        vertical-align: middle;\n",
              "    }\n",
              "\n",
              "    .dataframe tbody tr th {\n",
              "        vertical-align: top;\n",
              "    }\n",
              "\n",
              "    .dataframe thead th {\n",
              "        text-align: right;\n",
              "    }\n",
              "</style>\n",
              "<table border=\"1\" class=\"dataframe\">\n",
              "  <thead>\n",
              "    <tr style=\"text-align: right;\">\n",
              "      <th></th>\n",
              "      <th>iyear</th>\n",
              "      <th>extended</th>\n",
              "      <th>region_txt</th>\n",
              "      <th>latitude</th>\n",
              "      <th>longitude</th>\n",
              "      <th>attacktype1_txt</th>\n",
              "      <th>targtype1_txt</th>\n",
              "      <th>weaptype1_txt</th>\n",
              "      <th>nkill</th>\n",
              "      <th>nwound</th>\n",
              "    </tr>\n",
              "  </thead>\n",
              "  <tbody>\n",
              "    <tr>\n",
              "      <th>68543</th>\n",
              "      <td>2006</td>\n",
              "      <td>0</td>\n",
              "      <td>Middle East &amp; North Africa</td>\n",
              "      <td>36.836111</td>\n",
              "      <td>6.137778</td>\n",
              "      <td>Bombing/Explosion</td>\n",
              "      <td>Military</td>\n",
              "      <td>Explosives</td>\n",
              "      <td>0.0</td>\n",
              "      <td>1.0</td>\n",
              "    </tr>\n",
              "    <tr>\n",
              "      <th>18296</th>\n",
              "      <td>1985</td>\n",
              "      <td>0</td>\n",
              "      <td>Southeast Asia</td>\n",
              "      <td>14.679084</td>\n",
              "      <td>120.539549</td>\n",
              "      <td>Unknown</td>\n",
              "      <td>Utilities</td>\n",
              "      <td>Unknown</td>\n",
              "      <td>0.0</td>\n",
              "      <td>0.0</td>\n",
              "    </tr>\n",
              "    <tr>\n",
              "      <th>82795</th>\n",
              "      <td>2010</td>\n",
              "      <td>0</td>\n",
              "      <td>Middle East &amp; North Africa</td>\n",
              "      <td>35.303047</td>\n",
              "      <td>44.329933</td>\n",
              "      <td>Assassination</td>\n",
              "      <td>Police</td>\n",
              "      <td>Explosives</td>\n",
              "      <td>0.0</td>\n",
              "      <td>3.0</td>\n",
              "    </tr>\n",
              "    <tr>\n",
              "      <th>111506</th>\n",
              "      <td>2014</td>\n",
              "      <td>0</td>\n",
              "      <td>South Asia</td>\n",
              "      <td>34.035533</td>\n",
              "      <td>70.574089</td>\n",
              "      <td>Bombing/Explosion</td>\n",
              "      <td>Private Citizens &amp; Property</td>\n",
              "      <td>Explosives</td>\n",
              "      <td>1.0</td>\n",
              "      <td>6.0</td>\n",
              "    </tr>\n",
              "    <tr>\n",
              "      <th>152386</th>\n",
              "      <td>2017</td>\n",
              "      <td>0</td>\n",
              "      <td>Middle East &amp; North Africa</td>\n",
              "      <td>41.106178</td>\n",
              "      <td>28.689863</td>\n",
              "      <td>Facility/Infrastructure Attack</td>\n",
              "      <td>Business</td>\n",
              "      <td>Incendiary</td>\n",
              "      <td>0.0</td>\n",
              "      <td>0.0</td>\n",
              "    </tr>\n",
              "    <tr>\n",
              "      <th>44892</th>\n",
              "      <td>1994</td>\n",
              "      <td>0</td>\n",
              "      <td>Sub-Saharan Africa</td>\n",
              "      <td>-33.652523</td>\n",
              "      <td>26.407557</td>\n",
              "      <td>Assassination</td>\n",
              "      <td>Private Citizens &amp; Property</td>\n",
              "      <td>Firearms</td>\n",
              "      <td>1.0</td>\n",
              "      <td>0.0</td>\n",
              "    </tr>\n",
              "    <tr>\n",
              "      <th>54369</th>\n",
              "      <td>1997</td>\n",
              "      <td>0</td>\n",
              "      <td>South America</td>\n",
              "      <td>6.675200</td>\n",
              "      <td>-74.842110</td>\n",
              "      <td>Hostage Taking (Kidnapping)</td>\n",
              "      <td>Government (General)</td>\n",
              "      <td>Firearms</td>\n",
              "      <td>0.0</td>\n",
              "      <td>0.0</td>\n",
              "    </tr>\n",
              "    <tr>\n",
              "      <th>76678</th>\n",
              "      <td>2008</td>\n",
              "      <td>0</td>\n",
              "      <td>South Asia</td>\n",
              "      <td>28.630806</td>\n",
              "      <td>69.186259</td>\n",
              "      <td>Bombing/Explosion</td>\n",
              "      <td>Utilities</td>\n",
              "      <td>Explosives</td>\n",
              "      <td>0.0</td>\n",
              "      <td>0.0</td>\n",
              "    </tr>\n",
              "    <tr>\n",
              "      <th>46803</th>\n",
              "      <td>1994</td>\n",
              "      <td>0</td>\n",
              "      <td>Middle East &amp; North Africa</td>\n",
              "      <td>41.106178</td>\n",
              "      <td>28.689863</td>\n",
              "      <td>Unknown</td>\n",
              "      <td>Police</td>\n",
              "      <td>Unknown</td>\n",
              "      <td>0.0</td>\n",
              "      <td>1.0</td>\n",
              "    </tr>\n",
              "    <tr>\n",
              "      <th>93787</th>\n",
              "      <td>2012</td>\n",
              "      <td>0</td>\n",
              "      <td>Southeast Asia</td>\n",
              "      <td>6.391460</td>\n",
              "      <td>101.517296</td>\n",
              "      <td>Armed Assault</td>\n",
              "      <td>Military</td>\n",
              "      <td>Explosives</td>\n",
              "      <td>2.0</td>\n",
              "      <td>1.0</td>\n",
              "    </tr>\n",
              "  </tbody>\n",
              "</table>\n",
              "</div>"
            ],
            "text/plain": [
              "        iyear  extended                  region_txt   latitude   longitude  \\\n",
              "68543    2006         0  Middle East & North Africa  36.836111    6.137778   \n",
              "18296    1985         0              Southeast Asia  14.679084  120.539549   \n",
              "82795    2010         0  Middle East & North Africa  35.303047   44.329933   \n",
              "111506   2014         0                  South Asia  34.035533   70.574089   \n",
              "152386   2017         0  Middle East & North Africa  41.106178   28.689863   \n",
              "44892    1994         0          Sub-Saharan Africa -33.652523   26.407557   \n",
              "54369    1997         0               South America   6.675200  -74.842110   \n",
              "76678    2008         0                  South Asia  28.630806   69.186259   \n",
              "46803    1994         0  Middle East & North Africa  41.106178   28.689863   \n",
              "93787    2012         0              Southeast Asia   6.391460  101.517296   \n",
              "\n",
              "                       attacktype1_txt                targtype1_txt  \\\n",
              "68543                Bombing/Explosion                     Military   \n",
              "18296                          Unknown                    Utilities   \n",
              "82795                    Assassination                       Police   \n",
              "111506               Bombing/Explosion  Private Citizens & Property   \n",
              "152386  Facility/Infrastructure Attack                     Business   \n",
              "44892                    Assassination  Private Citizens & Property   \n",
              "54369      Hostage Taking (Kidnapping)         Government (General)   \n",
              "76678                Bombing/Explosion                    Utilities   \n",
              "46803                          Unknown                       Police   \n",
              "93787                    Armed Assault                     Military   \n",
              "\n",
              "       weaptype1_txt  nkill  nwound  \n",
              "68543     Explosives    0.0     1.0  \n",
              "18296        Unknown    0.0     0.0  \n",
              "82795     Explosives    0.0     3.0  \n",
              "111506    Explosives    1.0     6.0  \n",
              "152386    Incendiary    0.0     0.0  \n",
              "44892       Firearms    1.0     0.0  \n",
              "54369       Firearms    0.0     0.0  \n",
              "76678     Explosives    0.0     0.0  \n",
              "46803        Unknown    0.0     1.0  \n",
              "93787     Explosives    2.0     1.0  "
            ]
          },
          "metadata": {
            "tags": []
          },
          "execution_count": 15
        }
      ]
    },
    {
      "metadata": {
        "id": "vC1eAZQ_KKz6",
        "colab_type": "code",
        "colab": {}
      },
      "cell_type": "code",
      "source": [
        "## There is a noticeable number of columns with \"Unknown\" values"
      ],
      "execution_count": 0,
      "outputs": []
    },
    {
      "metadata": {
        "id": "EJj8YWwMKKz9",
        "colab_type": "text"
      },
      "cell_type": "markdown",
      "source": [
        "#### Removing insignificant values"
      ]
    },
    {
      "metadata": {
        "id": "-BjSARHIKK0G",
        "colab_type": "code",
        "colab": {}
      },
      "cell_type": "code",
      "source": [
        "dataset = dataset[dataset[\"attacktype1_txt\"]!=\"Unknown\"]"
      ],
      "execution_count": 0,
      "outputs": []
    },
    {
      "metadata": {
        "id": "O0HH9N-UKK0M",
        "colab_type": "code",
        "colab": {}
      },
      "cell_type": "code",
      "source": [
        "dataset = dataset[dataset[\"targtype1_txt\"]!=\"Unknown\"]"
      ],
      "execution_count": 0,
      "outputs": []
    },
    {
      "metadata": {
        "id": "E8dcsDjlKK0R",
        "colab_type": "code",
        "colab": {}
      },
      "cell_type": "code",
      "source": [
        "dataset = dataset[dataset[\"weaptype1_txt\"]!=\"Unknown\"]"
      ],
      "execution_count": 0,
      "outputs": []
    },
    {
      "metadata": {
        "id": "vF9-98YeKK0U",
        "colab_type": "code",
        "outputId": "a85cdadc-daa5-4289-d1bf-2c12550f1f65",
        "colab": {
          "base_uri": "https://localhost:8080/",
          "height": 346
        }
      },
      "cell_type": "code",
      "source": [
        "dataset.sample(10)"
      ],
      "execution_count": 0,
      "outputs": [
        {
          "output_type": "execute_result",
          "data": {
            "text/html": [
              "<div>\n",
              "<style scoped>\n",
              "    .dataframe tbody tr th:only-of-type {\n",
              "        vertical-align: middle;\n",
              "    }\n",
              "\n",
              "    .dataframe tbody tr th {\n",
              "        vertical-align: top;\n",
              "    }\n",
              "\n",
              "    .dataframe thead th {\n",
              "        text-align: right;\n",
              "    }\n",
              "</style>\n",
              "<table border=\"1\" class=\"dataframe\">\n",
              "  <thead>\n",
              "    <tr style=\"text-align: right;\">\n",
              "      <th></th>\n",
              "      <th>iyear</th>\n",
              "      <th>extended</th>\n",
              "      <th>region_txt</th>\n",
              "      <th>latitude</th>\n",
              "      <th>longitude</th>\n",
              "      <th>attacktype1_txt</th>\n",
              "      <th>targtype1_txt</th>\n",
              "      <th>weaptype1_txt</th>\n",
              "      <th>nkill</th>\n",
              "      <th>nwound</th>\n",
              "    </tr>\n",
              "  </thead>\n",
              "  <tbody>\n",
              "    <tr>\n",
              "      <th>20986</th>\n",
              "      <td>1986</td>\n",
              "      <td>0</td>\n",
              "      <td>South America</td>\n",
              "      <td>5.538128</td>\n",
              "      <td>-73.362191</td>\n",
              "      <td>Armed Assault</td>\n",
              "      <td>Private Citizens &amp; Property</td>\n",
              "      <td>Firearms</td>\n",
              "      <td>5.0</td>\n",
              "      <td>0.0</td>\n",
              "    </tr>\n",
              "    <tr>\n",
              "      <th>81760</th>\n",
              "      <td>2010</td>\n",
              "      <td>0</td>\n",
              "      <td>Middle East &amp; North Africa</td>\n",
              "      <td>36.354145</td>\n",
              "      <td>43.143570</td>\n",
              "      <td>Assassination</td>\n",
              "      <td>Government (General)</td>\n",
              "      <td>Explosives</td>\n",
              "      <td>0.0</td>\n",
              "      <td>3.0</td>\n",
              "    </tr>\n",
              "    <tr>\n",
              "      <th>130372</th>\n",
              "      <td>2015</td>\n",
              "      <td>0</td>\n",
              "      <td>South Asia</td>\n",
              "      <td>34.317813</td>\n",
              "      <td>70.772254</td>\n",
              "      <td>Armed Assault</td>\n",
              "      <td>Police</td>\n",
              "      <td>Firearms</td>\n",
              "      <td>2.0</td>\n",
              "      <td>0.0</td>\n",
              "    </tr>\n",
              "    <tr>\n",
              "      <th>84880</th>\n",
              "      <td>2010</td>\n",
              "      <td>0</td>\n",
              "      <td>Southeast Asia</td>\n",
              "      <td>6.717959</td>\n",
              "      <td>101.593027</td>\n",
              "      <td>Armed Assault</td>\n",
              "      <td>Private Citizens &amp; Property</td>\n",
              "      <td>Firearms</td>\n",
              "      <td>5.0</td>\n",
              "      <td>3.0</td>\n",
              "    </tr>\n",
              "    <tr>\n",
              "      <th>48696</th>\n",
              "      <td>1995</td>\n",
              "      <td>0</td>\n",
              "      <td>South Asia</td>\n",
              "      <td>23.791275</td>\n",
              "      <td>90.418205</td>\n",
              "      <td>Armed Assault</td>\n",
              "      <td>Transportation</td>\n",
              "      <td>Incendiary</td>\n",
              "      <td>0.0</td>\n",
              "      <td>0.0</td>\n",
              "    </tr>\n",
              "    <tr>\n",
              "      <th>152065</th>\n",
              "      <td>2017</td>\n",
              "      <td>0</td>\n",
              "      <td>Middle East &amp; North Africa</td>\n",
              "      <td>36.201721</td>\n",
              "      <td>37.143520</td>\n",
              "      <td>Bombing/Explosion</td>\n",
              "      <td>NGO</td>\n",
              "      <td>Explosives</td>\n",
              "      <td>3.0</td>\n",
              "      <td>7.0</td>\n",
              "    </tr>\n",
              "    <tr>\n",
              "      <th>114496</th>\n",
              "      <td>2014</td>\n",
              "      <td>0</td>\n",
              "      <td>Sub-Saharan Africa</td>\n",
              "      <td>0.053700</td>\n",
              "      <td>40.307877</td>\n",
              "      <td>Bombing/Explosion</td>\n",
              "      <td>Airports &amp; Aircraft</td>\n",
              "      <td>Explosives</td>\n",
              "      <td>0.0</td>\n",
              "      <td>0.0</td>\n",
              "    </tr>\n",
              "    <tr>\n",
              "      <th>70085</th>\n",
              "      <td>2007</td>\n",
              "      <td>0</td>\n",
              "      <td>South Asia</td>\n",
              "      <td>34.916628</td>\n",
              "      <td>68.802411</td>\n",
              "      <td>Assassination</td>\n",
              "      <td>Government (General)</td>\n",
              "      <td>Explosives</td>\n",
              "      <td>0.0</td>\n",
              "      <td>6.0</td>\n",
              "    </tr>\n",
              "    <tr>\n",
              "      <th>87590</th>\n",
              "      <td>2011</td>\n",
              "      <td>0</td>\n",
              "      <td>South Asia</td>\n",
              "      <td>25.578773</td>\n",
              "      <td>91.893254</td>\n",
              "      <td>Armed Assault</td>\n",
              "      <td>Business</td>\n",
              "      <td>Firearms</td>\n",
              "      <td>0.0</td>\n",
              "      <td>6.0</td>\n",
              "    </tr>\n",
              "    <tr>\n",
              "      <th>14105</th>\n",
              "      <td>1983</td>\n",
              "      <td>0</td>\n",
              "      <td>South America</td>\n",
              "      <td>-16.509317</td>\n",
              "      <td>-68.104340</td>\n",
              "      <td>Bombing/Explosion</td>\n",
              "      <td>Government (General)</td>\n",
              "      <td>Explosives</td>\n",
              "      <td>0.0</td>\n",
              "      <td>0.0</td>\n",
              "    </tr>\n",
              "  </tbody>\n",
              "</table>\n",
              "</div>"
            ],
            "text/plain": [
              "        iyear  extended                  region_txt   latitude   longitude  \\\n",
              "20986    1986         0               South America   5.538128  -73.362191   \n",
              "81760    2010         0  Middle East & North Africa  36.354145   43.143570   \n",
              "130372   2015         0                  South Asia  34.317813   70.772254   \n",
              "84880    2010         0              Southeast Asia   6.717959  101.593027   \n",
              "48696    1995         0                  South Asia  23.791275   90.418205   \n",
              "152065   2017         0  Middle East & North Africa  36.201721   37.143520   \n",
              "114496   2014         0          Sub-Saharan Africa   0.053700   40.307877   \n",
              "70085    2007         0                  South Asia  34.916628   68.802411   \n",
              "87590    2011         0                  South Asia  25.578773   91.893254   \n",
              "14105    1983         0               South America -16.509317  -68.104340   \n",
              "\n",
              "          attacktype1_txt                targtype1_txt weaptype1_txt  nkill  \\\n",
              "20986       Armed Assault  Private Citizens & Property      Firearms    5.0   \n",
              "81760       Assassination         Government (General)    Explosives    0.0   \n",
              "130372      Armed Assault                       Police      Firearms    2.0   \n",
              "84880       Armed Assault  Private Citizens & Property      Firearms    5.0   \n",
              "48696       Armed Assault               Transportation    Incendiary    0.0   \n",
              "152065  Bombing/Explosion                          NGO    Explosives    3.0   \n",
              "114496  Bombing/Explosion          Airports & Aircraft    Explosives    0.0   \n",
              "70085       Assassination         Government (General)    Explosives    0.0   \n",
              "87590       Armed Assault                     Business      Firearms    0.0   \n",
              "14105   Bombing/Explosion         Government (General)    Explosives    0.0   \n",
              "\n",
              "        nwound  \n",
              "20986      0.0  \n",
              "81760      3.0  \n",
              "130372     0.0  \n",
              "84880      3.0  \n",
              "48696      0.0  \n",
              "152065     7.0  \n",
              "114496     0.0  \n",
              "70085      6.0  \n",
              "87590      6.0  \n",
              "14105      0.0  "
            ]
          },
          "metadata": {
            "tags": []
          },
          "execution_count": 19
        }
      ]
    },
    {
      "metadata": {
        "id": "99wtndUIKK0Y",
        "colab_type": "text"
      },
      "cell_type": "markdown",
      "source": [
        "#### Combining similar columns"
      ]
    },
    {
      "metadata": {
        "id": "3-2kQIC0KK0Z",
        "colab_type": "code",
        "colab": {}
      },
      "cell_type": "code",
      "source": [
        "dataset[\"impact\"] = dataset[\"nkill\"]+dataset[\"nwound\"]"
      ],
      "execution_count": 0,
      "outputs": []
    },
    {
      "metadata": {
        "id": "IJhZoZmaKK0c",
        "colab_type": "code",
        "colab": {}
      },
      "cell_type": "code",
      "source": [
        "dataset = dataset.drop(\"nkill\", axis=1)\n",
        "dataset = dataset.drop(\"nwound\", axis=1)"
      ],
      "execution_count": 0,
      "outputs": []
    },
    {
      "metadata": {
        "id": "lNO4EvxxKK0e",
        "colab_type": "code",
        "outputId": "2d917209-fc6a-4941-e6fb-d5c0ba602799",
        "colab": {
          "base_uri": "https://localhost:8080/",
          "height": 346
        }
      },
      "cell_type": "code",
      "source": [
        "dataset.sample(10)"
      ],
      "execution_count": 0,
      "outputs": [
        {
          "output_type": "execute_result",
          "data": {
            "text/html": [
              "<div>\n",
              "<style scoped>\n",
              "    .dataframe tbody tr th:only-of-type {\n",
              "        vertical-align: middle;\n",
              "    }\n",
              "\n",
              "    .dataframe tbody tr th {\n",
              "        vertical-align: top;\n",
              "    }\n",
              "\n",
              "    .dataframe thead th {\n",
              "        text-align: right;\n",
              "    }\n",
              "</style>\n",
              "<table border=\"1\" class=\"dataframe\">\n",
              "  <thead>\n",
              "    <tr style=\"text-align: right;\">\n",
              "      <th></th>\n",
              "      <th>iyear</th>\n",
              "      <th>extended</th>\n",
              "      <th>region_txt</th>\n",
              "      <th>latitude</th>\n",
              "      <th>longitude</th>\n",
              "      <th>attacktype1_txt</th>\n",
              "      <th>targtype1_txt</th>\n",
              "      <th>weaptype1_txt</th>\n",
              "      <th>impact</th>\n",
              "    </tr>\n",
              "  </thead>\n",
              "  <tbody>\n",
              "    <tr>\n",
              "      <th>105108</th>\n",
              "      <td>2013</td>\n",
              "      <td>0</td>\n",
              "      <td>Middle East &amp; North Africa</td>\n",
              "      <td>26.200018</td>\n",
              "      <td>50.463268</td>\n",
              "      <td>Bombing/Explosion</td>\n",
              "      <td>Private Citizens &amp; Property</td>\n",
              "      <td>Explosives</td>\n",
              "      <td>3.0</td>\n",
              "    </tr>\n",
              "    <tr>\n",
              "      <th>27032</th>\n",
              "      <td>1988</td>\n",
              "      <td>0</td>\n",
              "      <td>South America</td>\n",
              "      <td>-16.099091</td>\n",
              "      <td>-70.278122</td>\n",
              "      <td>Assassination</td>\n",
              "      <td>Government (General)</td>\n",
              "      <td>Firearms</td>\n",
              "      <td>1.0</td>\n",
              "    </tr>\n",
              "    <tr>\n",
              "      <th>120037</th>\n",
              "      <td>2014</td>\n",
              "      <td>0</td>\n",
              "      <td>Middle East &amp; North Africa</td>\n",
              "      <td>34.438094</td>\n",
              "      <td>35.830837</td>\n",
              "      <td>Armed Assault</td>\n",
              "      <td>Military</td>\n",
              "      <td>Firearms</td>\n",
              "      <td>7.0</td>\n",
              "    </tr>\n",
              "    <tr>\n",
              "      <th>30808</th>\n",
              "      <td>1989</td>\n",
              "      <td>0</td>\n",
              "      <td>South America</td>\n",
              "      <td>5.616667</td>\n",
              "      <td>-54.400000</td>\n",
              "      <td>Armed Assault</td>\n",
              "      <td>Telecommunication</td>\n",
              "      <td>Firearms</td>\n",
              "      <td>0.0</td>\n",
              "    </tr>\n",
              "    <tr>\n",
              "      <th>159829</th>\n",
              "      <td>2017</td>\n",
              "      <td>0</td>\n",
              "      <td>South Asia</td>\n",
              "      <td>27.189105</td>\n",
              "      <td>87.022444</td>\n",
              "      <td>Assassination</td>\n",
              "      <td>Violent Political Party</td>\n",
              "      <td>Explosives</td>\n",
              "      <td>1.0</td>\n",
              "    </tr>\n",
              "    <tr>\n",
              "      <th>157228</th>\n",
              "      <td>2017</td>\n",
              "      <td>0</td>\n",
              "      <td>South Asia</td>\n",
              "      <td>32.434830</td>\n",
              "      <td>69.001649</td>\n",
              "      <td>Armed Assault</td>\n",
              "      <td>Police</td>\n",
              "      <td>Firearms</td>\n",
              "      <td>77.0</td>\n",
              "    </tr>\n",
              "    <tr>\n",
              "      <th>11996</th>\n",
              "      <td>1982</td>\n",
              "      <td>0</td>\n",
              "      <td>Central America &amp; Caribbean</td>\n",
              "      <td>14.563479</td>\n",
              "      <td>-90.982067</td>\n",
              "      <td>Armed Assault</td>\n",
              "      <td>Military</td>\n",
              "      <td>Firearms</td>\n",
              "      <td>22.0</td>\n",
              "    </tr>\n",
              "    <tr>\n",
              "      <th>20912</th>\n",
              "      <td>1986</td>\n",
              "      <td>0</td>\n",
              "      <td>South America</td>\n",
              "      <td>-11.967368</td>\n",
              "      <td>-76.978462</td>\n",
              "      <td>Assassination</td>\n",
              "      <td>Military</td>\n",
              "      <td>Firearms</td>\n",
              "      <td>3.0</td>\n",
              "    </tr>\n",
              "    <tr>\n",
              "      <th>148353</th>\n",
              "      <td>2016</td>\n",
              "      <td>0</td>\n",
              "      <td>Middle East &amp; North Africa</td>\n",
              "      <td>38.516459</td>\n",
              "      <td>40.545739</td>\n",
              "      <td>Armed Assault</td>\n",
              "      <td>Military</td>\n",
              "      <td>Explosives</td>\n",
              "      <td>5.0</td>\n",
              "    </tr>\n",
              "    <tr>\n",
              "      <th>63084</th>\n",
              "      <td>2003</td>\n",
              "      <td>0</td>\n",
              "      <td>South Asia</td>\n",
              "      <td>34.153695</td>\n",
              "      <td>74.667536</td>\n",
              "      <td>Armed Assault</td>\n",
              "      <td>Private Citizens &amp; Property</td>\n",
              "      <td>Firearms</td>\n",
              "      <td>2.0</td>\n",
              "    </tr>\n",
              "  </tbody>\n",
              "</table>\n",
              "</div>"
            ],
            "text/plain": [
              "        iyear  extended                   region_txt   latitude  longitude  \\\n",
              "105108   2013         0   Middle East & North Africa  26.200018  50.463268   \n",
              "27032    1988         0                South America -16.099091 -70.278122   \n",
              "120037   2014         0   Middle East & North Africa  34.438094  35.830837   \n",
              "30808    1989         0                South America   5.616667 -54.400000   \n",
              "159829   2017         0                   South Asia  27.189105  87.022444   \n",
              "157228   2017         0                   South Asia  32.434830  69.001649   \n",
              "11996    1982         0  Central America & Caribbean  14.563479 -90.982067   \n",
              "20912    1986         0                South America -11.967368 -76.978462   \n",
              "148353   2016         0   Middle East & North Africa  38.516459  40.545739   \n",
              "63084    2003         0                   South Asia  34.153695  74.667536   \n",
              "\n",
              "          attacktype1_txt                targtype1_txt weaptype1_txt  impact  \n",
              "105108  Bombing/Explosion  Private Citizens & Property    Explosives     3.0  \n",
              "27032       Assassination         Government (General)      Firearms     1.0  \n",
              "120037      Armed Assault                     Military      Firearms     7.0  \n",
              "30808       Armed Assault            Telecommunication      Firearms     0.0  \n",
              "159829      Assassination      Violent Political Party    Explosives     1.0  \n",
              "157228      Armed Assault                       Police      Firearms    77.0  \n",
              "11996       Armed Assault                     Military      Firearms    22.0  \n",
              "20912       Assassination                     Military      Firearms     3.0  \n",
              "148353      Armed Assault                     Military    Explosives     5.0  \n",
              "63084       Armed Assault  Private Citizens & Property      Firearms     2.0  "
            ]
          },
          "metadata": {
            "tags": []
          },
          "execution_count": 22
        }
      ]
    },
    {
      "metadata": {
        "id": "gY9rFXtOKK0h",
        "colab_type": "text"
      },
      "cell_type": "markdown",
      "source": [
        "#### Dealing with Categorical data"
      ]
    },
    {
      "metadata": {
        "id": "dL23MQs1KK0i",
        "colab_type": "code",
        "outputId": "42ed686a-3693-4de3-86d3-4d49f2509bc6",
        "colab": {
          "base_uri": "https://localhost:8080/",
          "height": 85
        }
      },
      "cell_type": "code",
      "source": [
        "# Checking the number of unique categories of each categorical feature\n",
        "\n",
        "print(\"The number of unique regions are: \"+str(dataset['region_txt'].nunique()))\n",
        "print(\"The number of unique attacks are: \"+str(dataset['attacktype1_txt'].nunique()))\n",
        "print(\"The number of unique targets are: \"+str(dataset['targtype1_txt'].nunique()))\n",
        "print(\"The number of unique weapons are: \"+str(dataset['weaptype1_txt'].nunique()))"
      ],
      "execution_count": 0,
      "outputs": [
        {
          "output_type": "stream",
          "text": [
            "The number of unique regions are: 12\n",
            "The number of unique attacks are: 8\n",
            "The number of unique targets are: 21\n",
            "The number of unique weapons are: 11\n"
          ],
          "name": "stdout"
        }
      ]
    },
    {
      "metadata": {
        "id": "ekoTQTphKK0m",
        "colab_type": "code",
        "colab": {}
      },
      "cell_type": "code",
      "source": [
        "dataset = pd.concat([dataset, pd.get_dummies(dataset['region_txt'], prefix='reg')], axis=1)\n",
        "dataset = pd.concat([dataset, pd.get_dummies(dataset['attacktype1_txt'], prefix='atck')], axis=1)\n",
        "dataset = pd.concat([dataset, pd.get_dummies(dataset['targtype1_txt'], prefix='targ')], axis=1)\n",
        "dataset = pd.concat([dataset, pd.get_dummies(dataset['weaptype1_txt'], prefix='wpn')], axis=1)"
      ],
      "execution_count": 0,
      "outputs": []
    },
    {
      "metadata": {
        "id": "LNfXfv89KK0p",
        "colab_type": "code",
        "colab": {}
      },
      "cell_type": "code",
      "source": [
        "dataset = dataset.drop([\"region_txt\"],axis=1)\n",
        "dataset = dataset.drop([\"attacktype1_txt\"],axis=1)\n",
        "dataset = dataset.drop([\"targtype1_txt\"],axis=1)\n",
        "dataset = dataset.drop([\"weaptype1_txt\"],axis=1)"
      ],
      "execution_count": 0,
      "outputs": []
    },
    {
      "metadata": {
        "id": "hhIEq-nYKK0s",
        "colab_type": "code",
        "outputId": "3843dd1c-c7f0-4ffd-a1bf-941c8e93dbc4",
        "colab": {
          "base_uri": "https://localhost:8080/",
          "height": 34
        }
      },
      "cell_type": "code",
      "source": [
        "dataset.shape"
      ],
      "execution_count": 0,
      "outputs": [
        {
          "output_type": "execute_result",
          "data": {
            "text/plain": [
              "(143940, 57)"
            ]
          },
          "metadata": {
            "tags": []
          },
          "execution_count": 19
        }
      ]
    },
    {
      "metadata": {
        "id": "N7GBAFvOKK0w",
        "colab_type": "code",
        "outputId": "3e505962-de4a-402f-d827-50a41d3f2279",
        "colab": {
          "base_uri": "https://localhost:8080/",
          "height": 532
        }
      },
      "cell_type": "code",
      "source": [
        "dataset.sample(10)"
      ],
      "execution_count": 0,
      "outputs": [
        {
          "output_type": "execute_result",
          "data": {
            "text/html": [
              "<div>\n",
              "<style scoped>\n",
              "    .dataframe tbody tr th:only-of-type {\n",
              "        vertical-align: middle;\n",
              "    }\n",
              "\n",
              "    .dataframe tbody tr th {\n",
              "        vertical-align: top;\n",
              "    }\n",
              "\n",
              "    .dataframe thead th {\n",
              "        text-align: right;\n",
              "    }\n",
              "</style>\n",
              "<table border=\"1\" class=\"dataframe\">\n",
              "  <thead>\n",
              "    <tr style=\"text-align: right;\">\n",
              "      <th></th>\n",
              "      <th>iyear</th>\n",
              "      <th>extended</th>\n",
              "      <th>latitude</th>\n",
              "      <th>longitude</th>\n",
              "      <th>impact</th>\n",
              "      <th>reg_Australasia &amp; Oceania</th>\n",
              "      <th>reg_Central America &amp; Caribbean</th>\n",
              "      <th>reg_Central Asia</th>\n",
              "      <th>reg_East Asia</th>\n",
              "      <th>reg_Eastern Europe</th>\n",
              "      <th>...</th>\n",
              "      <th>wpn_Chemical</th>\n",
              "      <th>wpn_Explosives</th>\n",
              "      <th>wpn_Fake Weapons</th>\n",
              "      <th>wpn_Firearms</th>\n",
              "      <th>wpn_Incendiary</th>\n",
              "      <th>wpn_Melee</th>\n",
              "      <th>wpn_Other</th>\n",
              "      <th>wpn_Radiological</th>\n",
              "      <th>wpn_Sabotage Equipment</th>\n",
              "      <th>wpn_Vehicle (not to include vehicle-borne explosives, i.e., car or truck bombs)</th>\n",
              "    </tr>\n",
              "  </thead>\n",
              "  <tbody>\n",
              "    <tr>\n",
              "      <th>10760</th>\n",
              "      <td>1981</td>\n",
              "      <td>0</td>\n",
              "      <td>4.667128</td>\n",
              "      <td>-74.106056</td>\n",
              "      <td>1.0</td>\n",
              "      <td>0</td>\n",
              "      <td>0</td>\n",
              "      <td>0</td>\n",
              "      <td>0</td>\n",
              "      <td>0</td>\n",
              "      <td>...</td>\n",
              "      <td>0</td>\n",
              "      <td>1</td>\n",
              "      <td>0</td>\n",
              "      <td>0</td>\n",
              "      <td>0</td>\n",
              "      <td>0</td>\n",
              "      <td>0</td>\n",
              "      <td>0</td>\n",
              "      <td>0</td>\n",
              "      <td>0</td>\n",
              "    </tr>\n",
              "    <tr>\n",
              "      <th>9123</th>\n",
              "      <td>1980</td>\n",
              "      <td>0</td>\n",
              "      <td>26.200605</td>\n",
              "      <td>92.937574</td>\n",
              "      <td>0.0</td>\n",
              "      <td>0</td>\n",
              "      <td>0</td>\n",
              "      <td>0</td>\n",
              "      <td>0</td>\n",
              "      <td>0</td>\n",
              "      <td>...</td>\n",
              "      <td>0</td>\n",
              "      <td>1</td>\n",
              "      <td>0</td>\n",
              "      <td>0</td>\n",
              "      <td>0</td>\n",
              "      <td>0</td>\n",
              "      <td>0</td>\n",
              "      <td>0</td>\n",
              "      <td>0</td>\n",
              "      <td>0</td>\n",
              "    </tr>\n",
              "    <tr>\n",
              "      <th>13328</th>\n",
              "      <td>1983</td>\n",
              "      <td>0</td>\n",
              "      <td>6.091880</td>\n",
              "      <td>-75.636150</td>\n",
              "      <td>1.0</td>\n",
              "      <td>0</td>\n",
              "      <td>0</td>\n",
              "      <td>0</td>\n",
              "      <td>0</td>\n",
              "      <td>0</td>\n",
              "      <td>...</td>\n",
              "      <td>0</td>\n",
              "      <td>0</td>\n",
              "      <td>0</td>\n",
              "      <td>1</td>\n",
              "      <td>0</td>\n",
              "      <td>0</td>\n",
              "      <td>0</td>\n",
              "      <td>0</td>\n",
              "      <td>0</td>\n",
              "      <td>0</td>\n",
              "    </tr>\n",
              "    <tr>\n",
              "      <th>137235</th>\n",
              "      <td>2015</td>\n",
              "      <td>0</td>\n",
              "      <td>54.085787</td>\n",
              "      <td>13.864722</td>\n",
              "      <td>0.0</td>\n",
              "      <td>0</td>\n",
              "      <td>0</td>\n",
              "      <td>0</td>\n",
              "      <td>0</td>\n",
              "      <td>0</td>\n",
              "      <td>...</td>\n",
              "      <td>0</td>\n",
              "      <td>0</td>\n",
              "      <td>0</td>\n",
              "      <td>0</td>\n",
              "      <td>1</td>\n",
              "      <td>0</td>\n",
              "      <td>0</td>\n",
              "      <td>0</td>\n",
              "      <td>0</td>\n",
              "      <td>0</td>\n",
              "    </tr>\n",
              "    <tr>\n",
              "      <th>109710</th>\n",
              "      <td>2013</td>\n",
              "      <td>0</td>\n",
              "      <td>10.725533</td>\n",
              "      <td>122.552480</td>\n",
              "      <td>1.0</td>\n",
              "      <td>0</td>\n",
              "      <td>0</td>\n",
              "      <td>0</td>\n",
              "      <td>0</td>\n",
              "      <td>0</td>\n",
              "      <td>...</td>\n",
              "      <td>0</td>\n",
              "      <td>0</td>\n",
              "      <td>0</td>\n",
              "      <td>1</td>\n",
              "      <td>0</td>\n",
              "      <td>0</td>\n",
              "      <td>0</td>\n",
              "      <td>0</td>\n",
              "      <td>0</td>\n",
              "      <td>0</td>\n",
              "    </tr>\n",
              "    <tr>\n",
              "      <th>34889</th>\n",
              "      <td>1990</td>\n",
              "      <td>0</td>\n",
              "      <td>-29.906897</td>\n",
              "      <td>-71.251030</td>\n",
              "      <td>0.0</td>\n",
              "      <td>0</td>\n",
              "      <td>0</td>\n",
              "      <td>0</td>\n",
              "      <td>0</td>\n",
              "      <td>0</td>\n",
              "      <td>...</td>\n",
              "      <td>0</td>\n",
              "      <td>1</td>\n",
              "      <td>0</td>\n",
              "      <td>0</td>\n",
              "      <td>0</td>\n",
              "      <td>0</td>\n",
              "      <td>0</td>\n",
              "      <td>0</td>\n",
              "      <td>0</td>\n",
              "      <td>0</td>\n",
              "    </tr>\n",
              "    <tr>\n",
              "      <th>72280</th>\n",
              "      <td>2008</td>\n",
              "      <td>0</td>\n",
              "      <td>31.499713</td>\n",
              "      <td>65.000854</td>\n",
              "      <td>2.0</td>\n",
              "      <td>0</td>\n",
              "      <td>0</td>\n",
              "      <td>0</td>\n",
              "      <td>0</td>\n",
              "      <td>0</td>\n",
              "      <td>...</td>\n",
              "      <td>0</td>\n",
              "      <td>0</td>\n",
              "      <td>0</td>\n",
              "      <td>1</td>\n",
              "      <td>0</td>\n",
              "      <td>0</td>\n",
              "      <td>0</td>\n",
              "      <td>0</td>\n",
              "      <td>0</td>\n",
              "      <td>0</td>\n",
              "    </tr>\n",
              "    <tr>\n",
              "      <th>3356</th>\n",
              "      <td>1977</td>\n",
              "      <td>0</td>\n",
              "      <td>37.742242</td>\n",
              "      <td>-25.674950</td>\n",
              "      <td>0.0</td>\n",
              "      <td>0</td>\n",
              "      <td>0</td>\n",
              "      <td>0</td>\n",
              "      <td>0</td>\n",
              "      <td>0</td>\n",
              "      <td>...</td>\n",
              "      <td>0</td>\n",
              "      <td>1</td>\n",
              "      <td>0</td>\n",
              "      <td>0</td>\n",
              "      <td>0</td>\n",
              "      <td>0</td>\n",
              "      <td>0</td>\n",
              "      <td>0</td>\n",
              "      <td>0</td>\n",
              "      <td>0</td>\n",
              "    </tr>\n",
              "    <tr>\n",
              "      <th>149165</th>\n",
              "      <td>2016</td>\n",
              "      <td>0</td>\n",
              "      <td>31.250196</td>\n",
              "      <td>34.241280</td>\n",
              "      <td>1.0</td>\n",
              "      <td>0</td>\n",
              "      <td>0</td>\n",
              "      <td>0</td>\n",
              "      <td>0</td>\n",
              "      <td>0</td>\n",
              "      <td>...</td>\n",
              "      <td>0</td>\n",
              "      <td>0</td>\n",
              "      <td>0</td>\n",
              "      <td>1</td>\n",
              "      <td>0</td>\n",
              "      <td>0</td>\n",
              "      <td>0</td>\n",
              "      <td>0</td>\n",
              "      <td>0</td>\n",
              "      <td>0</td>\n",
              "    </tr>\n",
              "    <tr>\n",
              "      <th>14107</th>\n",
              "      <td>1983</td>\n",
              "      <td>0</td>\n",
              "      <td>-11.967368</td>\n",
              "      <td>-76.978462</td>\n",
              "      <td>0.0</td>\n",
              "      <td>0</td>\n",
              "      <td>0</td>\n",
              "      <td>0</td>\n",
              "      <td>0</td>\n",
              "      <td>0</td>\n",
              "      <td>...</td>\n",
              "      <td>0</td>\n",
              "      <td>1</td>\n",
              "      <td>0</td>\n",
              "      <td>0</td>\n",
              "      <td>0</td>\n",
              "      <td>0</td>\n",
              "      <td>0</td>\n",
              "      <td>0</td>\n",
              "      <td>0</td>\n",
              "      <td>0</td>\n",
              "    </tr>\n",
              "  </tbody>\n",
              "</table>\n",
              "<p>10 rows × 57 columns</p>\n",
              "</div>"
            ],
            "text/plain": [
              "        iyear  extended   latitude   longitude  impact  \\\n",
              "10760    1981         0   4.667128  -74.106056     1.0   \n",
              "9123     1980         0  26.200605   92.937574     0.0   \n",
              "13328    1983         0   6.091880  -75.636150     1.0   \n",
              "137235   2015         0  54.085787   13.864722     0.0   \n",
              "109710   2013         0  10.725533  122.552480     1.0   \n",
              "34889    1990         0 -29.906897  -71.251030     0.0   \n",
              "72280    2008         0  31.499713   65.000854     2.0   \n",
              "3356     1977         0  37.742242  -25.674950     0.0   \n",
              "149165   2016         0  31.250196   34.241280     1.0   \n",
              "14107    1983         0 -11.967368  -76.978462     0.0   \n",
              "\n",
              "        reg_Australasia & Oceania  reg_Central America & Caribbean  \\\n",
              "10760                           0                                0   \n",
              "9123                            0                                0   \n",
              "13328                           0                                0   \n",
              "137235                          0                                0   \n",
              "109710                          0                                0   \n",
              "34889                           0                                0   \n",
              "72280                           0                                0   \n",
              "3356                            0                                0   \n",
              "149165                          0                                0   \n",
              "14107                           0                                0   \n",
              "\n",
              "        reg_Central Asia  reg_East Asia  reg_Eastern Europe  \\\n",
              "10760                  0              0                   0   \n",
              "9123                   0              0                   0   \n",
              "13328                  0              0                   0   \n",
              "137235                 0              0                   0   \n",
              "109710                 0              0                   0   \n",
              "34889                  0              0                   0   \n",
              "72280                  0              0                   0   \n",
              "3356                   0              0                   0   \n",
              "149165                 0              0                   0   \n",
              "14107                  0              0                   0   \n",
              "\n",
              "                                             ...                                         \\\n",
              "10760                                        ...                                          \n",
              "9123                                         ...                                          \n",
              "13328                                        ...                                          \n",
              "137235                                       ...                                          \n",
              "109710                                       ...                                          \n",
              "34889                                        ...                                          \n",
              "72280                                        ...                                          \n",
              "3356                                         ...                                          \n",
              "149165                                       ...                                          \n",
              "14107                                        ...                                          \n",
              "\n",
              "        wpn_Chemical  wpn_Explosives  wpn_Fake Weapons  wpn_Firearms  \\\n",
              "10760              0               1                 0             0   \n",
              "9123               0               1                 0             0   \n",
              "13328              0               0                 0             1   \n",
              "137235             0               0                 0             0   \n",
              "109710             0               0                 0             1   \n",
              "34889              0               1                 0             0   \n",
              "72280              0               0                 0             1   \n",
              "3356               0               1                 0             0   \n",
              "149165             0               0                 0             1   \n",
              "14107              0               1                 0             0   \n",
              "\n",
              "        wpn_Incendiary  wpn_Melee  wpn_Other  wpn_Radiological  \\\n",
              "10760                0          0          0                 0   \n",
              "9123                 0          0          0                 0   \n",
              "13328                0          0          0                 0   \n",
              "137235               1          0          0                 0   \n",
              "109710               0          0          0                 0   \n",
              "34889                0          0          0                 0   \n",
              "72280                0          0          0                 0   \n",
              "3356                 0          0          0                 0   \n",
              "149165               0          0          0                 0   \n",
              "14107                0          0          0                 0   \n",
              "\n",
              "        wpn_Sabotage Equipment  \\\n",
              "10760                        0   \n",
              "9123                         0   \n",
              "13328                        0   \n",
              "137235                       0   \n",
              "109710                       0   \n",
              "34889                        0   \n",
              "72280                        0   \n",
              "3356                         0   \n",
              "149165                       0   \n",
              "14107                        0   \n",
              "\n",
              "        wpn_Vehicle (not to include vehicle-borne explosives, i.e., car or truck bombs)  \n",
              "10760                                                   0                                \n",
              "9123                                                    0                                \n",
              "13328                                                   0                                \n",
              "137235                                                  0                                \n",
              "109710                                                  0                                \n",
              "34889                                                   0                                \n",
              "72280                                                   0                                \n",
              "3356                                                    0                                \n",
              "149165                                                  0                                \n",
              "14107                                                   0                                \n",
              "\n",
              "[10 rows x 57 columns]"
            ]
          },
          "metadata": {
            "tags": []
          },
          "execution_count": 28
        }
      ]
    },
    {
      "metadata": {
        "id": "Obu9bKyUKK0z",
        "colab_type": "text"
      },
      "cell_type": "markdown",
      "source": [
        "#### Anaysing the \"Impact\" feature"
      ]
    },
    {
      "metadata": {
        "id": "W579p4HxKK0z",
        "colab_type": "code",
        "outputId": "370cc478-bf35-4da6-c4d1-4de8e37bd01a",
        "colab": {
          "base_uri": "https://localhost:8080/",
          "height": 170
        }
      },
      "cell_type": "code",
      "source": [
        "dataset[\"impact\"].describe()"
      ],
      "execution_count": 0,
      "outputs": [
        {
          "output_type": "execute_result",
          "data": {
            "text/plain": [
              "count    143940.000000\n",
              "mean          5.536543\n",
              "std          44.752296\n",
              "min           0.000000\n",
              "25%           0.000000\n",
              "50%           1.000000\n",
              "75%           4.000000\n",
              "max        9574.000000\n",
              "Name: impact, dtype: float64"
            ]
          },
          "metadata": {
            "tags": []
          },
          "execution_count": 27
        }
      ]
    },
    {
      "metadata": {
        "id": "G9_pgySmKK02",
        "colab_type": "code",
        "outputId": "4d7609b5-496b-4234-c09e-63e1c031a746",
        "colab": {
          "base_uri": "https://localhost:8080/",
          "height": 34
        }
      },
      "cell_type": "code",
      "source": [
        "dataset[\"impact\"].skew()"
      ],
      "execution_count": 0,
      "outputs": [
        {
          "output_type": "execute_result",
          "data": {
            "text/plain": [
              "156.62155926656342"
            ]
          },
          "metadata": {
            "tags": []
          },
          "execution_count": 28
        }
      ]
    },
    {
      "metadata": {
        "id": "FtHTIJHXKK07",
        "colab_type": "code",
        "outputId": "b628fa0f-f707-4486-9c5a-304af59258dc",
        "colab": {
          "base_uri": "https://localhost:8080/",
          "height": 299
        }
      },
      "cell_type": "code",
      "source": [
        "plt.hist(dataset[\"impact\"])\n",
        "plt.xlabel(\"Impact (Number of casualties + wounded)\")\n",
        "plt.ylabel(\"Count\")"
      ],
      "execution_count": 0,
      "outputs": [
        {
          "output_type": "execute_result",
          "data": {
            "text/plain": [
              "Text(0, 0.5, 'Count')"
            ]
          },
          "metadata": {
            "tags": []
          },
          "execution_count": 22
        },
        {
          "output_type": "display_data",
          "data": {
            "image/png": "[encoded data removed]",
            "text/plain": [
              "<Figure size 432x288 with 1 Axes>"
            ]
          },
          "metadata": {
            "tags": []
          }
        }
      ]
    },
    {
      "metadata": {
        "id": "hFfwRl56KK1A",
        "colab_type": "text"
      },
      "cell_type": "markdown",
      "source": [
        "###### Clearly, the impact feature lies majorly below 200. Let's confine the feature to remove any outliers "
      ]
    },
    {
      "metadata": {
        "id": "RPhrBoKpKK1B",
        "colab_type": "code",
        "colab": {}
      },
      "cell_type": "code",
      "source": [
        "dataset = dataset[dataset[\"impact\"]<150]\n",
        "dataset = dataset[dataset[\"impact\"]>0]"
      ],
      "execution_count": 0,
      "outputs": []
    },
    {
      "metadata": {
        "id": "LE-t3Q6CKK1D",
        "colab_type": "code",
        "outputId": "1f93236e-1bba-49fc-b23f-046848dbc3a7",
        "colab": {
          "base_uri": "https://localhost:8080/",
          "height": 1075
        }
      },
      "cell_type": "code",
      "source": [
        "# Checking the number many number of kills/wounded people:\n",
        "\n",
        "dataset[\"impact\"].value_counts()"
      ],
      "execution_count": 0,
      "outputs": [
        {
          "output_type": "execute_result",
          "data": {
            "text/plain": [
              "1.0      26799\n",
              "2.0      13791\n",
              "3.0       9208\n",
              "4.0       6802\n",
              "5.0       5153\n",
              "6.0       3829\n",
              "7.0       3287\n",
              "8.0       2566\n",
              "9.0       2120\n",
              "10.0      1828\n",
              "11.0      1443\n",
              "12.0      1191\n",
              "13.0       987\n",
              "15.0       878\n",
              "14.0       859\n",
              "16.0       717\n",
              "17.0       618\n",
              "20.0       582\n",
              "18.0       553\n",
              "19.0       439\n",
              "21.0       402\n",
              "22.0       385\n",
              "23.0       335\n",
              "25.0       303\n",
              "24.0       295\n",
              "30.0       286\n",
              "27.0       253\n",
              "26.0       245\n",
              "28.0       238\n",
              "29.0       173\n",
              "         ...  \n",
              "125.0        8\n",
              "123.0        7\n",
              "109.0        7\n",
              "124.0        7\n",
              "132.0        7\n",
              "83.0         7\n",
              "133.0        6\n",
              "114.0        6\n",
              "121.0        6\n",
              "131.0        6\n",
              "140.0        6\n",
              "119.0        5\n",
              "128.0        5\n",
              "148.0        5\n",
              "141.0        5\n",
              "143.0        5\n",
              "116.0        4\n",
              "144.0        4\n",
              "129.0        4\n",
              "122.0        4\n",
              "139.0        4\n",
              "146.0        3\n",
              "149.0        3\n",
              "145.0        3\n",
              "137.0        2\n",
              "136.0        2\n",
              "117.0        1\n",
              "23.5         1\n",
              "147.0        1\n",
              "16.5         1\n",
              "Name: impact, Length: 151, dtype: int64"
            ]
          },
          "metadata": {
            "tags": []
          },
          "execution_count": 33
        }
      ]
    },
    {
      "metadata": {
        "id": "K3ydrhDVKK1I",
        "colab_type": "code",
        "outputId": "ad51569f-273d-4c4d-a64f-79a509c79634",
        "colab": {
          "base_uri": "https://localhost:8080/",
          "height": 34
        }
      },
      "cell_type": "code",
      "source": [
        "dataset.shape"
      ],
      "execution_count": 0,
      "outputs": [
        {
          "output_type": "execute_result",
          "data": {
            "text/plain": [
              "(90778, 57)"
            ]
          },
          "metadata": {
            "tags": []
          },
          "execution_count": 34
        }
      ]
    },
    {
      "metadata": {
        "id": "0G6aVRZFKK1L",
        "colab_type": "text"
      },
      "cell_type": "markdown",
      "source": [
        "## Correlation analysis"
      ]
    },
    {
      "metadata": {
        "id": "5c8yHe5QKK1M",
        "colab_type": "code",
        "outputId": "7145a73d-a6c2-4d8f-e062-17d1134e7d1b",
        "colab": {
          "base_uri": "https://localhost:8080/",
          "height": 2191
        }
      },
      "cell_type": "code",
      "source": [
        "dataset.corr()"
      ],
      "execution_count": 0,
      "outputs": [
        {
          "output_type": "execute_result",
          "data": {
            "text/html": [
              "<div>\n",
              "<style scoped>\n",
              "    .dataframe tbody tr th:only-of-type {\n",
              "        vertical-align: middle;\n",
              "    }\n",
              "\n",
              "    .dataframe tbody tr th {\n",
              "        vertical-align: top;\n",
              "    }\n",
              "\n",
              "    .dataframe thead th {\n",
              "        text-align: right;\n",
              "    }\n",
              "</style>\n",
              "<table border=\"1\" class=\"dataframe\">\n",
              "  <thead>\n",
              "    <tr style=\"text-align: right;\">\n",
              "      <th></th>\n",
              "      <th>iyear</th>\n",
              "      <th>extended</th>\n",
              "      <th>latitude</th>\n",
              "      <th>longitude</th>\n",
              "      <th>impact</th>\n",
              "      <th>reg_Australasia &amp; Oceania</th>\n",
              "      <th>reg_Central America &amp; Caribbean</th>\n",
              "      <th>reg_Central Asia</th>\n",
              "      <th>reg_East Asia</th>\n",
              "      <th>reg_Eastern Europe</th>\n",
              "      <th>...</th>\n",
              "      <th>wpn_Chemical</th>\n",
              "      <th>wpn_Explosives</th>\n",
              "      <th>wpn_Fake Weapons</th>\n",
              "      <th>wpn_Firearms</th>\n",
              "      <th>wpn_Incendiary</th>\n",
              "      <th>wpn_Melee</th>\n",
              "      <th>wpn_Other</th>\n",
              "      <th>wpn_Radiological</th>\n",
              "      <th>wpn_Sabotage Equipment</th>\n",
              "      <th>wpn_Vehicle (not to include vehicle-borne explosives, i.e., car or truck bombs)</th>\n",
              "    </tr>\n",
              "  </thead>\n",
              "  <tbody>\n",
              "    <tr>\n",
              "      <th>iyear</th>\n",
              "      <td>1.000000</td>\n",
              "      <td>0.040645</td>\n",
              "      <td>0.223131</td>\n",
              "      <td>0.006771</td>\n",
              "      <td>-0.001960</td>\n",
              "      <td>-0.031645</td>\n",
              "      <td>-0.347516</td>\n",
              "      <td>-0.025339</td>\n",
              "      <td>-0.021063</td>\n",
              "      <td>0.020556</td>\n",
              "      <td>...</td>\n",
              "      <td>0.008150</td>\n",
              "      <td>0.244620</td>\n",
              "      <td>NaN</td>\n",
              "      <td>-0.238790</td>\n",
              "      <td>-0.031998</td>\n",
              "      <td>-0.004055</td>\n",
              "      <td>0.008009</td>\n",
              "      <td>NaN</td>\n",
              "      <td>-0.003294</td>\n",
              "      <td>0.012740</td>\n",
              "    </tr>\n",
              "    <tr>\n",
              "      <th>extended</th>\n",
              "      <td>0.040645</td>\n",
              "      <td>1.000000</td>\n",
              "      <td>-0.016047</td>\n",
              "      <td>0.000465</td>\n",
              "      <td>0.003566</td>\n",
              "      <td>-0.001414</td>\n",
              "      <td>-0.017032</td>\n",
              "      <td>0.002794</td>\n",
              "      <td>-0.007075</td>\n",
              "      <td>0.003483</td>\n",
              "      <td>...</td>\n",
              "      <td>-0.005957</td>\n",
              "      <td>-0.115115</td>\n",
              "      <td>NaN</td>\n",
              "      <td>0.088602</td>\n",
              "      <td>0.003980</td>\n",
              "      <td>0.074474</td>\n",
              "      <td>0.009997</td>\n",
              "      <td>NaN</td>\n",
              "      <td>-0.001729</td>\n",
              "      <td>-0.004645</td>\n",
              "    </tr>\n",
              "    <tr>\n",
              "      <th>latitude</th>\n",
              "      <td>0.223131</td>\n",
              "      <td>-0.016047</td>\n",
              "      <td>1.000000</td>\n",
              "      <td>0.002452</td>\n",
              "      <td>0.013110</td>\n",
              "      <td>-0.079883</td>\n",
              "      <td>-0.127114</td>\n",
              "      <td>0.059696</td>\n",
              "      <td>0.028351</td>\n",
              "      <td>0.213964</td>\n",
              "      <td>...</td>\n",
              "      <td>0.014365</td>\n",
              "      <td>0.210211</td>\n",
              "      <td>NaN</td>\n",
              "      <td>-0.209627</td>\n",
              "      <td>-0.028161</td>\n",
              "      <td>0.007688</td>\n",
              "      <td>-0.005178</td>\n",
              "      <td>NaN</td>\n",
              "      <td>-0.007504</td>\n",
              "      <td>0.016551</td>\n",
              "    </tr>\n",
              "    <tr>\n",
              "      <th>longitude</th>\n",
              "      <td>0.006771</td>\n",
              "      <td>0.000465</td>\n",
              "      <td>0.002452</td>\n",
              "      <td>1.000000</td>\n",
              "      <td>0.000592</td>\n",
              "      <td>0.000110</td>\n",
              "      <td>-0.016638</td>\n",
              "      <td>0.000199</td>\n",
              "      <td>0.000182</td>\n",
              "      <td>0.000539</td>\n",
              "      <td>...</td>\n",
              "      <td>0.000143</td>\n",
              "      <td>0.003312</td>\n",
              "      <td>NaN</td>\n",
              "      <td>-0.003639</td>\n",
              "      <td>0.000361</td>\n",
              "      <td>0.000601</td>\n",
              "      <td>0.000080</td>\n",
              "      <td>NaN</td>\n",
              "      <td>0.000041</td>\n",
              "      <td>0.000109</td>\n",
              "    </tr>\n",
              "    <tr>\n",
              "      <th>impact</th>\n",
              "      <td>-0.001960</td>\n",
              "      <td>0.003566</td>\n",
              "      <td>0.013110</td>\n",
              "      <td>0.000592</td>\n",
              "      <td>1.000000</td>\n",
              "      <td>-0.005809</td>\n",
              "      <td>0.007789</td>\n",
              "      <td>-0.006164</td>\n",
              "      <td>0.018062</td>\n",
              "      <td>-0.021413</td>\n",
              "      <td>...</td>\n",
              "      <td>0.046599</td>\n",
              "      <td>0.192609</td>\n",
              "      <td>NaN</td>\n",
              "      <td>-0.179817</td>\n",
              "      <td>-0.008044</td>\n",
              "      <td>-0.045560</td>\n",
              "      <td>-0.005656</td>\n",
              "      <td>NaN</td>\n",
              "      <td>0.016700</td>\n",
              "      <td>0.002602</td>\n",
              "    </tr>\n",
              "    <tr>\n",
              "      <th>reg_Australasia &amp; Oceania</th>\n",
              "      <td>-0.031645</td>\n",
              "      <td>-0.001414</td>\n",
              "      <td>-0.079883</td>\n",
              "      <td>0.000110</td>\n",
              "      <td>-0.005809</td>\n",
              "      <td>1.000000</td>\n",
              "      <td>-0.005956</td>\n",
              "      <td>-0.001750</td>\n",
              "      <td>-0.001510</td>\n",
              "      <td>-0.004815</td>\n",
              "      <td>...</td>\n",
              "      <td>0.016108</td>\n",
              "      <td>-0.015312</td>\n",
              "      <td>NaN</td>\n",
              "      <td>0.010740</td>\n",
              "      <td>0.000147</td>\n",
              "      <td>0.007367</td>\n",
              "      <td>-0.000718</td>\n",
              "      <td>NaN</td>\n",
              "      <td>-0.000369</td>\n",
              "      <td>0.010145</td>\n",
              "    </tr>\n",
              "    <tr>\n",
              "      <th>reg_Central America &amp; Caribbean</th>\n",
              "      <td>-0.347516</td>\n",
              "      <td>-0.017032</td>\n",
              "      <td>-0.127114</td>\n",
              "      <td>-0.016638</td>\n",
              "      <td>0.007789</td>\n",
              "      <td>-0.005956</td>\n",
              "      <td>1.000000</td>\n",
              "      <td>-0.011816</td>\n",
              "      <td>-0.010195</td>\n",
              "      <td>-0.032515</td>\n",
              "      <td>...</td>\n",
              "      <td>-0.008584</td>\n",
              "      <td>-0.148153</td>\n",
              "      <td>NaN</td>\n",
              "      <td>0.158931</td>\n",
              "      <td>-0.007878</td>\n",
              "      <td>-0.021860</td>\n",
              "      <td>-0.004847</td>\n",
              "      <td>NaN</td>\n",
              "      <td>0.006712</td>\n",
              "      <td>0.000162</td>\n",
              "    </tr>\n",
              "    <tr>\n",
              "      <th>reg_Central Asia</th>\n",
              "      <td>-0.025339</td>\n",
              "      <td>0.002794</td>\n",
              "      <td>0.059696</td>\n",
              "      <td>0.000199</td>\n",
              "      <td>-0.006164</td>\n",
              "      <td>-0.001750</td>\n",
              "      <td>-0.011816</td>\n",
              "      <td>1.000000</td>\n",
              "      <td>-0.002995</td>\n",
              "      <td>-0.009552</td>\n",
              "      <td>...</td>\n",
              "      <td>0.001870</td>\n",
              "      <td>-0.008074</td>\n",
              "      <td>NaN</td>\n",
              "      <td>0.006927</td>\n",
              "      <td>-0.001305</td>\n",
              "      <td>0.004372</td>\n",
              "      <td>-0.001424</td>\n",
              "      <td>NaN</td>\n",
              "      <td>-0.000732</td>\n",
              "      <td>-0.001966</td>\n",
              "    </tr>\n",
              "    <tr>\n",
              "      <th>reg_East Asia</th>\n",
              "      <td>-0.021063</td>\n",
              "      <td>-0.007075</td>\n",
              "      <td>0.028351</td>\n",
              "      <td>0.000182</td>\n",
              "      <td>0.018062</td>\n",
              "      <td>-0.001510</td>\n",
              "      <td>-0.010195</td>\n",
              "      <td>-0.002995</td>\n",
              "      <td>1.000000</td>\n",
              "      <td>-0.008242</td>\n",
              "      <td>...</td>\n",
              "      <td>0.043590</td>\n",
              "      <td>-0.002127</td>\n",
              "      <td>NaN</td>\n",
              "      <td>-0.037948</td>\n",
              "      <td>0.054354</td>\n",
              "      <td>0.066568</td>\n",
              "      <td>-0.001229</td>\n",
              "      <td>NaN</td>\n",
              "      <td>-0.000631</td>\n",
              "      <td>0.017854</td>\n",
              "    </tr>\n",
              "    <tr>\n",
              "      <th>reg_Eastern Europe</th>\n",
              "      <td>0.020556</td>\n",
              "      <td>0.003483</td>\n",
              "      <td>0.213964</td>\n",
              "      <td>0.000539</td>\n",
              "      <td>-0.021413</td>\n",
              "      <td>-0.004815</td>\n",
              "      <td>-0.032515</td>\n",
              "      <td>-0.009552</td>\n",
              "      <td>-0.008242</td>\n",
              "      <td>1.000000</td>\n",
              "      <td>...</td>\n",
              "      <td>0.001222</td>\n",
              "      <td>0.013178</td>\n",
              "      <td>NaN</td>\n",
              "      <td>-0.011944</td>\n",
              "      <td>-0.005012</td>\n",
              "      <td>0.001004</td>\n",
              "      <td>-0.003919</td>\n",
              "      <td>NaN</td>\n",
              "      <td>-0.002014</td>\n",
              "      <td>-0.005411</td>\n",
              "    </tr>\n",
              "    <tr>\n",
              "      <th>reg_Middle East &amp; North Africa</th>\n",
              "      <td>0.237148</td>\n",
              "      <td>-0.043605</td>\n",
              "      <td>0.391859</td>\n",
              "      <td>0.002449</td>\n",
              "      <td>0.054318</td>\n",
              "      <td>-0.021887</td>\n",
              "      <td>-0.147795</td>\n",
              "      <td>-0.043417</td>\n",
              "      <td>-0.037464</td>\n",
              "      <td>-0.119478</td>\n",
              "      <td>...</td>\n",
              "      <td>-0.007787</td>\n",
              "      <td>0.258283</td>\n",
              "      <td>NaN</td>\n",
              "      <td>-0.250432</td>\n",
              "      <td>-0.045236</td>\n",
              "      <td>0.002936</td>\n",
              "      <td>-0.001579</td>\n",
              "      <td>NaN</td>\n",
              "      <td>-0.009153</td>\n",
              "      <td>0.018303</td>\n",
              "    </tr>\n",
              "    <tr>\n",
              "      <th>reg_North America</th>\n",
              "      <td>-0.119668</td>\n",
              "      <td>0.000307</td>\n",
              "      <td>0.045288</td>\n",
              "      <td>0.000274</td>\n",
              "      <td>-0.018980</td>\n",
              "      <td>-0.002841</td>\n",
              "      <td>-0.019183</td>\n",
              "      <td>-0.005635</td>\n",
              "      <td>-0.004863</td>\n",
              "      <td>-0.015508</td>\n",
              "      <td>...</td>\n",
              "      <td>0.017669</td>\n",
              "      <td>-0.048725</td>\n",
              "      <td>NaN</td>\n",
              "      <td>0.023704</td>\n",
              "      <td>0.046132</td>\n",
              "      <td>0.023909</td>\n",
              "      <td>0.007311</td>\n",
              "      <td>NaN</td>\n",
              "      <td>0.008171</td>\n",
              "      <td>0.031670</td>\n",
              "    </tr>\n",
              "    <tr>\n",
              "      <th>reg_South America</th>\n",
              "      <td>-0.328758</td>\n",
              "      <td>-0.005006</td>\n",
              "      <td>-0.485841</td>\n",
              "      <td>0.000804</td>\n",
              "      <td>-0.037094</td>\n",
              "      <td>-0.008151</td>\n",
              "      <td>-0.055043</td>\n",
              "      <td>-0.016170</td>\n",
              "      <td>-0.013953</td>\n",
              "      <td>-0.044497</td>\n",
              "      <td>...</td>\n",
              "      <td>-0.002655</td>\n",
              "      <td>-0.123224</td>\n",
              "      <td>NaN</td>\n",
              "      <td>0.132444</td>\n",
              "      <td>0.010689</td>\n",
              "      <td>-0.028858</td>\n",
              "      <td>-0.003060</td>\n",
              "      <td>NaN</td>\n",
              "      <td>0.000067</td>\n",
              "      <td>-0.007865</td>\n",
              "    </tr>\n",
              "    <tr>\n",
              "      <th>reg_South Asia</th>\n",
              "      <td>0.162434</td>\n",
              "      <td>0.041411</td>\n",
              "      <td>0.166611</td>\n",
              "      <td>0.002165</td>\n",
              "      <td>-0.000308</td>\n",
              "      <td>-0.018673</td>\n",
              "      <td>-0.126095</td>\n",
              "      <td>-0.037042</td>\n",
              "      <td>-0.031963</td>\n",
              "      <td>-0.101936</td>\n",
              "      <td>...</td>\n",
              "      <td>0.010854</td>\n",
              "      <td>-0.014324</td>\n",
              "      <td>NaN</td>\n",
              "      <td>0.016071</td>\n",
              "      <td>-0.007124</td>\n",
              "      <td>0.000302</td>\n",
              "      <td>-0.002040</td>\n",
              "      <td>NaN</td>\n",
              "      <td>0.004003</td>\n",
              "      <td>-0.015117</td>\n",
              "    </tr>\n",
              "    <tr>\n",
              "      <th>reg_Southeast Asia</th>\n",
              "      <td>0.051657</td>\n",
              "      <td>-0.005178</td>\n",
              "      <td>-0.277661</td>\n",
              "      <td>0.001023</td>\n",
              "      <td>-0.052600</td>\n",
              "      <td>-0.008477</td>\n",
              "      <td>-0.057241</td>\n",
              "      <td>-0.016815</td>\n",
              "      <td>-0.014510</td>\n",
              "      <td>-0.046274</td>\n",
              "      <td>...</td>\n",
              "      <td>-0.009285</td>\n",
              "      <td>-0.085043</td>\n",
              "      <td>NaN</td>\n",
              "      <td>0.096576</td>\n",
              "      <td>-0.007603</td>\n",
              "      <td>-0.023170</td>\n",
              "      <td>-0.003443</td>\n",
              "      <td>NaN</td>\n",
              "      <td>0.009901</td>\n",
              "      <td>-0.009526</td>\n",
              "    </tr>\n",
              "    <tr>\n",
              "      <th>reg_Sub-Saharan Africa</th>\n",
              "      <td>0.077472</td>\n",
              "      <td>0.041771</td>\n",
              "      <td>-0.481284</td>\n",
              "      <td>0.001074</td>\n",
              "      <td>0.035597</td>\n",
              "      <td>-0.009721</td>\n",
              "      <td>-0.065646</td>\n",
              "      <td>-0.019285</td>\n",
              "      <td>-0.016640</td>\n",
              "      <td>-0.053069</td>\n",
              "      <td>...</td>\n",
              "      <td>-0.007033</td>\n",
              "      <td>-0.083166</td>\n",
              "      <td>NaN</td>\n",
              "      <td>0.069722</td>\n",
              "      <td>0.033552</td>\n",
              "      <td>0.020308</td>\n",
              "      <td>0.015226</td>\n",
              "      <td>NaN</td>\n",
              "      <td>-0.004065</td>\n",
              "      <td>-0.010924</td>\n",
              "    </tr>\n",
              "    <tr>\n",
              "      <th>reg_Western Europe</th>\n",
              "      <td>-0.300456</td>\n",
              "      <td>-0.022846</td>\n",
              "      <td>0.303964</td>\n",
              "      <td>0.000671</td>\n",
              "      <td>-0.048073</td>\n",
              "      <td>-0.006243</td>\n",
              "      <td>-0.042160</td>\n",
              "      <td>-0.012385</td>\n",
              "      <td>-0.010687</td>\n",
              "      <td>-0.034083</td>\n",
              "      <td>...</td>\n",
              "      <td>0.005090</td>\n",
              "      <td>-0.031173</td>\n",
              "      <td>NaN</td>\n",
              "      <td>0.013166</td>\n",
              "      <td>0.046824</td>\n",
              "      <td>0.019259</td>\n",
              "      <td>-0.000551</td>\n",
              "      <td>NaN</td>\n",
              "      <td>-0.002611</td>\n",
              "      <td>0.012680</td>\n",
              "    </tr>\n",
              "    <tr>\n",
              "      <th>atck_Armed Assault</th>\n",
              "      <td>-0.029007</td>\n",
              "      <td>-0.050466</td>\n",
              "      <td>-0.134852</td>\n",
              "      <td>-0.004693</td>\n",
              "      <td>-0.071646</td>\n",
              "      <td>0.003375</td>\n",
              "      <td>0.101286</td>\n",
              "      <td>-0.009487</td>\n",
              "      <td>-0.009275</td>\n",
              "      <td>0.003944</td>\n",
              "      <td>...</td>\n",
              "      <td>-0.029211</td>\n",
              "      <td>-0.645850</td>\n",
              "      <td>NaN</td>\n",
              "      <td>0.635296</td>\n",
              "      <td>0.015981</td>\n",
              "      <td>0.040861</td>\n",
              "      <td>-0.014212</td>\n",
              "      <td>NaN</td>\n",
              "      <td>-0.006912</td>\n",
              "      <td>-0.020827</td>\n",
              "    </tr>\n",
              "    <tr>\n",
              "      <th>atck_Assassination</th>\n",
              "      <td>-0.286000</td>\n",
              "      <td>-0.042101</td>\n",
              "      <td>-0.083243</td>\n",
              "      <td>0.001403</td>\n",
              "      <td>-0.161917</td>\n",
              "      <td>0.008697</td>\n",
              "      <td>0.058037</td>\n",
              "      <td>0.023751</td>\n",
              "      <td>0.000868</td>\n",
              "      <td>-0.009441</td>\n",
              "      <td>...</td>\n",
              "      <td>-0.008472</td>\n",
              "      <td>-0.304814</td>\n",
              "      <td>NaN</td>\n",
              "      <td>0.299690</td>\n",
              "      <td>-0.033387</td>\n",
              "      <td>0.042647</td>\n",
              "      <td>-0.005374</td>\n",
              "      <td>NaN</td>\n",
              "      <td>-0.005343</td>\n",
              "      <td>-0.003437</td>\n",
              "    </tr>\n",
              "    <tr>\n",
              "      <th>atck_Bombing/Explosion</th>\n",
              "      <td>0.219236</td>\n",
              "      <td>-0.121942</td>\n",
              "      <td>0.194237</td>\n",
              "      <td>0.003104</td>\n",
              "      <td>0.192721</td>\n",
              "      <td>-0.013429</td>\n",
              "      <td>-0.130747</td>\n",
              "      <td>-0.010676</td>\n",
              "      <td>-0.003631</td>\n",
              "      <td>0.002462</td>\n",
              "      <td>...</td>\n",
              "      <td>-0.020091</td>\n",
              "      <td>0.917281</td>\n",
              "      <td>NaN</td>\n",
              "      <td>-0.835396</td>\n",
              "      <td>-0.096884</td>\n",
              "      <td>-0.167229</td>\n",
              "      <td>-0.022441</td>\n",
              "      <td>NaN</td>\n",
              "      <td>-0.009752</td>\n",
              "      <td>-0.030325</td>\n",
              "    </tr>\n",
              "    <tr>\n",
              "      <th>atck_Facility/Infrastructure Attack</th>\n",
              "      <td>-0.033452</td>\n",
              "      <td>-0.004941</td>\n",
              "      <td>-0.023328</td>\n",
              "      <td>0.000303</td>\n",
              "      <td>-0.008324</td>\n",
              "      <td>0.001306</td>\n",
              "      <td>0.002660</td>\n",
              "      <td>0.000696</td>\n",
              "      <td>0.030858</td>\n",
              "      <td>-0.001290</td>\n",
              "      <td>...</td>\n",
              "      <td>-0.003956</td>\n",
              "      <td>-0.091081</td>\n",
              "      <td>NaN</td>\n",
              "      <td>-0.033706</td>\n",
              "      <td>0.562510</td>\n",
              "      <td>-0.001583</td>\n",
              "      <td>-0.002234</td>\n",
              "      <td>NaN</td>\n",
              "      <td>0.115006</td>\n",
              "      <td>0.007732</td>\n",
              "    </tr>\n",
              "    <tr>\n",
              "      <th>atck_Hijacking</th>\n",
              "      <td>-0.012612</td>\n",
              "      <td>0.061425</td>\n",
              "      <td>-0.003373</td>\n",
              "      <td>0.000125</td>\n",
              "      <td>-0.001279</td>\n",
              "      <td>-0.001116</td>\n",
              "      <td>-0.001445</td>\n",
              "      <td>0.012787</td>\n",
              "      <td>0.021248</td>\n",
              "      <td>0.006916</td>\n",
              "      <td>...</td>\n",
              "      <td>-0.001608</td>\n",
              "      <td>-0.027829</td>\n",
              "      <td>NaN</td>\n",
              "      <td>0.023842</td>\n",
              "      <td>-0.001435</td>\n",
              "      <td>0.009992</td>\n",
              "      <td>-0.000908</td>\n",
              "      <td>NaN</td>\n",
              "      <td>-0.000467</td>\n",
              "      <td>0.016358</td>\n",
              "    </tr>\n",
              "    <tr>\n",
              "      <th>atck_Hostage Taking (Barricade Incident)</th>\n",
              "      <td>-0.007564</td>\n",
              "      <td>0.040198</td>\n",
              "      <td>-0.003721</td>\n",
              "      <td>0.000167</td>\n",
              "      <td>0.035996</td>\n",
              "      <td>0.020257</td>\n",
              "      <td>0.006478</td>\n",
              "      <td>0.000649</td>\n",
              "      <td>0.001642</td>\n",
              "      <td>-0.001494</td>\n",
              "      <td>...</td>\n",
              "      <td>0.007890</td>\n",
              "      <td>-0.020628</td>\n",
              "      <td>NaN</td>\n",
              "      <td>0.015633</td>\n",
              "      <td>0.010210</td>\n",
              "      <td>0.006746</td>\n",
              "      <td>-0.001239</td>\n",
              "      <td>NaN</td>\n",
              "      <td>-0.000637</td>\n",
              "      <td>-0.001711</td>\n",
              "    </tr>\n",
              "    <tr>\n",
              "      <th>atck_Hostage Taking (Kidnapping)</th>\n",
              "      <td>0.067463</td>\n",
              "      <td>0.586705</td>\n",
              "      <td>-0.017164</td>\n",
              "      <td>0.000568</td>\n",
              "      <td>-0.031822</td>\n",
              "      <td>-0.000533</td>\n",
              "      <td>-0.021189</td>\n",
              "      <td>0.001390</td>\n",
              "      <td>-0.004668</td>\n",
              "      <td>-0.010153</td>\n",
              "      <td>...</td>\n",
              "      <td>-0.002567</td>\n",
              "      <td>-0.153298</td>\n",
              "      <td>NaN</td>\n",
              "      <td>0.093928</td>\n",
              "      <td>-0.002681</td>\n",
              "      <td>0.163399</td>\n",
              "      <td>0.078890</td>\n",
              "      <td>NaN</td>\n",
              "      <td>-0.002106</td>\n",
              "      <td>-0.005660</td>\n",
              "    </tr>\n",
              "    <tr>\n",
              "      <th>atck_Unarmed Assault</th>\n",
              "      <td>0.012422</td>\n",
              "      <td>-0.009226</td>\n",
              "      <td>0.028050</td>\n",
              "      <td>0.000267</td>\n",
              "      <td>0.008620</td>\n",
              "      <td>0.011485</td>\n",
              "      <td>-0.008359</td>\n",
              "      <td>0.004599</td>\n",
              "      <td>0.036518</td>\n",
              "      <td>0.024287</td>\n",
              "      <td>...</td>\n",
              "      <td>0.340458</td>\n",
              "      <td>-0.079984</td>\n",
              "      <td>NaN</td>\n",
              "      <td>-0.074126</td>\n",
              "      <td>0.016376</td>\n",
              "      <td>0.263278</td>\n",
              "      <td>0.089004</td>\n",
              "      <td>NaN</td>\n",
              "      <td>-0.001003</td>\n",
              "      <td>0.322715</td>\n",
              "    </tr>\n",
              "    <tr>\n",
              "      <th>targ_Abortion Related</th>\n",
              "      <td>-0.016464</td>\n",
              "      <td>-0.002356</td>\n",
              "      <td>0.015517</td>\n",
              "      <td>0.000049</td>\n",
              "      <td>-0.006638</td>\n",
              "      <td>-0.000503</td>\n",
              "      <td>-0.003395</td>\n",
              "      <td>-0.000997</td>\n",
              "      <td>-0.000860</td>\n",
              "      <td>-0.002744</td>\n",
              "      <td>...</td>\n",
              "      <td>-0.000724</td>\n",
              "      <td>-0.011559</td>\n",
              "      <td>NaN</td>\n",
              "      <td>0.000142</td>\n",
              "      <td>0.040053</td>\n",
              "      <td>0.008106</td>\n",
              "      <td>-0.000409</td>\n",
              "      <td>NaN</td>\n",
              "      <td>-0.000210</td>\n",
              "      <td>-0.000565</td>\n",
              "    </tr>\n",
              "    <tr>\n",
              "      <th>targ_Airports &amp; Aircraft</th>\n",
              "      <td>-0.065201</td>\n",
              "      <td>0.012097</td>\n",
              "      <td>0.003511</td>\n",
              "      <td>0.000195</td>\n",
              "      <td>0.021460</td>\n",
              "      <td>0.010739</td>\n",
              "      <td>0.004416</td>\n",
              "      <td>0.002812</td>\n",
              "      <td>0.040890</td>\n",
              "      <td>-0.003784</td>\n",
              "      <td>...</td>\n",
              "      <td>0.001794</td>\n",
              "      <td>0.023390</td>\n",
              "      <td>NaN</td>\n",
              "      <td>-0.024142</td>\n",
              "      <td>0.010514</td>\n",
              "      <td>-0.005458</td>\n",
              "      <td>-0.001440</td>\n",
              "      <td>NaN</td>\n",
              "      <td>0.014205</td>\n",
              "      <td>-0.001988</td>\n",
              "    </tr>\n",
              "    <tr>\n",
              "      <th>targ_Business</th>\n",
              "      <td>-0.059727</td>\n",
              "      <td>-0.001950</td>\n",
              "      <td>-0.013053</td>\n",
              "      <td>0.000980</td>\n",
              "      <td>0.021843</td>\n",
              "      <td>0.010245</td>\n",
              "      <td>-0.003779</td>\n",
              "      <td>-0.004410</td>\n",
              "      <td>0.017577</td>\n",
              "      <td>-0.007452</td>\n",
              "      <td>...</td>\n",
              "      <td>-0.005137</td>\n",
              "      <td>0.087877</td>\n",
              "      <td>NaN</td>\n",
              "      <td>-0.085028</td>\n",
              "      <td>0.033482</td>\n",
              "      <td>-0.027053</td>\n",
              "      <td>-0.002155</td>\n",
              "      <td>NaN</td>\n",
              "      <td>-0.003685</td>\n",
              "      <td>-0.006268</td>\n",
              "    </tr>\n",
              "    <tr>\n",
              "      <th>targ_Educational Institution</th>\n",
              "      <td>-0.011268</td>\n",
              "      <td>-0.001089</td>\n",
              "      <td>-0.005684</td>\n",
              "      <td>0.000441</td>\n",
              "      <td>-0.006855</td>\n",
              "      <td>0.004619</td>\n",
              "      <td>0.014240</td>\n",
              "      <td>-0.004924</td>\n",
              "      <td>0.003276</td>\n",
              "      <td>-0.009162</td>\n",
              "      <td>...</td>\n",
              "      <td>0.061659</td>\n",
              "      <td>-0.015669</td>\n",
              "      <td>NaN</td>\n",
              "      <td>0.006249</td>\n",
              "      <td>0.015770</td>\n",
              "      <td>0.003631</td>\n",
              "      <td>-0.003202</td>\n",
              "      <td>NaN</td>\n",
              "      <td>-0.001645</td>\n",
              "      <td>-0.004422</td>\n",
              "    </tr>\n",
              "    <tr>\n",
              "      <th>targ_Food or Water Supply</th>\n",
              "      <td>-0.002598</td>\n",
              "      <td>0.002159</td>\n",
              "      <td>-0.007857</td>\n",
              "      <td>0.000091</td>\n",
              "      <td>-0.000377</td>\n",
              "      <td>-0.000807</td>\n",
              "      <td>-0.003347</td>\n",
              "      <td>0.005308</td>\n",
              "      <td>-0.001382</td>\n",
              "      <td>0.005865</td>\n",
              "      <td>...</td>\n",
              "      <td>0.008331</td>\n",
              "      <td>0.003096</td>\n",
              "      <td>NaN</td>\n",
              "      <td>-0.002966</td>\n",
              "      <td>0.004471</td>\n",
              "      <td>-0.004910</td>\n",
              "      <td>-0.000657</td>\n",
              "      <td>NaN</td>\n",
              "      <td>-0.000338</td>\n",
              "      <td>-0.000907</td>\n",
              "    </tr>\n",
              "    <tr>\n",
              "      <th>targ_Government (Diplomatic)</th>\n",
              "      <td>-0.057096</td>\n",
              "      <td>0.007678</td>\n",
              "      <td>-0.006864</td>\n",
              "      <td>0.000367</td>\n",
              "      <td>-0.014610</td>\n",
              "      <td>0.010066</td>\n",
              "      <td>-0.000853</td>\n",
              "      <td>0.010319</td>\n",
              "      <td>0.006057</td>\n",
              "      <td>0.002570</td>\n",
              "      <td>...</td>\n",
              "      <td>0.004503</td>\n",
              "      <td>-0.008383</td>\n",
              "      <td>NaN</td>\n",
              "      <td>0.008112</td>\n",
              "      <td>0.000451</td>\n",
              "      <td>-0.000387</td>\n",
              "      <td>-0.002712</td>\n",
              "      <td>NaN</td>\n",
              "      <td>-0.001394</td>\n",
              "      <td>0.002218</td>\n",
              "    </tr>\n",
              "    <tr>\n",
              "      <th>targ_Government (General)</th>\n",
              "      <td>-0.036402</td>\n",
              "      <td>0.000144</td>\n",
              "      <td>-0.057710</td>\n",
              "      <td>0.001209</td>\n",
              "      <td>-0.066488</td>\n",
              "      <td>0.003073</td>\n",
              "      <td>-0.001398</td>\n",
              "      <td>0.022397</td>\n",
              "      <td>0.003163</td>\n",
              "      <td>0.014877</td>\n",
              "      <td>...</td>\n",
              "      <td>-0.006731</td>\n",
              "      <td>-0.093642</td>\n",
              "      <td>NaN</td>\n",
              "      <td>0.104531</td>\n",
              "      <td>-0.014138</td>\n",
              "      <td>-0.018433</td>\n",
              "      <td>-0.003108</td>\n",
              "      <td>NaN</td>\n",
              "      <td>-0.001753</td>\n",
              "      <td>-0.004932</td>\n",
              "    </tr>\n",
              "    <tr>\n",
              "      <th>targ_Journalists &amp; Media</th>\n",
              "      <td>-0.020431</td>\n",
              "      <td>0.028139</td>\n",
              "      <td>-0.014298</td>\n",
              "      <td>0.000371</td>\n",
              "      <td>-0.041561</td>\n",
              "      <td>-0.000056</td>\n",
              "      <td>0.005804</td>\n",
              "      <td>0.013412</td>\n",
              "      <td>0.005867</td>\n",
              "      <td>0.014592</td>\n",
              "      <td>...</td>\n",
              "      <td>0.002048</td>\n",
              "      <td>-0.063435</td>\n",
              "      <td>NaN</td>\n",
              "      <td>0.049191</td>\n",
              "      <td>0.005602</td>\n",
              "      <td>0.032896</td>\n",
              "      <td>0.009469</td>\n",
              "      <td>NaN</td>\n",
              "      <td>-0.001409</td>\n",
              "      <td>0.002112</td>\n",
              "    </tr>\n",
              "    <tr>\n",
              "      <th>targ_Maritime</th>\n",
              "      <td>-0.018862</td>\n",
              "      <td>0.018866</td>\n",
              "      <td>-0.018990</td>\n",
              "      <td>0.000114</td>\n",
              "      <td>0.011572</td>\n",
              "      <td>-0.001015</td>\n",
              "      <td>0.006527</td>\n",
              "      <td>0.003480</td>\n",
              "      <td>-0.001738</td>\n",
              "      <td>-0.005543</td>\n",
              "      <td>...</td>\n",
              "      <td>-0.001463</td>\n",
              "      <td>-0.002903</td>\n",
              "      <td>NaN</td>\n",
              "      <td>0.002927</td>\n",
              "      <td>0.002171</td>\n",
              "      <td>-0.000645</td>\n",
              "      <td>-0.000826</td>\n",
              "      <td>NaN</td>\n",
              "      <td>-0.000425</td>\n",
              "      <td>-0.001141</td>\n",
              "    </tr>\n",
              "    <tr>\n",
              "      <th>targ_Military</th>\n",
              "      <td>0.013869</td>\n",
              "      <td>-0.029225</td>\n",
              "      <td>-0.015262</td>\n",
              "      <td>0.001553</td>\n",
              "      <td>0.012066</td>\n",
              "      <td>-0.003367</td>\n",
              "      <td>0.125073</td>\n",
              "      <td>0.004927</td>\n",
              "      <td>-0.021092</td>\n",
              "      <td>0.006479</td>\n",
              "      <td>...</td>\n",
              "      <td>-0.008752</td>\n",
              "      <td>0.012969</td>\n",
              "      <td>NaN</td>\n",
              "      <td>0.010763</td>\n",
              "      <td>-0.036237</td>\n",
              "      <td>-0.044267</td>\n",
              "      <td>-0.007817</td>\n",
              "      <td>NaN</td>\n",
              "      <td>-0.005842</td>\n",
              "      <td>0.016045</td>\n",
              "    </tr>\n",
              "    <tr>\n",
              "      <th>targ_NGO</th>\n",
              "      <td>-0.000245</td>\n",
              "      <td>0.032541</td>\n",
              "      <td>-0.019097</td>\n",
              "      <td>0.000220</td>\n",
              "      <td>-0.016902</td>\n",
              "      <td>-0.001961</td>\n",
              "      <td>-0.003680</td>\n",
              "      <td>0.001819</td>\n",
              "      <td>-0.003356</td>\n",
              "      <td>0.002025</td>\n",
              "      <td>...</td>\n",
              "      <td>-0.002826</td>\n",
              "      <td>-0.032892</td>\n",
              "      <td>NaN</td>\n",
              "      <td>0.032899</td>\n",
              "      <td>-0.001100</td>\n",
              "      <td>0.002440</td>\n",
              "      <td>-0.001596</td>\n",
              "      <td>NaN</td>\n",
              "      <td>-0.000820</td>\n",
              "      <td>-0.002204</td>\n",
              "    </tr>\n",
              "    <tr>\n",
              "      <th>targ_Other</th>\n",
              "      <td>0.010754</td>\n",
              "      <td>-0.003921</td>\n",
              "      <td>0.009530</td>\n",
              "      <td>0.000094</td>\n",
              "      <td>0.001904</td>\n",
              "      <td>-0.000837</td>\n",
              "      <td>-0.001591</td>\n",
              "      <td>-0.001660</td>\n",
              "      <td>-0.001432</td>\n",
              "      <td>0.002863</td>\n",
              "      <td>...</td>\n",
              "      <td>-0.001206</td>\n",
              "      <td>0.010441</td>\n",
              "      <td>NaN</td>\n",
              "      <td>-0.010155</td>\n",
              "      <td>0.000499</td>\n",
              "      <td>-0.000616</td>\n",
              "      <td>-0.000681</td>\n",
              "      <td>NaN</td>\n",
              "      <td>-0.000350</td>\n",
              "      <td>-0.000940</td>\n",
              "    </tr>\n",
              "    <tr>\n",
              "      <th>targ_Police</th>\n",
              "      <td>0.006817</td>\n",
              "      <td>-0.021586</td>\n",
              "      <td>0.057143</td>\n",
              "      <td>0.001575</td>\n",
              "      <td>-0.053478</td>\n",
              "      <td>0.002224</td>\n",
              "      <td>-0.045483</td>\n",
              "      <td>-0.002726</td>\n",
              "      <td>-0.001090</td>\n",
              "      <td>0.031585</td>\n",
              "      <td>...</td>\n",
              "      <td>-0.008302</td>\n",
              "      <td>-0.039034</td>\n",
              "      <td>NaN</td>\n",
              "      <td>0.059014</td>\n",
              "      <td>-0.026515</td>\n",
              "      <td>-0.037008</td>\n",
              "      <td>-0.002034</td>\n",
              "      <td>NaN</td>\n",
              "      <td>-0.003596</td>\n",
              "      <td>-0.000457</td>\n",
              "    </tr>\n",
              "    <tr>\n",
              "      <th>targ_Private Citizens &amp; Property</th>\n",
              "      <td>0.088618</td>\n",
              "      <td>0.033499</td>\n",
              "      <td>0.025205</td>\n",
              "      <td>0.002118</td>\n",
              "      <td>0.044944</td>\n",
              "      <td>-0.009056</td>\n",
              "      <td>-0.054279</td>\n",
              "      <td>-0.018835</td>\n",
              "      <td>-0.011233</td>\n",
              "      <td>-0.036312</td>\n",
              "      <td>...</td>\n",
              "      <td>0.001808</td>\n",
              "      <td>0.048315</td>\n",
              "      <td>NaN</td>\n",
              "      <td>-0.081442</td>\n",
              "      <td>0.005621</td>\n",
              "      <td>0.089325</td>\n",
              "      <td>0.015840</td>\n",
              "      <td>NaN</td>\n",
              "      <td>-0.005942</td>\n",
              "      <td>-0.005179</td>\n",
              "    </tr>\n",
              "    <tr>\n",
              "      <th>targ_Religious Figures/Institutions</th>\n",
              "      <td>0.022401</td>\n",
              "      <td>-0.004615</td>\n",
              "      <td>0.004076</td>\n",
              "      <td>0.000535</td>\n",
              "      <td>0.050034</td>\n",
              "      <td>-0.002360</td>\n",
              "      <td>-0.020291</td>\n",
              "      <td>-0.002181</td>\n",
              "      <td>-0.005329</td>\n",
              "      <td>0.003657</td>\n",
              "      <td>...</td>\n",
              "      <td>0.001442</td>\n",
              "      <td>-0.006130</td>\n",
              "      <td>NaN</td>\n",
              "      <td>-0.001092</td>\n",
              "      <td>0.004546</td>\n",
              "      <td>0.018452</td>\n",
              "      <td>-0.000932</td>\n",
              "      <td>NaN</td>\n",
              "      <td>0.003713</td>\n",
              "      <td>-0.005330</td>\n",
              "    </tr>\n",
              "    <tr>\n",
              "      <th>targ_Telecommunication</th>\n",
              "      <td>-0.015082</td>\n",
              "      <td>-0.002593</td>\n",
              "      <td>-0.014805</td>\n",
              "      <td>0.000115</td>\n",
              "      <td>-0.004296</td>\n",
              "      <td>-0.001044</td>\n",
              "      <td>0.004345</td>\n",
              "      <td>-0.002071</td>\n",
              "      <td>-0.001787</td>\n",
              "      <td>-0.003712</td>\n",
              "      <td>...</td>\n",
              "      <td>-0.001504</td>\n",
              "      <td>0.001588</td>\n",
              "      <td>NaN</td>\n",
              "      <td>-0.013369</td>\n",
              "      <td>0.062520</td>\n",
              "      <td>-0.004556</td>\n",
              "      <td>-0.000849</td>\n",
              "      <td>NaN</td>\n",
              "      <td>-0.000437</td>\n",
              "      <td>-0.001173</td>\n",
              "    </tr>\n",
              "    <tr>\n",
              "      <th>targ_Terrorists/Non-State Militia</th>\n",
              "      <td>0.037311</td>\n",
              "      <td>0.002880</td>\n",
              "      <td>0.056773</td>\n",
              "      <td>0.000518</td>\n",
              "      <td>-0.017163</td>\n",
              "      <td>-0.004610</td>\n",
              "      <td>-0.020954</td>\n",
              "      <td>-0.002956</td>\n",
              "      <td>-0.000725</td>\n",
              "      <td>-0.019187</td>\n",
              "      <td>...</td>\n",
              "      <td>-0.003242</td>\n",
              "      <td>0.003066</td>\n",
              "      <td>NaN</td>\n",
              "      <td>0.004246</td>\n",
              "      <td>-0.011065</td>\n",
              "      <td>-0.011427</td>\n",
              "      <td>-0.003752</td>\n",
              "      <td>NaN</td>\n",
              "      <td>-0.001928</td>\n",
              "      <td>-0.005181</td>\n",
              "    </tr>\n",
              "    <tr>\n",
              "      <th>targ_Tourists</th>\n",
              "      <td>-0.022142</td>\n",
              "      <td>0.018507</td>\n",
              "      <td>0.000897</td>\n",
              "      <td>-0.072859</td>\n",
              "      <td>0.005266</td>\n",
              "      <td>-0.001353</td>\n",
              "      <td>0.003432</td>\n",
              "      <td>-0.002684</td>\n",
              "      <td>0.002463</td>\n",
              "      <td>0.003351</td>\n",
              "      <td>...</td>\n",
              "      <td>-0.001950</td>\n",
              "      <td>-0.011201</td>\n",
              "      <td>NaN</td>\n",
              "      <td>0.000982</td>\n",
              "      <td>0.006131</td>\n",
              "      <td>0.025013</td>\n",
              "      <td>-0.001101</td>\n",
              "      <td>NaN</td>\n",
              "      <td>-0.000566</td>\n",
              "      <td>0.005748</td>\n",
              "    </tr>\n",
              "    <tr>\n",
              "      <th>targ_Transportation</th>\n",
              "      <td>-0.058157</td>\n",
              "      <td>-0.015003</td>\n",
              "      <td>-0.028974</td>\n",
              "      <td>0.000578</td>\n",
              "      <td>0.084008</td>\n",
              "      <td>-0.000732</td>\n",
              "      <td>-0.003502</td>\n",
              "      <td>0.005407</td>\n",
              "      <td>0.029935</td>\n",
              "      <td>0.012946</td>\n",
              "      <td>...</td>\n",
              "      <td>-0.001285</td>\n",
              "      <td>0.061362</td>\n",
              "      <td>NaN</td>\n",
              "      <td>-0.073103</td>\n",
              "      <td>0.066463</td>\n",
              "      <td>-0.012587</td>\n",
              "      <td>-0.004188</td>\n",
              "      <td>NaN</td>\n",
              "      <td>0.040036</td>\n",
              "      <td>0.011896</td>\n",
              "    </tr>\n",
              "    <tr>\n",
              "      <th>targ_Utilities</th>\n",
              "      <td>-0.021856</td>\n",
              "      <td>-0.000511</td>\n",
              "      <td>-0.025411</td>\n",
              "      <td>0.000196</td>\n",
              "      <td>-0.004150</td>\n",
              "      <td>-0.001810</td>\n",
              "      <td>0.016944</td>\n",
              "      <td>-0.000501</td>\n",
              "      <td>0.000479</td>\n",
              "      <td>0.002749</td>\n",
              "      <td>...</td>\n",
              "      <td>-0.002609</td>\n",
              "      <td>0.025974</td>\n",
              "      <td>NaN</td>\n",
              "      <td>-0.023184</td>\n",
              "      <td>0.004973</td>\n",
              "      <td>-0.011011</td>\n",
              "      <td>-0.001473</td>\n",
              "      <td>NaN</td>\n",
              "      <td>0.013851</td>\n",
              "      <td>-0.002034</td>\n",
              "    </tr>\n",
              "    <tr>\n",
              "      <th>targ_Violent Political Party</th>\n",
              "      <td>-0.018329</td>\n",
              "      <td>-0.002400</td>\n",
              "      <td>-0.031855</td>\n",
              "      <td>0.000369</td>\n",
              "      <td>-0.012882</td>\n",
              "      <td>0.000218</td>\n",
              "      <td>-0.012801</td>\n",
              "      <td>-0.006413</td>\n",
              "      <td>-0.001495</td>\n",
              "      <td>-0.015703</td>\n",
              "      <td>...</td>\n",
              "      <td>0.012119</td>\n",
              "      <td>-0.054372</td>\n",
              "      <td>NaN</td>\n",
              "      <td>0.050944</td>\n",
              "      <td>-0.000675</td>\n",
              "      <td>0.009017</td>\n",
              "      <td>-0.002631</td>\n",
              "      <td>NaN</td>\n",
              "      <td>-0.001352</td>\n",
              "      <td>-0.003633</td>\n",
              "    </tr>\n",
              "    <tr>\n",
              "      <th>wpn_Biological</th>\n",
              "      <td>-0.007131</td>\n",
              "      <td>0.012436</td>\n",
              "      <td>0.008712</td>\n",
              "      <td>0.000034</td>\n",
              "      <td>-0.001975</td>\n",
              "      <td>-0.000341</td>\n",
              "      <td>-0.002306</td>\n",
              "      <td>-0.000677</td>\n",
              "      <td>-0.000585</td>\n",
              "      <td>-0.001864</td>\n",
              "      <td>...</td>\n",
              "      <td>-0.000492</td>\n",
              "      <td>-0.011390</td>\n",
              "      <td>NaN</td>\n",
              "      <td>-0.010556</td>\n",
              "      <td>-0.001265</td>\n",
              "      <td>-0.002077</td>\n",
              "      <td>-0.000278</td>\n",
              "      <td>NaN</td>\n",
              "      <td>-0.000143</td>\n",
              "      <td>-0.000384</td>\n",
              "    </tr>\n",
              "    <tr>\n",
              "      <th>wpn_Chemical</th>\n",
              "      <td>0.008150</td>\n",
              "      <td>-0.005957</td>\n",
              "      <td>0.014365</td>\n",
              "      <td>0.000143</td>\n",
              "      <td>0.046599</td>\n",
              "      <td>0.016108</td>\n",
              "      <td>-0.008584</td>\n",
              "      <td>0.001870</td>\n",
              "      <td>0.043590</td>\n",
              "      <td>0.001222</td>\n",
              "      <td>...</td>\n",
              "      <td>1.000000</td>\n",
              "      <td>-0.042399</td>\n",
              "      <td>NaN</td>\n",
              "      <td>-0.039294</td>\n",
              "      <td>-0.004710</td>\n",
              "      <td>-0.007732</td>\n",
              "      <td>-0.001035</td>\n",
              "      <td>NaN</td>\n",
              "      <td>-0.000532</td>\n",
              "      <td>-0.001428</td>\n",
              "    </tr>\n",
              "    <tr>\n",
              "      <th>wpn_Explosives</th>\n",
              "      <td>0.244620</td>\n",
              "      <td>-0.115115</td>\n",
              "      <td>0.210211</td>\n",
              "      <td>0.003312</td>\n",
              "      <td>0.192609</td>\n",
              "      <td>-0.015312</td>\n",
              "      <td>-0.148153</td>\n",
              "      <td>-0.008074</td>\n",
              "      <td>-0.002127</td>\n",
              "      <td>0.013178</td>\n",
              "      <td>...</td>\n",
              "      <td>-0.042399</td>\n",
              "      <td>1.000000</td>\n",
              "      <td>NaN</td>\n",
              "      <td>-0.909403</td>\n",
              "      <td>-0.109002</td>\n",
              "      <td>-0.178955</td>\n",
              "      <td>-0.023943</td>\n",
              "      <td>NaN</td>\n",
              "      <td>-0.012303</td>\n",
              "      <td>-0.033060</td>\n",
              "    </tr>\n",
              "    <tr>\n",
              "      <th>wpn_Fake Weapons</th>\n",
              "      <td>NaN</td>\n",
              "      <td>NaN</td>\n",
              "      <td>NaN</td>\n",
              "      <td>NaN</td>\n",
              "      <td>NaN</td>\n",
              "      <td>NaN</td>\n",
              "      <td>NaN</td>\n",
              "      <td>NaN</td>\n",
              "      <td>NaN</td>\n",
              "      <td>NaN</td>\n",
              "      <td>...</td>\n",
              "      <td>NaN</td>\n",
              "      <td>NaN</td>\n",
              "      <td>NaN</td>\n",
              "      <td>NaN</td>\n",
              "      <td>NaN</td>\n",
              "      <td>NaN</td>\n",
              "      <td>NaN</td>\n",
              "      <td>NaN</td>\n",
              "      <td>NaN</td>\n",
              "      <td>NaN</td>\n",
              "    </tr>\n",
              "    <tr>\n",
              "      <th>wpn_Firearms</th>\n",
              "      <td>-0.238790</td>\n",
              "      <td>0.088602</td>\n",
              "      <td>-0.209627</td>\n",
              "      <td>-0.003639</td>\n",
              "      <td>-0.179817</td>\n",
              "      <td>0.010740</td>\n",
              "      <td>0.158931</td>\n",
              "      <td>0.006927</td>\n",
              "      <td>-0.037948</td>\n",
              "      <td>-0.011944</td>\n",
              "      <td>...</td>\n",
              "      <td>-0.039294</td>\n",
              "      <td>-0.909403</td>\n",
              "      <td>NaN</td>\n",
              "      <td>1.000000</td>\n",
              "      <td>-0.101018</td>\n",
              "      <td>-0.165848</td>\n",
              "      <td>-0.022189</td>\n",
              "      <td>NaN</td>\n",
              "      <td>-0.011402</td>\n",
              "      <td>-0.030639</td>\n",
              "    </tr>\n",
              "    <tr>\n",
              "      <th>wpn_Incendiary</th>\n",
              "      <td>-0.031998</td>\n",
              "      <td>0.003980</td>\n",
              "      <td>-0.028161</td>\n",
              "      <td>0.000361</td>\n",
              "      <td>-0.008044</td>\n",
              "      <td>0.000147</td>\n",
              "      <td>-0.007878</td>\n",
              "      <td>-0.001305</td>\n",
              "      <td>0.054354</td>\n",
              "      <td>-0.005012</td>\n",
              "      <td>...</td>\n",
              "      <td>-0.004710</td>\n",
              "      <td>-0.109002</td>\n",
              "      <td>NaN</td>\n",
              "      <td>-0.101018</td>\n",
              "      <td>1.000000</td>\n",
              "      <td>-0.019879</td>\n",
              "      <td>-0.002660</td>\n",
              "      <td>NaN</td>\n",
              "      <td>-0.001367</td>\n",
              "      <td>-0.003672</td>\n",
              "    </tr>\n",
              "    <tr>\n",
              "      <th>wpn_Melee</th>\n",
              "      <td>-0.004055</td>\n",
              "      <td>0.074474</td>\n",
              "      <td>0.007688</td>\n",
              "      <td>0.000601</td>\n",
              "      <td>-0.045560</td>\n",
              "      <td>0.007367</td>\n",
              "      <td>-0.021860</td>\n",
              "      <td>0.004372</td>\n",
              "      <td>0.066568</td>\n",
              "      <td>0.001004</td>\n",
              "      <td>...</td>\n",
              "      <td>-0.007732</td>\n",
              "      <td>-0.178955</td>\n",
              "      <td>NaN</td>\n",
              "      <td>-0.165848</td>\n",
              "      <td>-0.019879</td>\n",
              "      <td>1.000000</td>\n",
              "      <td>-0.004366</td>\n",
              "      <td>NaN</td>\n",
              "      <td>-0.002244</td>\n",
              "      <td>-0.006029</td>\n",
              "    </tr>\n",
              "    <tr>\n",
              "      <th>wpn_Other</th>\n",
              "      <td>0.008009</td>\n",
              "      <td>0.009997</td>\n",
              "      <td>-0.005178</td>\n",
              "      <td>0.000080</td>\n",
              "      <td>-0.005656</td>\n",
              "      <td>-0.000718</td>\n",
              "      <td>-0.004847</td>\n",
              "      <td>-0.001424</td>\n",
              "      <td>-0.001229</td>\n",
              "      <td>-0.003919</td>\n",
              "      <td>...</td>\n",
              "      <td>-0.001035</td>\n",
              "      <td>-0.023943</td>\n",
              "      <td>NaN</td>\n",
              "      <td>-0.022189</td>\n",
              "      <td>-0.002660</td>\n",
              "      <td>-0.004366</td>\n",
              "      <td>1.000000</td>\n",
              "      <td>NaN</td>\n",
              "      <td>-0.000300</td>\n",
              "      <td>-0.000807</td>\n",
              "    </tr>\n",
              "    <tr>\n",
              "      <th>wpn_Radiological</th>\n",
              "      <td>NaN</td>\n",
              "      <td>NaN</td>\n",
              "      <td>NaN</td>\n",
              "      <td>NaN</td>\n",
              "      <td>NaN</td>\n",
              "      <td>NaN</td>\n",
              "      <td>NaN</td>\n",
              "      <td>NaN</td>\n",
              "      <td>NaN</td>\n",
              "      <td>NaN</td>\n",
              "      <td>...</td>\n",
              "      <td>NaN</td>\n",
              "      <td>NaN</td>\n",
              "      <td>NaN</td>\n",
              "      <td>NaN</td>\n",
              "      <td>NaN</td>\n",
              "      <td>NaN</td>\n",
              "      <td>NaN</td>\n",
              "      <td>NaN</td>\n",
              "      <td>NaN</td>\n",
              "      <td>NaN</td>\n",
              "    </tr>\n",
              "    <tr>\n",
              "      <th>wpn_Sabotage Equipment</th>\n",
              "      <td>-0.003294</td>\n",
              "      <td>-0.001729</td>\n",
              "      <td>-0.007504</td>\n",
              "      <td>0.000041</td>\n",
              "      <td>0.016700</td>\n",
              "      <td>-0.000369</td>\n",
              "      <td>0.006712</td>\n",
              "      <td>-0.000732</td>\n",
              "      <td>-0.000631</td>\n",
              "      <td>-0.002014</td>\n",
              "      <td>...</td>\n",
              "      <td>-0.000532</td>\n",
              "      <td>-0.012303</td>\n",
              "      <td>NaN</td>\n",
              "      <td>-0.011402</td>\n",
              "      <td>-0.001367</td>\n",
              "      <td>-0.002244</td>\n",
              "      <td>-0.000300</td>\n",
              "      <td>NaN</td>\n",
              "      <td>1.000000</td>\n",
              "      <td>-0.000414</td>\n",
              "    </tr>\n",
              "    <tr>\n",
              "      <th>wpn_Vehicle (not to include vehicle-borne explosives, i.e., car or truck bombs)</th>\n",
              "      <td>0.012740</td>\n",
              "      <td>-0.004645</td>\n",
              "      <td>0.016551</td>\n",
              "      <td>0.000109</td>\n",
              "      <td>0.002602</td>\n",
              "      <td>0.010145</td>\n",
              "      <td>0.000162</td>\n",
              "      <td>-0.001966</td>\n",
              "      <td>0.017854</td>\n",
              "      <td>-0.005411</td>\n",
              "      <td>...</td>\n",
              "      <td>-0.001428</td>\n",
              "      <td>-0.033060</td>\n",
              "      <td>NaN</td>\n",
              "      <td>-0.030639</td>\n",
              "      <td>-0.003672</td>\n",
              "      <td>-0.006029</td>\n",
              "      <td>-0.000807</td>\n",
              "      <td>NaN</td>\n",
              "      <td>-0.000414</td>\n",
              "      <td>1.000000</td>\n",
              "    </tr>\n",
              "  </tbody>\n",
              "</table>\n",
              "<p>57 rows × 57 columns</p>\n",
              "</div>"
            ],
            "text/plain": [
              "                                                       iyear  extended  \\\n",
              "iyear                                               1.000000  0.040645   \n",
              "extended                                            0.040645  1.000000   \n",
              "latitude                                            0.223131 -0.016047   \n",
              "longitude                                           0.006771  0.000465   \n",
              "impact                                             -0.001960  0.003566   \n",
              "reg_Australasia & Oceania                          -0.031645 -0.001414   \n",
              "reg_Central America & Caribbean                    -0.347516 -0.017032   \n",
              "reg_Central Asia                                   -0.025339  0.002794   \n",
              "reg_East Asia                                      -0.021063 -0.007075   \n",
              "reg_Eastern Europe                                  0.020556  0.003483   \n",
              "reg_Middle East & North Africa                      0.237148 -0.043605   \n",
              "reg_North America                                  -0.119668  0.000307   \n",
              "reg_South America                                  -0.328758 -0.005006   \n",
              "reg_South Asia                                      0.162434  0.041411   \n",
              "reg_Southeast Asia                                  0.051657 -0.005178   \n",
              "reg_Sub-Saharan Africa                              0.077472  0.041771   \n",
              "reg_Western Europe                                 -0.300456 -0.022846   \n",
              "atck_Armed Assault                                 -0.029007 -0.050466   \n",
              "atck_Assassination                                 -0.286000 -0.042101   \n",
              "atck_Bombing/Explosion                              0.219236 -0.121942   \n",
              "atck_Facility/Infrastructure Attack                -0.033452 -0.004941   \n",
              "atck_Hijacking                                     -0.012612  0.061425   \n",
              "atck_Hostage Taking (Barricade Incident)           -0.007564  0.040198   \n",
              "atck_Hostage Taking (Kidnapping)                    0.067463  0.586705   \n",
              "atck_Unarmed Assault                                0.012422 -0.009226   \n",
              "targ_Abortion Related                              -0.016464 -0.002356   \n",
              "targ_Airports & Aircraft                           -0.065201  0.012097   \n",
              "targ_Business                                      -0.059727 -0.001950   \n",
              "targ_Educational Institution                       -0.011268 -0.001089   \n",
              "targ_Food or Water Supply                          -0.002598  0.002159   \n",
              "targ_Government (Diplomatic)                       -0.057096  0.007678   \n",
              "targ_Government (General)                          -0.036402  0.000144   \n",
              "targ_Journalists & Media                           -0.020431  0.028139   \n",
              "targ_Maritime                                      -0.018862  0.018866   \n",
              "targ_Military                                       0.013869 -0.029225   \n",
              "targ_NGO                                           -0.000245  0.032541   \n",
              "targ_Other                                          0.010754 -0.003921   \n",
              "targ_Police                                         0.006817 -0.021586   \n",
              "targ_Private Citizens & Property                    0.088618  0.033499   \n",
              "targ_Religious Figures/Institutions                 0.022401 -0.004615   \n",
              "targ_Telecommunication                             -0.015082 -0.002593   \n",
              "targ_Terrorists/Non-State Militia                   0.037311  0.002880   \n",
              "targ_Tourists                                      -0.022142  0.018507   \n",
              "targ_Transportation                                -0.058157 -0.015003   \n",
              "targ_Utilities                                     -0.021856 -0.000511   \n",
              "targ_Violent Political Party                       -0.018329 -0.002400   \n",
              "wpn_Biological                                     -0.007131  0.012436   \n",
              "wpn_Chemical                                        0.008150 -0.005957   \n",
              "wpn_Explosives                                      0.244620 -0.115115   \n",
              "wpn_Fake Weapons                                         NaN       NaN   \n",
              "wpn_Firearms                                       -0.238790  0.088602   \n",
              "wpn_Incendiary                                     -0.031998  0.003980   \n",
              "wpn_Melee                                          -0.004055  0.074474   \n",
              "wpn_Other                                           0.008009  0.009997   \n",
              "wpn_Radiological                                         NaN       NaN   \n",
              "wpn_Sabotage Equipment                             -0.003294 -0.001729   \n",
              "wpn_Vehicle (not to include vehicle-borne explo...  0.012740 -0.004645   \n",
              "\n",
              "                                                    latitude  longitude  \\\n",
              "iyear                                               0.223131   0.006771   \n",
              "extended                                           -0.016047   0.000465   \n",
              "latitude                                            1.000000   0.002452   \n",
              "longitude                                           0.002452   1.000000   \n",
              "impact                                              0.013110   0.000592   \n",
              "reg_Australasia & Oceania                          -0.079883   0.000110   \n",
              "reg_Central America & Caribbean                    -0.127114  -0.016638   \n",
              "reg_Central Asia                                    0.059696   0.000199   \n",
              "reg_East Asia                                       0.028351   0.000182   \n",
              "reg_Eastern Europe                                  0.213964   0.000539   \n",
              "reg_Middle East & North Africa                      0.391859   0.002449   \n",
              "reg_North America                                   0.045288   0.000274   \n",
              "reg_South America                                  -0.485841   0.000804   \n",
              "reg_South Asia                                      0.166611   0.002165   \n",
              "reg_Southeast Asia                                 -0.277661   0.001023   \n",
              "reg_Sub-Saharan Africa                             -0.481284   0.001074   \n",
              "reg_Western Europe                                  0.303964   0.000671   \n",
              "atck_Armed Assault                                 -0.134852  -0.004693   \n",
              "atck_Assassination                                 -0.083243   0.001403   \n",
              "atck_Bombing/Explosion                              0.194237   0.003104   \n",
              "atck_Facility/Infrastructure Attack                -0.023328   0.000303   \n",
              "atck_Hijacking                                     -0.003373   0.000125   \n",
              "atck_Hostage Taking (Barricade Incident)           -0.003721   0.000167   \n",
              "atck_Hostage Taking (Kidnapping)                   -0.017164   0.000568   \n",
              "atck_Unarmed Assault                                0.028050   0.000267   \n",
              "targ_Abortion Related                               0.015517   0.000049   \n",
              "targ_Airports & Aircraft                            0.003511   0.000195   \n",
              "targ_Business                                      -0.013053   0.000980   \n",
              "targ_Educational Institution                       -0.005684   0.000441   \n",
              "targ_Food or Water Supply                          -0.007857   0.000091   \n",
              "targ_Government (Diplomatic)                       -0.006864   0.000367   \n",
              "targ_Government (General)                          -0.057710   0.001209   \n",
              "targ_Journalists & Media                           -0.014298   0.000371   \n",
              "targ_Maritime                                      -0.018990   0.000114   \n",
              "targ_Military                                      -0.015262   0.001553   \n",
              "targ_NGO                                           -0.019097   0.000220   \n",
              "targ_Other                                          0.009530   0.000094   \n",
              "targ_Police                                         0.057143   0.001575   \n",
              "targ_Private Citizens & Property                    0.025205   0.002118   \n",
              "targ_Religious Figures/Institutions                 0.004076   0.000535   \n",
              "targ_Telecommunication                             -0.014805   0.000115   \n",
              "targ_Terrorists/Non-State Militia                   0.056773   0.000518   \n",
              "targ_Tourists                                       0.000897  -0.072859   \n",
              "targ_Transportation                                -0.028974   0.000578   \n",
              "targ_Utilities                                     -0.025411   0.000196   \n",
              "targ_Violent Political Party                       -0.031855   0.000369   \n",
              "wpn_Biological                                      0.008712   0.000034   \n",
              "wpn_Chemical                                        0.014365   0.000143   \n",
              "wpn_Explosives                                      0.210211   0.003312   \n",
              "wpn_Fake Weapons                                         NaN        NaN   \n",
              "wpn_Firearms                                       -0.209627  -0.003639   \n",
              "wpn_Incendiary                                     -0.028161   0.000361   \n",
              "wpn_Melee                                           0.007688   0.000601   \n",
              "wpn_Other                                          -0.005178   0.000080   \n",
              "wpn_Radiological                                         NaN        NaN   \n",
              "wpn_Sabotage Equipment                             -0.007504   0.000041   \n",
              "wpn_Vehicle (not to include vehicle-borne explo...  0.016551   0.000109   \n",
              "\n",
              "                                                      impact  \\\n",
              "iyear                                              -0.001960   \n",
              "extended                                            0.003566   \n",
              "latitude                                            0.013110   \n",
              "longitude                                           0.000592   \n",
              "impact                                              1.000000   \n",
              "reg_Australasia & Oceania                          -0.005809   \n",
              "reg_Central America & Caribbean                     0.007789   \n",
              "reg_Central Asia                                   -0.006164   \n",
              "reg_East Asia                                       0.018062   \n",
              "reg_Eastern Europe                                 -0.021413   \n",
              "reg_Middle East & North Africa                      0.054318   \n",
              "reg_North America                                  -0.018980   \n",
              "reg_South America                                  -0.037094   \n",
              "reg_South Asia                                     -0.000308   \n",
              "reg_Southeast Asia                                 -0.052600   \n",
              "reg_Sub-Saharan Africa                              0.035597   \n",
              "reg_Western Europe                                 -0.048073   \n",
              "atck_Armed Assault                                 -0.071646   \n",
              "atck_Assassination                                 -0.161917   \n",
              "atck_Bombing/Explosion                              0.192721   \n",
              "atck_Facility/Infrastructure Attack                -0.008324   \n",
              "atck_Hijacking                                     -0.001279   \n",
              "atck_Hostage Taking (Barricade Incident)            0.035996   \n",
              "atck_Hostage Taking (Kidnapping)                   -0.031822   \n",
              "atck_Unarmed Assault                                0.008620   \n",
              "targ_Abortion Related                              -0.006638   \n",
              "targ_Airports & Aircraft                            0.021460   \n",
              "targ_Business                                       0.021843   \n",
              "targ_Educational Institution                       -0.006855   \n",
              "targ_Food or Water Supply                          -0.000377   \n",
              "targ_Government (Diplomatic)                       -0.014610   \n",
              "targ_Government (General)                          -0.066488   \n",
              "targ_Journalists & Media                           -0.041561   \n",
              "targ_Maritime                                       0.011572   \n",
              "targ_Military                                       0.012066   \n",
              "targ_NGO                                           -0.016902   \n",
              "targ_Other                                          0.001904   \n",
              "targ_Police                                        -0.053478   \n",
              "targ_Private Citizens & Property                    0.044944   \n",
              "targ_Religious Figures/Institutions                 0.050034   \n",
              "targ_Telecommunication                             -0.004296   \n",
              "targ_Terrorists/Non-State Militia                  -0.017163   \n",
              "targ_Tourists                                       0.005266   \n",
              "targ_Transportation                                 0.084008   \n",
              "targ_Utilities                                     -0.004150   \n",
              "targ_Violent Political Party                       -0.012882   \n",
              "wpn_Biological                                     -0.001975   \n",
              "wpn_Chemical                                        0.046599   \n",
              "wpn_Explosives                                      0.192609   \n",
              "wpn_Fake Weapons                                         NaN   \n",
              "wpn_Firearms                                       -0.179817   \n",
              "wpn_Incendiary                                     -0.008044   \n",
              "wpn_Melee                                          -0.045560   \n",
              "wpn_Other                                          -0.005656   \n",
              "wpn_Radiological                                         NaN   \n",
              "wpn_Sabotage Equipment                              0.016700   \n",
              "wpn_Vehicle (not to include vehicle-borne explo...  0.002602   \n",
              "\n",
              "                                                    reg_Australasia & Oceania  \\\n",
              "iyear                                                               -0.031645   \n",
              "extended                                                            -0.001414   \n",
              "latitude                                                            -0.079883   \n",
              "longitude                                                            0.000110   \n",
              "impact                                                              -0.005809   \n",
              "reg_Australasia & Oceania                                            1.000000   \n",
              "reg_Central America & Caribbean                                     -0.005956   \n",
              "reg_Central Asia                                                    -0.001750   \n",
              "reg_East Asia                                                       -0.001510   \n",
              "reg_Eastern Europe                                                  -0.004815   \n",
              "reg_Middle East & North Africa                                      -0.021887   \n",
              "reg_North America                                                   -0.002841   \n",
              "reg_South America                                                   -0.008151   \n",
              "reg_South Asia                                                      -0.018673   \n",
              "reg_Southeast Asia                                                  -0.008477   \n",
              "reg_Sub-Saharan Africa                                              -0.009721   \n",
              "reg_Western Europe                                                  -0.006243   \n",
              "atck_Armed Assault                                                   0.003375   \n",
              "atck_Assassination                                                   0.008697   \n",
              "atck_Bombing/Explosion                                              -0.013429   \n",
              "atck_Facility/Infrastructure Attack                                  0.001306   \n",
              "atck_Hijacking                                                      -0.001116   \n",
              "atck_Hostage Taking (Barricade Incident)                             0.020257   \n",
              "atck_Hostage Taking (Kidnapping)                                    -0.000533   \n",
              "atck_Unarmed Assault                                                 0.011485   \n",
              "targ_Abortion Related                                               -0.000503   \n",
              "targ_Airports & Aircraft                                             0.010739   \n",
              "targ_Business                                                        0.010245   \n",
              "targ_Educational Institution                                         0.004619   \n",
              "targ_Food or Water Supply                                           -0.000807   \n",
              "targ_Government (Diplomatic)                                         0.010066   \n",
              "targ_Government (General)                                            0.003073   \n",
              "targ_Journalists & Media                                            -0.000056   \n",
              "targ_Maritime                                                       -0.001015   \n",
              "targ_Military                                                       -0.003367   \n",
              "targ_NGO                                                            -0.001961   \n",
              "targ_Other                                                          -0.000837   \n",
              "targ_Police                                                          0.002224   \n",
              "targ_Private Citizens & Property                                    -0.009056   \n",
              "targ_Religious Figures/Institutions                                 -0.002360   \n",
              "targ_Telecommunication                                              -0.001044   \n",
              "targ_Terrorists/Non-State Militia                                   -0.004610   \n",
              "targ_Tourists                                                       -0.001353   \n",
              "targ_Transportation                                                 -0.000732   \n",
              "targ_Utilities                                                      -0.001810   \n",
              "targ_Violent Political Party                                         0.000218   \n",
              "wpn_Biological                                                      -0.000341   \n",
              "wpn_Chemical                                                         0.016108   \n",
              "wpn_Explosives                                                      -0.015312   \n",
              "wpn_Fake Weapons                                                          NaN   \n",
              "wpn_Firearms                                                         0.010740   \n",
              "wpn_Incendiary                                                       0.000147   \n",
              "wpn_Melee                                                            0.007367   \n",
              "wpn_Other                                                           -0.000718   \n",
              "wpn_Radiological                                                          NaN   \n",
              "wpn_Sabotage Equipment                                              -0.000369   \n",
              "wpn_Vehicle (not to include vehicle-borne explo...                   0.010145   \n",
              "\n",
              "                                                    reg_Central America & Caribbean  \\\n",
              "iyear                                                                     -0.347516   \n",
              "extended                                                                  -0.017032   \n",
              "latitude                                                                  -0.127114   \n",
              "longitude                                                                 -0.016638   \n",
              "impact                                                                     0.007789   \n",
              "reg_Australasia & Oceania                                                 -0.005956   \n",
              "reg_Central America & Caribbean                                            1.000000   \n",
              "reg_Central Asia                                                          -0.011816   \n",
              "reg_East Asia                                                             -0.010195   \n",
              "reg_Eastern Europe                                                        -0.032515   \n",
              "reg_Middle East & North Africa                                            -0.147795   \n",
              "reg_North America                                                         -0.019183   \n",
              "reg_South America                                                         -0.055043   \n",
              "reg_South Asia                                                            -0.126095   \n",
              "reg_Southeast Asia                                                        -0.057241   \n",
              "reg_Sub-Saharan Africa                                                    -0.065646   \n",
              "reg_Western Europe                                                        -0.042160   \n",
              "atck_Armed Assault                                                         0.101286   \n",
              "atck_Assassination                                                         0.058037   \n",
              "atck_Bombing/Explosion                                                    -0.130747   \n",
              "atck_Facility/Infrastructure Attack                                        0.002660   \n",
              "atck_Hijacking                                                            -0.001445   \n",
              "atck_Hostage Taking (Barricade Incident)                                   0.006478   \n",
              "atck_Hostage Taking (Kidnapping)                                          -0.021189   \n",
              "atck_Unarmed Assault                                                      -0.008359   \n",
              "targ_Abortion Related                                                     -0.003395   \n",
              "targ_Airports & Aircraft                                                   0.004416   \n",
              "targ_Business                                                             -0.003779   \n",
              "targ_Educational Institution                                               0.014240   \n",
              "targ_Food or Water Supply                                                 -0.003347   \n",
              "targ_Government (Diplomatic)                                              -0.000853   \n",
              "targ_Government (General)                                                 -0.001398   \n",
              "targ_Journalists & Media                                                   0.005804   \n",
              "targ_Maritime                                                              0.006527   \n",
              "targ_Military                                                              0.125073   \n",
              "targ_NGO                                                                  -0.003680   \n",
              "targ_Other                                                                -0.001591   \n",
              "targ_Police                                                               -0.045483   \n",
              "targ_Private Citizens & Property                                          -0.054279   \n",
              "targ_Religious Figures/Institutions                                       -0.020291   \n",
              "targ_Telecommunication                                                     0.004345   \n",
              "targ_Terrorists/Non-State Militia                                         -0.020954   \n",
              "targ_Tourists                                                              0.003432   \n",
              "targ_Transportation                                                       -0.003502   \n",
              "targ_Utilities                                                             0.016944   \n",
              "targ_Violent Political Party                                              -0.012801   \n",
              "wpn_Biological                                                            -0.002306   \n",
              "wpn_Chemical                                                              -0.008584   \n",
              "wpn_Explosives                                                            -0.148153   \n",
              "wpn_Fake Weapons                                                                NaN   \n",
              "wpn_Firearms                                                               0.158931   \n",
              "wpn_Incendiary                                                            -0.007878   \n",
              "wpn_Melee                                                                 -0.021860   \n",
              "wpn_Other                                                                 -0.004847   \n",
              "wpn_Radiological                                                                NaN   \n",
              "wpn_Sabotage Equipment                                                     0.006712   \n",
              "wpn_Vehicle (not to include vehicle-borne explo...                         0.000162   \n",
              "\n",
              "                                                    reg_Central Asia  \\\n",
              "iyear                                                      -0.025339   \n",
              "extended                                                    0.002794   \n",
              "latitude                                                    0.059696   \n",
              "longitude                                                   0.000199   \n",
              "impact                                                     -0.006164   \n",
              "reg_Australasia & Oceania                                  -0.001750   \n",
              "reg_Central America & Caribbean                            -0.011816   \n",
              "reg_Central Asia                                            1.000000   \n",
              "reg_East Asia                                              -0.002995   \n",
              "reg_Eastern Europe                                         -0.009552   \n",
              "reg_Middle East & North Africa                             -0.043417   \n",
              "reg_North America                                          -0.005635   \n",
              "reg_South America                                          -0.016170   \n",
              "reg_South Asia                                             -0.037042   \n",
              "reg_Southeast Asia                                         -0.016815   \n",
              "reg_Sub-Saharan Africa                                     -0.019285   \n",
              "reg_Western Europe                                         -0.012385   \n",
              "atck_Armed Assault                                         -0.009487   \n",
              "atck_Assassination                                          0.023751   \n",
              "atck_Bombing/Explosion                                     -0.010676   \n",
              "atck_Facility/Infrastructure Attack                         0.000696   \n",
              "atck_Hijacking                                              0.012787   \n",
              "atck_Hostage Taking (Barricade Incident)                    0.000649   \n",
              "atck_Hostage Taking (Kidnapping)                            0.001390   \n",
              "atck_Unarmed Assault                                        0.004599   \n",
              "targ_Abortion Related                                      -0.000997   \n",
              "targ_Airports & Aircraft                                    0.002812   \n",
              "targ_Business                                              -0.004410   \n",
              "targ_Educational Institution                               -0.004924   \n",
              "targ_Food or Water Supply                                   0.005308   \n",
              "targ_Government (Diplomatic)                                0.010319   \n",
              "targ_Government (General)                                   0.022397   \n",
              "targ_Journalists & Media                                    0.013412   \n",
              "targ_Maritime                                               0.003480   \n",
              "targ_Military                                               0.004927   \n",
              "targ_NGO                                                    0.001819   \n",
              "targ_Other                                                 -0.001660   \n",
              "targ_Police                                                -0.002726   \n",
              "targ_Private Citizens & Property                           -0.018835   \n",
              "targ_Religious Figures/Institutions                        -0.002181   \n",
              "targ_Telecommunication                                     -0.002071   \n",
              "targ_Terrorists/Non-State Militia                          -0.002956   \n",
              "targ_Tourists                                              -0.002684   \n",
              "targ_Transportation                                         0.005407   \n",
              "targ_Utilities                                             -0.000501   \n",
              "targ_Violent Political Party                               -0.006413   \n",
              "wpn_Biological                                             -0.000677   \n",
              "wpn_Chemical                                                0.001870   \n",
              "wpn_Explosives                                             -0.008074   \n",
              "wpn_Fake Weapons                                                 NaN   \n",
              "wpn_Firearms                                                0.006927   \n",
              "wpn_Incendiary                                             -0.001305   \n",
              "wpn_Melee                                                   0.004372   \n",
              "wpn_Other                                                  -0.001424   \n",
              "wpn_Radiological                                                 NaN   \n",
              "wpn_Sabotage Equipment                                     -0.000732   \n",
              "wpn_Vehicle (not to include vehicle-borne explo...         -0.001966   \n",
              "\n",
              "                                                    reg_East Asia  \\\n",
              "iyear                                                   -0.021063   \n",
              "extended                                                -0.007075   \n",
              "latitude                                                 0.028351   \n",
              "longitude                                                0.000182   \n",
              "impact                                                   0.018062   \n",
              "reg_Australasia & Oceania                               -0.001510   \n",
              "reg_Central America & Caribbean                         -0.010195   \n",
              "reg_Central Asia                                        -0.002995   \n",
              "reg_East Asia                                            1.000000   \n",
              "reg_Eastern Europe                                      -0.008242   \n",
              "reg_Middle East & North Africa                          -0.037464   \n",
              "reg_North America                                       -0.004863   \n",
              "reg_South America                                       -0.013953   \n",
              "reg_South Asia                                          -0.031963   \n",
              "reg_Southeast Asia                                      -0.014510   \n",
              "reg_Sub-Saharan Africa                                  -0.016640   \n",
              "reg_Western Europe                                      -0.010687   \n",
              "atck_Armed Assault                                      -0.009275   \n",
              "atck_Assassination                                       0.000868   \n",
              "atck_Bombing/Explosion                                  -0.003631   \n",
              "atck_Facility/Infrastructure Attack                      0.030858   \n",
              "atck_Hijacking                                           0.021248   \n",
              "atck_Hostage Taking (Barricade Incident)                 0.001642   \n",
              "atck_Hostage Taking (Kidnapping)                        -0.004668   \n",
              "atck_Unarmed Assault                                     0.036518   \n",
              "targ_Abortion Related                                   -0.000860   \n",
              "targ_Airports & Aircraft                                 0.040890   \n",
              "targ_Business                                            0.017577   \n",
              "targ_Educational Institution                             0.003276   \n",
              "targ_Food or Water Supply                               -0.001382   \n",
              "targ_Government (Diplomatic)                             0.006057   \n",
              "targ_Government (General)                                0.003163   \n",
              "targ_Journalists & Media                                 0.005867   \n",
              "targ_Maritime                                           -0.001738   \n",
              "targ_Military                                           -0.021092   \n",
              "targ_NGO                                                -0.003356   \n",
              "targ_Other                                              -0.001432   \n",
              "targ_Police                                             -0.001090   \n",
              "targ_Private Citizens & Property                        -0.011233   \n",
              "targ_Religious Figures/Institutions                     -0.005329   \n",
              "targ_Telecommunication                                  -0.001787   \n",
              "targ_Terrorists/Non-State Militia                       -0.000725   \n",
              "targ_Tourists                                            0.002463   \n",
              "targ_Transportation                                      0.029935   \n",
              "targ_Utilities                                           0.000479   \n",
              "targ_Violent Political Party                            -0.001495   \n",
              "wpn_Biological                                          -0.000585   \n",
              "wpn_Chemical                                             0.043590   \n",
              "wpn_Explosives                                          -0.002127   \n",
              "wpn_Fake Weapons                                              NaN   \n",
              "wpn_Firearms                                            -0.037948   \n",
              "wpn_Incendiary                                           0.054354   \n",
              "wpn_Melee                                                0.066568   \n",
              "wpn_Other                                               -0.001229   \n",
              "wpn_Radiological                                              NaN   \n",
              "wpn_Sabotage Equipment                                  -0.000631   \n",
              "wpn_Vehicle (not to include vehicle-borne explo...       0.017854   \n",
              "\n",
              "                                                    reg_Eastern Europe  \\\n",
              "iyear                                                         0.020556   \n",
              "extended                                                      0.003483   \n",
              "latitude                                                      0.213964   \n",
              "longitude                                                     0.000539   \n",
              "impact                                                       -0.021413   \n",
              "reg_Australasia & Oceania                                    -0.004815   \n",
              "reg_Central America & Caribbean                              -0.032515   \n",
              "reg_Central Asia                                             -0.009552   \n",
              "reg_East Asia                                                -0.008242   \n",
              "reg_Eastern Europe                                            1.000000   \n",
              "reg_Middle East & North Africa                               -0.119478   \n",
              "reg_North America                                            -0.015508   \n",
              "reg_South America                                            -0.044497   \n",
              "reg_South Asia                                               -0.101936   \n",
              "reg_Southeast Asia                                           -0.046274   \n",
              "reg_Sub-Saharan Africa                                       -0.053069   \n",
              "reg_Western Europe                                           -0.034083   \n",
              "atck_Armed Assault                                            0.003944   \n",
              "atck_Assassination                                           -0.009441   \n",
              "atck_Bombing/Explosion                                        0.002462   \n",
              "atck_Facility/Infrastructure Attack                          -0.001290   \n",
              "atck_Hijacking                                                0.006916   \n",
              "atck_Hostage Taking (Barricade Incident)                     -0.001494   \n",
              "atck_Hostage Taking (Kidnapping)                             -0.010153   \n",
              "atck_Unarmed Assault                                          0.024287   \n",
              "targ_Abortion Related                                        -0.002744   \n",
              "targ_Airports & Aircraft                                     -0.003784   \n",
              "targ_Business                                                -0.007452   \n",
              "targ_Educational Institution                                 -0.009162   \n",
              "targ_Food or Water Supply                                     0.005865   \n",
              "targ_Government (Diplomatic)                                  0.002570   \n",
              "targ_Government (General)                                     0.014877   \n",
              "targ_Journalists & Media                                      0.014592   \n",
              "targ_Maritime                                                -0.005543   \n",
              "targ_Military                                                 0.006479   \n",
              "targ_NGO                                                      0.002025   \n",
              "targ_Other                                                    0.002863   \n",
              "targ_Police                                                   0.031585   \n",
              "targ_Private Citizens & Property                             -0.036312   \n",
              "targ_Religious Figures/Institutions                           0.003657   \n",
              "targ_Telecommunication                                       -0.003712   \n",
              "targ_Terrorists/Non-State Militia                            -0.019187   \n",
              "targ_Tourists                                                 0.003351   \n",
              "targ_Transportation                                           0.012946   \n",
              "targ_Utilities                                                0.002749   \n",
              "targ_Violent Political Party                                 -0.015703   \n",
              "wpn_Biological                                               -0.001864   \n",
              "wpn_Chemical                                                  0.001222   \n",
              "wpn_Explosives                                                0.013178   \n",
              "wpn_Fake Weapons                                                   NaN   \n",
              "wpn_Firearms                                                 -0.011944   \n",
              "wpn_Incendiary                                               -0.005012   \n",
              "wpn_Melee                                                     0.001004   \n",
              "wpn_Other                                                    -0.003919   \n",
              "wpn_Radiological                                                   NaN   \n",
              "wpn_Sabotage Equipment                                       -0.002014   \n",
              "wpn_Vehicle (not to include vehicle-borne explo...           -0.005411   \n",
              "\n",
              "                                                                                         ...                                         \\\n",
              "iyear                                                                                    ...                                          \n",
              "extended                                                                                 ...                                          \n",
              "latitude                                                                                 ...                                          \n",
              "longitude                                                                                ...                                          \n",
              "impact                                                                                   ...                                          \n",
              "reg_Australasia & Oceania                                                                ...                                          \n",
              "reg_Central America & Caribbean                                                          ...                                          \n",
              "reg_Central Asia                                                                         ...                                          \n",
              "reg_East Asia                                                                            ...                                          \n",
              "reg_Eastern Europe                                                                       ...                                          \n",
              "reg_Middle East & North Africa                                                           ...                                          \n",
              "reg_North America                                                                        ...                                          \n",
              "reg_South America                                                                        ...                                          \n",
              "reg_South Asia                                                                           ...                                          \n",
              "reg_Southeast Asia                                                                       ...                                          \n",
              "reg_Sub-Saharan Africa                                                                   ...                                          \n",
              "reg_Western Europe                                                                       ...                                          \n",
              "atck_Armed Assault                                                                       ...                                          \n",
              "atck_Assassination                                                                       ...                                          \n",
              "atck_Bombing/Explosion                                                                   ...                                          \n",
              "atck_Facility/Infrastructure Attack                                                      ...                                          \n",
              "atck_Hijacking                                                                           ...                                          \n",
              "atck_Hostage Taking (Barricade Incident)                                                 ...                                          \n",
              "atck_Hostage Taking (Kidnapping)                                                         ...                                          \n",
              "atck_Unarmed Assault                                                                     ...                                          \n",
              "targ_Abortion Related                                                                    ...                                          \n",
              "targ_Airports & Aircraft                                                                 ...                                          \n",
              "targ_Business                                                                            ...                                          \n",
              "targ_Educational Institution                                                             ...                                          \n",
              "targ_Food or Water Supply                                                                ...                                          \n",
              "targ_Government (Diplomatic)                                                             ...                                          \n",
              "targ_Government (General)                                                                ...                                          \n",
              "targ_Journalists & Media                                                                 ...                                          \n",
              "targ_Maritime                                                                            ...                                          \n",
              "targ_Military                                                                            ...                                          \n",
              "targ_NGO                                                                                 ...                                          \n",
              "targ_Other                                                                               ...                                          \n",
              "targ_Police                                                                              ...                                          \n",
              "targ_Private Citizens & Property                                                         ...                                          \n",
              "targ_Religious Figures/Institutions                                                      ...                                          \n",
              "targ_Telecommunication                                                                   ...                                          \n",
              "targ_Terrorists/Non-State Militia                                                        ...                                          \n",
              "targ_Tourists                                                                            ...                                          \n",
              "targ_Transportation                                                                      ...                                          \n",
              "targ_Utilities                                                                           ...                                          \n",
              "targ_Violent Political Party                                                             ...                                          \n",
              "wpn_Biological                                                                           ...                                          \n",
              "wpn_Chemical                                                                             ...                                          \n",
              "wpn_Explosives                                                                           ...                                          \n",
              "wpn_Fake Weapons                                                                         ...                                          \n",
              "wpn_Firearms                                                                             ...                                          \n",
              "wpn_Incendiary                                                                           ...                                          \n",
              "wpn_Melee                                                                                ...                                          \n",
              "wpn_Other                                                                                ...                                          \n",
              "wpn_Radiological                                                                         ...                                          \n",
              "wpn_Sabotage Equipment                                                                   ...                                          \n",
              "wpn_Vehicle (not to include vehicle-borne explo...                                       ...                                          \n",
              "\n",
              "                                                    wpn_Chemical  \\\n",
              "iyear                                                   0.008150   \n",
              "extended                                               -0.005957   \n",
              "latitude                                                0.014365   \n",
              "longitude                                               0.000143   \n",
              "impact                                                  0.046599   \n",
              "reg_Australasia & Oceania                               0.016108   \n",
              "reg_Central America & Caribbean                        -0.008584   \n",
              "reg_Central Asia                                        0.001870   \n",
              "reg_East Asia                                           0.043590   \n",
              "reg_Eastern Europe                                      0.001222   \n",
              "reg_Middle East & North Africa                         -0.007787   \n",
              "reg_North America                                       0.017669   \n",
              "reg_South America                                      -0.002655   \n",
              "reg_South Asia                                          0.010854   \n",
              "reg_Southeast Asia                                     -0.009285   \n",
              "reg_Sub-Saharan Africa                                 -0.007033   \n",
              "reg_Western Europe                                      0.005090   \n",
              "atck_Armed Assault                                     -0.029211   \n",
              "atck_Assassination                                     -0.008472   \n",
              "atck_Bombing/Explosion                                 -0.020091   \n",
              "atck_Facility/Infrastructure Attack                    -0.003956   \n",
              "atck_Hijacking                                         -0.001608   \n",
              "atck_Hostage Taking (Barricade Incident)                0.007890   \n",
              "atck_Hostage Taking (Kidnapping)                       -0.002567   \n",
              "atck_Unarmed Assault                                    0.340458   \n",
              "targ_Abortion Related                                  -0.000724   \n",
              "targ_Airports & Aircraft                                0.001794   \n",
              "targ_Business                                          -0.005137   \n",
              "targ_Educational Institution                            0.061659   \n",
              "targ_Food or Water Supply                               0.008331   \n",
              "targ_Government (Diplomatic)                            0.004503   \n",
              "targ_Government (General)                              -0.006731   \n",
              "targ_Journalists & Media                                0.002048   \n",
              "targ_Maritime                                          -0.001463   \n",
              "targ_Military                                          -0.008752   \n",
              "targ_NGO                                               -0.002826   \n",
              "targ_Other                                             -0.001206   \n",
              "targ_Police                                            -0.008302   \n",
              "targ_Private Citizens & Property                        0.001808   \n",
              "targ_Religious Figures/Institutions                     0.001442   \n",
              "targ_Telecommunication                                 -0.001504   \n",
              "targ_Terrorists/Non-State Militia                      -0.003242   \n",
              "targ_Tourists                                          -0.001950   \n",
              "targ_Transportation                                    -0.001285   \n",
              "targ_Utilities                                         -0.002609   \n",
              "targ_Violent Political Party                            0.012119   \n",
              "wpn_Biological                                         -0.000492   \n",
              "wpn_Chemical                                            1.000000   \n",
              "wpn_Explosives                                         -0.042399   \n",
              "wpn_Fake Weapons                                             NaN   \n",
              "wpn_Firearms                                           -0.039294   \n",
              "wpn_Incendiary                                         -0.004710   \n",
              "wpn_Melee                                              -0.007732   \n",
              "wpn_Other                                              -0.001035   \n",
              "wpn_Radiological                                             NaN   \n",
              "wpn_Sabotage Equipment                                 -0.000532   \n",
              "wpn_Vehicle (not to include vehicle-borne explo...     -0.001428   \n",
              "\n",
              "                                                    wpn_Explosives  \\\n",
              "iyear                                                     0.244620   \n",
              "extended                                                 -0.115115   \n",
              "latitude                                                  0.210211   \n",
              "longitude                                                 0.003312   \n",
              "impact                                                    0.192609   \n",
              "reg_Australasia & Oceania                                -0.015312   \n",
              "reg_Central America & Caribbean                          -0.148153   \n",
              "reg_Central Asia                                         -0.008074   \n",
              "reg_East Asia                                            -0.002127   \n",
              "reg_Eastern Europe                                        0.013178   \n",
              "reg_Middle East & North Africa                            0.258283   \n",
              "reg_North America                                        -0.048725   \n",
              "reg_South America                                        -0.123224   \n",
              "reg_South Asia                                           -0.014324   \n",
              "reg_Southeast Asia                                       -0.085043   \n",
              "reg_Sub-Saharan Africa                                   -0.083166   \n",
              "reg_Western Europe                                       -0.031173   \n",
              "atck_Armed Assault                                       -0.645850   \n",
              "atck_Assassination                                       -0.304814   \n",
              "atck_Bombing/Explosion                                    0.917281   \n",
              "atck_Facility/Infrastructure Attack                      -0.091081   \n",
              "atck_Hijacking                                           -0.027829   \n",
              "atck_Hostage Taking (Barricade Incident)                 -0.020628   \n",
              "atck_Hostage Taking (Kidnapping)                         -0.153298   \n",
              "atck_Unarmed Assault                                     -0.079984   \n",
              "targ_Abortion Related                                    -0.011559   \n",
              "targ_Airports & Aircraft                                  0.023390   \n",
              "targ_Business                                             0.087877   \n",
              "targ_Educational Institution                             -0.015669   \n",
              "targ_Food or Water Supply                                 0.003096   \n",
              "targ_Government (Diplomatic)                             -0.008383   \n",
              "targ_Government (General)                                -0.093642   \n",
              "targ_Journalists & Media                                 -0.063435   \n",
              "targ_Maritime                                            -0.002903   \n",
              "targ_Military                                             0.012969   \n",
              "targ_NGO                                                 -0.032892   \n",
              "targ_Other                                                0.010441   \n",
              "targ_Police                                              -0.039034   \n",
              "targ_Private Citizens & Property                          0.048315   \n",
              "targ_Religious Figures/Institutions                      -0.006130   \n",
              "targ_Telecommunication                                    0.001588   \n",
              "targ_Terrorists/Non-State Militia                         0.003066   \n",
              "targ_Tourists                                            -0.011201   \n",
              "targ_Transportation                                       0.061362   \n",
              "targ_Utilities                                            0.025974   \n",
              "targ_Violent Political Party                             -0.054372   \n",
              "wpn_Biological                                           -0.011390   \n",
              "wpn_Chemical                                             -0.042399   \n",
              "wpn_Explosives                                            1.000000   \n",
              "wpn_Fake Weapons                                               NaN   \n",
              "wpn_Firearms                                             -0.909403   \n",
              "wpn_Incendiary                                           -0.109002   \n",
              "wpn_Melee                                                -0.178955   \n",
              "wpn_Other                                                -0.023943   \n",
              "wpn_Radiological                                               NaN   \n",
              "wpn_Sabotage Equipment                                   -0.012303   \n",
              "wpn_Vehicle (not to include vehicle-borne explo...       -0.033060   \n",
              "\n",
              "                                                    wpn_Fake Weapons  \\\n",
              "iyear                                                            NaN   \n",
              "extended                                                         NaN   \n",
              "latitude                                                         NaN   \n",
              "longitude                                                        NaN   \n",
              "impact                                                           NaN   \n",
              "reg_Australasia & Oceania                                        NaN   \n",
              "reg_Central America & Caribbean                                  NaN   \n",
              "reg_Central Asia                                                 NaN   \n",
              "reg_East Asia                                                    NaN   \n",
              "reg_Eastern Europe                                               NaN   \n",
              "reg_Middle East & North Africa                                   NaN   \n",
              "reg_North America                                                NaN   \n",
              "reg_South America                                                NaN   \n",
              "reg_South Asia                                                   NaN   \n",
              "reg_Southeast Asia                                               NaN   \n",
              "reg_Sub-Saharan Africa                                           NaN   \n",
              "reg_Western Europe                                               NaN   \n",
              "atck_Armed Assault                                               NaN   \n",
              "atck_Assassination                                               NaN   \n",
              "atck_Bombing/Explosion                                           NaN   \n",
              "atck_Facility/Infrastructure Attack                              NaN   \n",
              "atck_Hijacking                                                   NaN   \n",
              "atck_Hostage Taking (Barricade Incident)                         NaN   \n",
              "atck_Hostage Taking (Kidnapping)                                 NaN   \n",
              "atck_Unarmed Assault                                             NaN   \n",
              "targ_Abortion Related                                            NaN   \n",
              "targ_Airports & Aircraft                                         NaN   \n",
              "targ_Business                                                    NaN   \n",
              "targ_Educational Institution                                     NaN   \n",
              "targ_Food or Water Supply                                        NaN   \n",
              "targ_Government (Diplomatic)                                     NaN   \n",
              "targ_Government (General)                                        NaN   \n",
              "targ_Journalists & Media                                         NaN   \n",
              "targ_Maritime                                                    NaN   \n",
              "targ_Military                                                    NaN   \n",
              "targ_NGO                                                         NaN   \n",
              "targ_Other                                                       NaN   \n",
              "targ_Police                                                      NaN   \n",
              "targ_Private Citizens & Property                                 NaN   \n",
              "targ_Religious Figures/Institutions                              NaN   \n",
              "targ_Telecommunication                                           NaN   \n",
              "targ_Terrorists/Non-State Militia                                NaN   \n",
              "targ_Tourists                                                    NaN   \n",
              "targ_Transportation                                              NaN   \n",
              "targ_Utilities                                                   NaN   \n",
              "targ_Violent Political Party                                     NaN   \n",
              "wpn_Biological                                                   NaN   \n",
              "wpn_Chemical                                                     NaN   \n",
              "wpn_Explosives                                                   NaN   \n",
              "wpn_Fake Weapons                                                 NaN   \n",
              "wpn_Firearms                                                     NaN   \n",
              "wpn_Incendiary                                                   NaN   \n",
              "wpn_Melee                                                        NaN   \n",
              "wpn_Other                                                        NaN   \n",
              "wpn_Radiological                                                 NaN   \n",
              "wpn_Sabotage Equipment                                           NaN   \n",
              "wpn_Vehicle (not to include vehicle-borne explo...               NaN   \n",
              "\n",
              "                                                    wpn_Firearms  \\\n",
              "iyear                                                  -0.238790   \n",
              "extended                                                0.088602   \n",
              "latitude                                               -0.209627   \n",
              "longitude                                              -0.003639   \n",
              "impact                                                 -0.179817   \n",
              "reg_Australasia & Oceania                               0.010740   \n",
              "reg_Central America & Caribbean                         0.158931   \n",
              "reg_Central Asia                                        0.006927   \n",
              "reg_East Asia                                          -0.037948   \n",
              "reg_Eastern Europe                                     -0.011944   \n",
              "reg_Middle East & North Africa                         -0.250432   \n",
              "reg_North America                                       0.023704   \n",
              "reg_South America                                       0.132444   \n",
              "reg_South Asia                                          0.016071   \n",
              "reg_Southeast Asia                                      0.096576   \n",
              "reg_Sub-Saharan Africa                                  0.069722   \n",
              "reg_Western Europe                                      0.013166   \n",
              "atck_Armed Assault                                      0.635296   \n",
              "atck_Assassination                                      0.299690   \n",
              "atck_Bombing/Explosion                                 -0.835396   \n",
              "atck_Facility/Infrastructure Attack                    -0.033706   \n",
              "atck_Hijacking                                          0.023842   \n",
              "atck_Hostage Taking (Barricade Incident)                0.015633   \n",
              "atck_Hostage Taking (Kidnapping)                        0.093928   \n",
              "atck_Unarmed Assault                                   -0.074126   \n",
              "targ_Abortion Related                                   0.000142   \n",
              "targ_Airports & Aircraft                               -0.024142   \n",
              "targ_Business                                          -0.085028   \n",
              "targ_Educational Institution                            0.006249   \n",
              "targ_Food or Water Supply                              -0.002966   \n",
              "targ_Government (Diplomatic)                            0.008112   \n",
              "targ_Government (General)                               0.104531   \n",
              "targ_Journalists & Media                                0.049191   \n",
              "targ_Maritime                                           0.002927   \n",
              "targ_Military                                           0.010763   \n",
              "targ_NGO                                                0.032899   \n",
              "targ_Other                                             -0.010155   \n",
              "targ_Police                                             0.059014   \n",
              "targ_Private Citizens & Property                       -0.081442   \n",
              "targ_Religious Figures/Institutions                    -0.001092   \n",
              "targ_Telecommunication                                 -0.013369   \n",
              "targ_Terrorists/Non-State Militia                       0.004246   \n",
              "targ_Tourists                                           0.000982   \n",
              "targ_Transportation                                    -0.073103   \n",
              "targ_Utilities                                         -0.023184   \n",
              "targ_Violent Political Party                            0.050944   \n",
              "wpn_Biological                                         -0.010556   \n",
              "wpn_Chemical                                           -0.039294   \n",
              "wpn_Explosives                                         -0.909403   \n",
              "wpn_Fake Weapons                                             NaN   \n",
              "wpn_Firearms                                            1.000000   \n",
              "wpn_Incendiary                                         -0.101018   \n",
              "wpn_Melee                                              -0.165848   \n",
              "wpn_Other                                              -0.022189   \n",
              "wpn_Radiological                                             NaN   \n",
              "wpn_Sabotage Equipment                                 -0.011402   \n",
              "wpn_Vehicle (not to include vehicle-borne explo...     -0.030639   \n",
              "\n",
              "                                                    wpn_Incendiary  wpn_Melee  \\\n",
              "iyear                                                    -0.031998  -0.004055   \n",
              "extended                                                  0.003980   0.074474   \n",
              "latitude                                                 -0.028161   0.007688   \n",
              "longitude                                                 0.000361   0.000601   \n",
              "impact                                                   -0.008044  -0.045560   \n",
              "reg_Australasia & Oceania                                 0.000147   0.007367   \n",
              "reg_Central America & Caribbean                          -0.007878  -0.021860   \n",
              "reg_Central Asia                                         -0.001305   0.004372   \n",
              "reg_East Asia                                             0.054354   0.066568   \n",
              "reg_Eastern Europe                                       -0.005012   0.001004   \n",
              "reg_Middle East & North Africa                           -0.045236   0.002936   \n",
              "reg_North America                                         0.046132   0.023909   \n",
              "reg_South America                                         0.010689  -0.028858   \n",
              "reg_South Asia                                           -0.007124   0.000302   \n",
              "reg_Southeast Asia                                       -0.007603  -0.023170   \n",
              "reg_Sub-Saharan Africa                                    0.033552   0.020308   \n",
              "reg_Western Europe                                        0.046824   0.019259   \n",
              "atck_Armed Assault                                        0.015981   0.040861   \n",
              "atck_Assassination                                       -0.033387   0.042647   \n",
              "atck_Bombing/Explosion                                   -0.096884  -0.167229   \n",
              "atck_Facility/Infrastructure Attack                       0.562510  -0.001583   \n",
              "atck_Hijacking                                           -0.001435   0.009992   \n",
              "atck_Hostage Taking (Barricade Incident)                  0.010210   0.006746   \n",
              "atck_Hostage Taking (Kidnapping)                         -0.002681   0.163399   \n",
              "atck_Unarmed Assault                                      0.016376   0.263278   \n",
              "targ_Abortion Related                                     0.040053   0.008106   \n",
              "targ_Airports & Aircraft                                  0.010514  -0.005458   \n",
              "targ_Business                                             0.033482  -0.027053   \n",
              "targ_Educational Institution                              0.015770   0.003631   \n",
              "targ_Food or Water Supply                                 0.004471  -0.004910   \n",
              "targ_Government (Diplomatic)                              0.000451  -0.000387   \n",
              "targ_Government (General)                                -0.014138  -0.018433   \n",
              "targ_Journalists & Media                                  0.005602   0.032896   \n",
              "targ_Maritime                                             0.002171  -0.000645   \n",
              "targ_Military                                            -0.036237  -0.044267   \n",
              "targ_NGO                                                 -0.001100   0.002440   \n",
              "targ_Other                                                0.000499  -0.000616   \n",
              "targ_Police                                              -0.026515  -0.037008   \n",
              "targ_Private Citizens & Property                          0.005621   0.089325   \n",
              "targ_Religious Figures/Institutions                       0.004546   0.018452   \n",
              "targ_Telecommunication                                    0.062520  -0.004556   \n",
              "targ_Terrorists/Non-State Militia                        -0.011065  -0.011427   \n",
              "targ_Tourists                                             0.006131   0.025013   \n",
              "targ_Transportation                                       0.066463  -0.012587   \n",
              "targ_Utilities                                            0.004973  -0.011011   \n",
              "targ_Violent Political Party                             -0.000675   0.009017   \n",
              "wpn_Biological                                           -0.001265  -0.002077   \n",
              "wpn_Chemical                                             -0.004710  -0.007732   \n",
              "wpn_Explosives                                           -0.109002  -0.178955   \n",
              "wpn_Fake Weapons                                               NaN        NaN   \n",
              "wpn_Firearms                                             -0.101018  -0.165848   \n",
              "wpn_Incendiary                                            1.000000  -0.019879   \n",
              "wpn_Melee                                                -0.019879   1.000000   \n",
              "wpn_Other                                                -0.002660  -0.004366   \n",
              "wpn_Radiological                                               NaN        NaN   \n",
              "wpn_Sabotage Equipment                                   -0.001367  -0.002244   \n",
              "wpn_Vehicle (not to include vehicle-borne explo...       -0.003672  -0.006029   \n",
              "\n",
              "                                                    wpn_Other  \\\n",
              "iyear                                                0.008009   \n",
              "extended                                             0.009997   \n",
              "latitude                                            -0.005178   \n",
              "longitude                                            0.000080   \n",
              "impact                                              -0.005656   \n",
              "reg_Australasia & Oceania                           -0.000718   \n",
              "reg_Central America & Caribbean                     -0.004847   \n",
              "reg_Central Asia                                    -0.001424   \n",
              "reg_East Asia                                       -0.001229   \n",
              "reg_Eastern Europe                                  -0.003919   \n",
              "reg_Middle East & North Africa                      -0.001579   \n",
              "reg_North America                                    0.007311   \n",
              "reg_South America                                   -0.003060   \n",
              "reg_South Asia                                      -0.002040   \n",
              "reg_Southeast Asia                                  -0.003443   \n",
              "reg_Sub-Saharan Africa                               0.015226   \n",
              "reg_Western Europe                                  -0.000551   \n",
              "atck_Armed Assault                                  -0.014212   \n",
              "atck_Assassination                                  -0.005374   \n",
              "atck_Bombing/Explosion                              -0.022441   \n",
              "atck_Facility/Infrastructure Attack                 -0.002234   \n",
              "atck_Hijacking                                      -0.000908   \n",
              "atck_Hostage Taking (Barricade Incident)            -0.001239   \n",
              "atck_Hostage Taking (Kidnapping)                     0.078890   \n",
              "atck_Unarmed Assault                                 0.089004   \n",
              "targ_Abortion Related                               -0.000409   \n",
              "targ_Airports & Aircraft                            -0.001440   \n",
              "targ_Business                                       -0.002155   \n",
              "targ_Educational Institution                        -0.003202   \n",
              "targ_Food or Water Supply                           -0.000657   \n",
              "targ_Government (Diplomatic)                        -0.002712   \n",
              "targ_Government (General)                           -0.003108   \n",
              "targ_Journalists & Media                             0.009469   \n",
              "targ_Maritime                                       -0.000826   \n",
              "targ_Military                                       -0.007817   \n",
              "targ_NGO                                            -0.001596   \n",
              "targ_Other                                          -0.000681   \n",
              "targ_Police                                         -0.002034   \n",
              "targ_Private Citizens & Property                     0.015840   \n",
              "targ_Religious Figures/Institutions                 -0.000932   \n",
              "targ_Telecommunication                              -0.000849   \n",
              "targ_Terrorists/Non-State Militia                   -0.003752   \n",
              "targ_Tourists                                       -0.001101   \n",
              "targ_Transportation                                 -0.004188   \n",
              "targ_Utilities                                      -0.001473   \n",
              "targ_Violent Political Party                        -0.002631   \n",
              "wpn_Biological                                      -0.000278   \n",
              "wpn_Chemical                                        -0.001035   \n",
              "wpn_Explosives                                      -0.023943   \n",
              "wpn_Fake Weapons                                          NaN   \n",
              "wpn_Firearms                                        -0.022189   \n",
              "wpn_Incendiary                                      -0.002660   \n",
              "wpn_Melee                                           -0.004366   \n",
              "wpn_Other                                            1.000000   \n",
              "wpn_Radiological                                          NaN   \n",
              "wpn_Sabotage Equipment                              -0.000300   \n",
              "wpn_Vehicle (not to include vehicle-borne explo...  -0.000807   \n",
              "\n",
              "                                                    wpn_Radiological  \\\n",
              "iyear                                                            NaN   \n",
              "extended                                                         NaN   \n",
              "latitude                                                         NaN   \n",
              "longitude                                                        NaN   \n",
              "impact                                                           NaN   \n",
              "reg_Australasia & Oceania                                        NaN   \n",
              "reg_Central America & Caribbean                                  NaN   \n",
              "reg_Central Asia                                                 NaN   \n",
              "reg_East Asia                                                    NaN   \n",
              "reg_Eastern Europe                                               NaN   \n",
              "reg_Middle East & North Africa                                   NaN   \n",
              "reg_North America                                                NaN   \n",
              "reg_South America                                                NaN   \n",
              "reg_South Asia                                                   NaN   \n",
              "reg_Southeast Asia                                               NaN   \n",
              "reg_Sub-Saharan Africa                                           NaN   \n",
              "reg_Western Europe                                               NaN   \n",
              "atck_Armed Assault                                               NaN   \n",
              "atck_Assassination                                               NaN   \n",
              "atck_Bombing/Explosion                                           NaN   \n",
              "atck_Facility/Infrastructure Attack                              NaN   \n",
              "atck_Hijacking                                                   NaN   \n",
              "atck_Hostage Taking (Barricade Incident)                         NaN   \n",
              "atck_Hostage Taking (Kidnapping)                                 NaN   \n",
              "atck_Unarmed Assault                                             NaN   \n",
              "targ_Abortion Related                                            NaN   \n",
              "targ_Airports & Aircraft                                         NaN   \n",
              "targ_Business                                                    NaN   \n",
              "targ_Educational Institution                                     NaN   \n",
              "targ_Food or Water Supply                                        NaN   \n",
              "targ_Government (Diplomatic)                                     NaN   \n",
              "targ_Government (General)                                        NaN   \n",
              "targ_Journalists & Media                                         NaN   \n",
              "targ_Maritime                                                    NaN   \n",
              "targ_Military                                                    NaN   \n",
              "targ_NGO                                                         NaN   \n",
              "targ_Other                                                       NaN   \n",
              "targ_Police                                                      NaN   \n",
              "targ_Private Citizens & Property                                 NaN   \n",
              "targ_Religious Figures/Institutions                              NaN   \n",
              "targ_Telecommunication                                           NaN   \n",
              "targ_Terrorists/Non-State Militia                                NaN   \n",
              "targ_Tourists                                                    NaN   \n",
              "targ_Transportation                                              NaN   \n",
              "targ_Utilities                                                   NaN   \n",
              "targ_Violent Political Party                                     NaN   \n",
              "wpn_Biological                                                   NaN   \n",
              "wpn_Chemical                                                     NaN   \n",
              "wpn_Explosives                                                   NaN   \n",
              "wpn_Fake Weapons                                                 NaN   \n",
              "wpn_Firearms                                                     NaN   \n",
              "wpn_Incendiary                                                   NaN   \n",
              "wpn_Melee                                                        NaN   \n",
              "wpn_Other                                                        NaN   \n",
              "wpn_Radiological                                                 NaN   \n",
              "wpn_Sabotage Equipment                                           NaN   \n",
              "wpn_Vehicle (not to include vehicle-borne explo...               NaN   \n",
              "\n",
              "                                                    wpn_Sabotage Equipment  \\\n",
              "iyear                                                            -0.003294   \n",
              "extended                                                         -0.001729   \n",
              "latitude                                                         -0.007504   \n",
              "longitude                                                         0.000041   \n",
              "impact                                                            0.016700   \n",
              "reg_Australasia & Oceania                                        -0.000369   \n",
              "reg_Central America & Caribbean                                   0.006712   \n",
              "reg_Central Asia                                                 -0.000732   \n",
              "reg_East Asia                                                    -0.000631   \n",
              "reg_Eastern Europe                                               -0.002014   \n",
              "reg_Middle East & North Africa                                   -0.009153   \n",
              "reg_North America                                                 0.008171   \n",
              "reg_South America                                                 0.000067   \n",
              "reg_South Asia                                                    0.004003   \n",
              "reg_Southeast Asia                                                0.009901   \n",
              "reg_Sub-Saharan Africa                                           -0.004065   \n",
              "reg_Western Europe                                               -0.002611   \n",
              "atck_Armed Assault                                               -0.006912   \n",
              "atck_Assassination                                               -0.005343   \n",
              "atck_Bombing/Explosion                                           -0.009752   \n",
              "atck_Facility/Infrastructure Attack                               0.115006   \n",
              "atck_Hijacking                                                   -0.000467   \n",
              "atck_Hostage Taking (Barricade Incident)                         -0.000637   \n",
              "atck_Hostage Taking (Kidnapping)                                 -0.002106   \n",
              "atck_Unarmed Assault                                             -0.001003   \n",
              "targ_Abortion Related                                            -0.000210   \n",
              "targ_Airports & Aircraft                                          0.014205   \n",
              "targ_Business                                                    -0.003685   \n",
              "targ_Educational Institution                                     -0.001645   \n",
              "targ_Food or Water Supply                                        -0.000338   \n",
              "targ_Government (Diplomatic)                                     -0.001394   \n",
              "targ_Government (General)                                        -0.001753   \n",
              "targ_Journalists & Media                                         -0.001409   \n",
              "targ_Maritime                                                    -0.000425   \n",
              "targ_Military                                                    -0.005842   \n",
              "targ_NGO                                                         -0.000820   \n",
              "targ_Other                                                       -0.000350   \n",
              "targ_Police                                                      -0.003596   \n",
              "targ_Private Citizens & Property                                 -0.005942   \n",
              "targ_Religious Figures/Institutions                               0.003713   \n",
              "targ_Telecommunication                                           -0.000437   \n",
              "targ_Terrorists/Non-State Militia                                -0.001928   \n",
              "targ_Tourists                                                    -0.000566   \n",
              "targ_Transportation                                               0.040036   \n",
              "targ_Utilities                                                    0.013851   \n",
              "targ_Violent Political Party                                     -0.001352   \n",
              "wpn_Biological                                                   -0.000143   \n",
              "wpn_Chemical                                                     -0.000532   \n",
              "wpn_Explosives                                                   -0.012303   \n",
              "wpn_Fake Weapons                                                       NaN   \n",
              "wpn_Firearms                                                     -0.011402   \n",
              "wpn_Incendiary                                                   -0.001367   \n",
              "wpn_Melee                                                        -0.002244   \n",
              "wpn_Other                                                        -0.000300   \n",
              "wpn_Radiological                                                       NaN   \n",
              "wpn_Sabotage Equipment                                            1.000000   \n",
              "wpn_Vehicle (not to include vehicle-borne explo...               -0.000414   \n",
              "\n",
              "                                                    wpn_Vehicle (not to include vehicle-borne explosives, i.e., car or truck bombs)  \n",
              "iyear                                                                                        0.012740                                \n",
              "extended                                                                                    -0.004645                                \n",
              "latitude                                                                                     0.016551                                \n",
              "longitude                                                                                    0.000109                                \n",
              "impact                                                                                       0.002602                                \n",
              "reg_Australasia & Oceania                                                                    0.010145                                \n",
              "reg_Central America & Caribbean                                                              0.000162                                \n",
              "reg_Central Asia                                                                            -0.001966                                \n",
              "reg_East Asia                                                                                0.017854                                \n",
              "reg_Eastern Europe                                                                          -0.005411                                \n",
              "reg_Middle East & North Africa                                                               0.018303                                \n",
              "reg_North America                                                                            0.031670                                \n",
              "reg_South America                                                                           -0.007865                                \n",
              "reg_South Asia                                                                              -0.015117                                \n",
              "reg_Southeast Asia                                                                          -0.009526                                \n",
              "reg_Sub-Saharan Africa                                                                      -0.010924                                \n",
              "reg_Western Europe                                                                           0.012680                                \n",
              "atck_Armed Assault                                                                          -0.020827                                \n",
              "atck_Assassination                                                                          -0.003437                                \n",
              "atck_Bombing/Explosion                                                                      -0.030325                                \n",
              "atck_Facility/Infrastructure Attack                                                          0.007732                                \n",
              "atck_Hijacking                                                                               0.016358                                \n",
              "atck_Hostage Taking (Barricade Incident)                                                    -0.001711                                \n",
              "atck_Hostage Taking (Kidnapping)                                                            -0.005660                                \n",
              "atck_Unarmed Assault                                                                         0.322715                                \n",
              "targ_Abortion Related                                                                       -0.000565                                \n",
              "targ_Airports & Aircraft                                                                    -0.001988                                \n",
              "targ_Business                                                                               -0.006268                                \n",
              "targ_Educational Institution                                                                -0.004422                                \n",
              "targ_Food or Water Supply                                                                   -0.000907                                \n",
              "targ_Government (Diplomatic)                                                                 0.002218                                \n",
              "targ_Government (General)                                                                   -0.004932                                \n",
              "targ_Journalists & Media                                                                     0.002112                                \n",
              "targ_Maritime                                                                               -0.001141                                \n",
              "targ_Military                                                                                0.016045                                \n",
              "targ_NGO                                                                                    -0.002204                                \n",
              "targ_Other                                                                                  -0.000940                                \n",
              "targ_Police                                                                                 -0.000457                                \n",
              "targ_Private Citizens & Property                                                            -0.005179                                \n",
              "targ_Religious Figures/Institutions                                                         -0.005330                                \n",
              "targ_Telecommunication                                                                      -0.001173                                \n",
              "targ_Terrorists/Non-State Militia                                                           -0.005181                                \n",
              "targ_Tourists                                                                                0.005748                                \n",
              "targ_Transportation                                                                          0.011896                                \n",
              "targ_Utilities                                                                              -0.002034                                \n",
              "targ_Violent Political Party                                                                -0.003633                                \n",
              "wpn_Biological                                                                              -0.000384                                \n",
              "wpn_Chemical                                                                                -0.001428                                \n",
              "wpn_Explosives                                                                              -0.033060                                \n",
              "wpn_Fake Weapons                                                                                  NaN                                \n",
              "wpn_Firearms                                                                                -0.030639                                \n",
              "wpn_Incendiary                                                                              -0.003672                                \n",
              "wpn_Melee                                                                                   -0.006029                                \n",
              "wpn_Other                                                                                   -0.000807                                \n",
              "wpn_Radiological                                                                                  NaN                                \n",
              "wpn_Sabotage Equipment                                                                      -0.000414                                \n",
              "wpn_Vehicle (not to include vehicle-borne explo...                                           1.000000                                \n",
              "\n",
              "[57 rows x 57 columns]"
            ]
          },
          "metadata": {
            "tags": []
          },
          "execution_count": 36
        }
      ]
    },
    {
      "metadata": {
        "id": "E6Jo95agA1NM",
        "colab_type": "code",
        "outputId": "af4e0fd5-3a31-4399-815f-674f7ce545eb",
        "colab": {
          "base_uri": "https://localhost:8080/",
          "height": 986
        }
      },
      "cell_type": "code",
      "source": [
        "corrmat = dataset.corr()\n",
        "plt.subplots(figsize=(12,9))\n",
        "sns.heatmap(corrmat, vmax=0.9, square=True)"
      ],
      "execution_count": 0,
      "outputs": [
        {
          "output_type": "execute_result",
          "data": {
            "text/plain": [
              "<matplotlib.axes._subplots.AxesSubplot at 0x7f7c6cda3128>"
            ]
          },
          "metadata": {
            "tags": []
          },
          "execution_count": 87
        },
        {
          "output_type": "display_data",
          "data": {
            "image/png": "[encoded data removed]",
            "text/plain": [
              "<Figure size 864x648 with 2 Axes>"
            ]
          },
          "metadata": {
            "tags": []
          }
        }
      ]
    },
    {
      "metadata": {
        "id": "OUfyjR3kKK1P",
        "colab_type": "code",
        "outputId": "f54170f9-c274-4c8d-9dad-c9527ff76eba",
        "colab": {
          "base_uri": "https://localhost:8080/",
          "height": 1006
        }
      },
      "cell_type": "code",
      "source": [
        "dataset.corr()[\"impact\"].abs().sort_values(ascending=False)"
      ],
      "execution_count": 0,
      "outputs": [
        {
          "output_type": "execute_result",
          "data": {
            "text/plain": [
              "impact                                                                             1.000000\n",
              "atck_Bombing/Explosion                                                             0.192721\n",
              "wpn_Explosives                                                                     0.192609\n",
              "wpn_Firearms                                                                       0.179817\n",
              "atck_Assassination                                                                 0.161917\n",
              "targ_Transportation                                                                0.084008\n",
              "atck_Armed Assault                                                                 0.071646\n",
              "targ_Government (General)                                                          0.066488\n",
              "reg_Middle East & North Africa                                                     0.054318\n",
              "targ_Police                                                                        0.053478\n",
              "reg_Southeast Asia                                                                 0.052600\n",
              "targ_Religious Figures/Institutions                                                0.050034\n",
              "reg_Western Europe                                                                 0.048073\n",
              "wpn_Chemical                                                                       0.046599\n",
              "wpn_Melee                                                                          0.045560\n",
              "targ_Private Citizens & Property                                                   0.044944\n",
              "targ_Journalists & Media                                                           0.041561\n",
              "reg_South America                                                                  0.037094\n",
              "atck_Hostage Taking (Barricade Incident)                                           0.035996\n",
              "reg_Sub-Saharan Africa                                                             0.035597\n",
              "atck_Hostage Taking (Kidnapping)                                                   0.031822\n",
              "targ_Business                                                                      0.021843\n",
              "targ_Airports & Aircraft                                                           0.021460\n",
              "reg_Eastern Europe                                                                 0.021413\n",
              "reg_North America                                                                  0.018980\n",
              "reg_East Asia                                                                      0.018062\n",
              "targ_Terrorists/Non-State Militia                                                  0.017163\n",
              "targ_NGO                                                                           0.016902\n",
              "wpn_Sabotage Equipment                                                             0.016700\n",
              "targ_Government (Diplomatic)                                                       0.014610\n",
              "latitude                                                                           0.013110\n",
              "targ_Violent Political Party                                                       0.012882\n",
              "targ_Military                                                                      0.012066\n",
              "targ_Maritime                                                                      0.011572\n",
              "atck_Unarmed Assault                                                               0.008620\n",
              "atck_Facility/Infrastructure Attack                                                0.008324\n",
              "wpn_Incendiary                                                                     0.008044\n",
              "reg_Central America & Caribbean                                                    0.007789\n",
              "targ_Educational Institution                                                       0.006855\n",
              "targ_Abortion Related                                                              0.006638\n",
              "reg_Central Asia                                                                   0.006164\n",
              "reg_Australasia & Oceania                                                          0.005809\n",
              "wpn_Other                                                                          0.005656\n",
              "targ_Tourists                                                                      0.005266\n",
              "targ_Telecommunication                                                             0.004296\n",
              "targ_Utilities                                                                     0.004150\n",
              "extended                                                                           0.003566\n",
              "wpn_Vehicle (not to include vehicle-borne explosives, i.e., car or truck bombs)    0.002602\n",
              "wpn_Biological                                                                     0.001975\n",
              "iyear                                                                              0.001960\n",
              "targ_Other                                                                         0.001904\n",
              "atck_Hijacking                                                                     0.001279\n",
              "longitude                                                                          0.000592\n",
              "targ_Food or Water Supply                                                          0.000377\n",
              "reg_South Asia                                                                     0.000308\n",
              "wpn_Fake Weapons                                                                        NaN\n",
              "wpn_Radiological                                                                        NaN\n",
              "Name: impact, dtype: float64"
            ]
          },
          "metadata": {
            "tags": []
          },
          "execution_count": 37
        }
      ]
    },
    {
      "metadata": {
        "id": "3ZY73_dTKK1T",
        "colab_type": "text"
      },
      "cell_type": "markdown",
      "source": [
        "## Training and Testing data split"
      ]
    },
    {
      "metadata": {
        "id": "SvregtthKK1U",
        "colab_type": "code",
        "colab": {}
      },
      "cell_type": "code",
      "source": [
        "from sklearn.model_selection import train_test_split"
      ],
      "execution_count": 0,
      "outputs": []
    },
    {
      "metadata": {
        "id": "o7k5cx32KK1b",
        "colab_type": "code",
        "colab": {}
      },
      "cell_type": "code",
      "source": [
        "predictors = dataset.drop(\"impact\",axis=1)\n",
        "target = dataset[\"impact\"]"
      ],
      "execution_count": 0,
      "outputs": []
    },
    {
      "metadata": {
        "id": "wsH59EI-KK1f",
        "colab_type": "code",
        "colab": {}
      },
      "cell_type": "code",
      "source": [
        "X_train,X_test,Y_train,Y_test = train_test_split(predictors,target,test_size=0.20,random_state=1)"
      ],
      "execution_count": 0,
      "outputs": []
    },
    {
      "metadata": {
        "id": "MH9Mmv7_KK1k",
        "colab_type": "text"
      },
      "cell_type": "markdown",
      "source": [
        "##### Therefore, the training set will have 72,622 examples, while the Testing set will have 18,156 examples."
      ]
    },
    {
      "metadata": {
        "id": "ejH3ZcDRKK1l",
        "colab_type": "code",
        "outputId": "c3324b9e-569b-4f3a-ce78-756b1a2248bd",
        "colab": {
          "base_uri": "https://localhost:8080/",
          "height": 34
        }
      },
      "cell_type": "code",
      "source": [
        "X_train.shape"
      ],
      "execution_count": 0,
      "outputs": [
        {
          "output_type": "execute_result",
          "data": {
            "text/plain": [
              "(72622, 56)"
            ]
          },
          "metadata": {
            "tags": []
          },
          "execution_count": 41
        }
      ]
    },
    {
      "metadata": {
        "id": "RUN55EYlKK1u",
        "colab_type": "code",
        "outputId": "0d9126d1-9422-4291-9ebb-c021f8d52a4a",
        "colab": {
          "base_uri": "https://localhost:8080/",
          "height": 34
        }
      },
      "cell_type": "code",
      "source": [
        "Y_train.shape"
      ],
      "execution_count": 0,
      "outputs": [
        {
          "output_type": "execute_result",
          "data": {
            "text/plain": [
              "(72622,)"
            ]
          },
          "metadata": {
            "tags": []
          },
          "execution_count": 42
        }
      ]
    },
    {
      "metadata": {
        "id": "n-4fskBpKK17",
        "colab_type": "code",
        "outputId": "f93bd8da-c6de-485f-fc82-4ae9d2485c29",
        "colab": {
          "base_uri": "https://localhost:8080/",
          "height": 34
        }
      },
      "cell_type": "code",
      "source": [
        "X_test.shape"
      ],
      "execution_count": 0,
      "outputs": [
        {
          "output_type": "execute_result",
          "data": {
            "text/plain": [
              "(18156, 56)"
            ]
          },
          "metadata": {
            "tags": []
          },
          "execution_count": 43
        }
      ]
    },
    {
      "metadata": {
        "id": "5Rj-iaowKK2A",
        "colab_type": "code",
        "outputId": "72d89277-ba1a-4f7b-dd54-d53ade53906c",
        "colab": {
          "base_uri": "https://localhost:8080/",
          "height": 34
        }
      },
      "cell_type": "code",
      "source": [
        "Y_test.shape"
      ],
      "execution_count": 0,
      "outputs": [
        {
          "output_type": "execute_result",
          "data": {
            "text/plain": [
              "(18156,)"
            ]
          },
          "metadata": {
            "tags": []
          },
          "execution_count": 91
        }
      ]
    },
    {
      "metadata": {
        "id": "JLswIsOWKK2K",
        "colab_type": "text"
      },
      "cell_type": "markdown",
      "source": [
        "## Model Fitting"
      ]
    },
    {
      "metadata": {
        "id": "hIcQ0-nAgnry",
        "colab_type": "code",
        "colab": {}
      },
      "cell_type": "code",
      "source": [
        "from sklearn.metrics import mean_absolute_error\n",
        "\n",
        "accuracy_scores = [1,2,3,4,5]"
      ],
      "execution_count": 0,
      "outputs": []
    },
    {
      "metadata": {
        "id": "NObymwYCKK2K",
        "colab_type": "text"
      },
      "cell_type": "markdown",
      "source": [
        "### Linear Regression"
      ]
    },
    {
      "metadata": {
        "id": "X_un6T9PKK2L",
        "colab_type": "code",
        "colab": {}
      },
      "cell_type": "code",
      "source": [
        "from sklearn.linear_model import LinearRegression"
      ],
      "execution_count": 0,
      "outputs": []
    },
    {
      "metadata": {
        "id": "KI_kp0-CKK2N",
        "colab_type": "code",
        "outputId": "dd6cef26-17d7-472f-cd68-4a07645272e7",
        "colab": {
          "base_uri": "https://localhost:8080/",
          "height": 51
        }
      },
      "cell_type": "code",
      "source": [
        "lr = LinearRegression()\n",
        "\n",
        "lr.fit(X_train,Y_train)"
      ],
      "execution_count": 0,
      "outputs": [
        {
          "output_type": "execute_result",
          "data": {
            "text/plain": [
              "LinearRegression(copy_X=True, fit_intercept=True, n_jobs=None,\n",
              "         normalize=False)"
            ]
          },
          "metadata": {
            "tags": []
          },
          "execution_count": 28
        }
      ]
    },
    {
      "metadata": {
        "id": "0wsQWSTGKK2P",
        "colab_type": "code",
        "colab": {}
      },
      "cell_type": "code",
      "source": [
        "Y_pred_lr = lr.predict(X_test)"
      ],
      "execution_count": 0,
      "outputs": []
    },
    {
      "metadata": {
        "id": "i05wcp_wBVGn",
        "colab_type": "code",
        "outputId": "9ab4e540-65ac-41ce-a171-31fc5dbd7db1",
        "colab": {
          "base_uri": "https://localhost:8080/",
          "height": 299
        }
      },
      "cell_type": "code",
      "source": [
        "plt.scatter(Y_pred_lr,Y_test)\n",
        "plt.xlabel(\"Predictions of Linear Regression\")\n",
        "plt.ylabel(\"Target Labels\")"
      ],
      "execution_count": 0,
      "outputs": [
        {
          "output_type": "execute_result",
          "data": {
            "text/plain": [
              "Text(0, 0.5, 'Target Labels')"
            ]
          },
          "metadata": {
            "tags": []
          },
          "execution_count": 53
        },
        {
          "output_type": "display_data",
          "data": {
            "image/png": "[encoded data removed]",
            "text/plain": [
              "<Figure size 432x288 with 1 Axes>"
            ]
          },
          "metadata": {
            "tags": []
          }
        }
      ]
    },
    {
      "metadata": {
        "id": "4CWE8xjR7rhp",
        "colab_type": "code",
        "outputId": "c071b862-6d5a-4909-8a57-22b29a6c9f56",
        "colab": {
          "base_uri": "https://localhost:8080/",
          "height": 34
        }
      },
      "cell_type": "code",
      "source": [
        "accuracy_scores[0] = mean_absolute_error(Y_test,Y_pred_lr)\n",
        "print(accuracy_scores[0])"
      ],
      "execution_count": 0,
      "outputs": [
        {
          "output_type": "stream",
          "text": [
            "6.6408724895616515\n"
          ],
          "name": "stdout"
        }
      ]
    },
    {
      "metadata": {
        "id": "z1-Ke8vrKK2Z",
        "colab_type": "text"
      },
      "cell_type": "markdown",
      "source": [
        "### Decision Tree"
      ]
    },
    {
      "metadata": {
        "id": "3uxiOIrnKK2b",
        "colab_type": "code",
        "colab": {}
      },
      "cell_type": "code",
      "source": [
        "from sklearn.tree import DecisionTreeRegressor"
      ],
      "execution_count": 0,
      "outputs": []
    },
    {
      "metadata": {
        "id": "NBiIMSshKK2e",
        "colab_type": "code",
        "outputId": "aa1b63ad-4058-4a07-f32a-70e4e30dded9",
        "colab": {
          "base_uri": "https://localhost:8080/",
          "height": 102
        }
      },
      "cell_type": "code",
      "source": [
        "dt = DecisionTreeRegressor(random_state=42)\n",
        "\n",
        "dt.fit(X_train,Y_train)"
      ],
      "execution_count": 0,
      "outputs": [
        {
          "output_type": "execute_result",
          "data": {
            "text/plain": [
              "DecisionTreeRegressor(criterion='mse', max_depth=None, max_features=None,\n",
              "           max_leaf_nodes=None, min_impurity_decrease=0.0,\n",
              "           min_impurity_split=None, min_samples_leaf=1,\n",
              "           min_samples_split=2, min_weight_fraction_leaf=0.0,\n",
              "           presort=False, random_state=42, splitter='best')"
            ]
          },
          "metadata": {
            "tags": []
          },
          "execution_count": 32
        }
      ]
    },
    {
      "metadata": {
        "id": "3__3Ep3PKK2g",
        "colab_type": "code",
        "colab": {}
      },
      "cell_type": "code",
      "source": [
        "Y_pred_dt = dt.predict(X_test)"
      ],
      "execution_count": 0,
      "outputs": []
    },
    {
      "metadata": {
        "id": "bzOt76kACfQm",
        "colab_type": "code",
        "outputId": "b3f7a7e6-b701-4e10-d387-ec91fa8beb5f",
        "colab": {
          "base_uri": "https://localhost:8080/",
          "height": 299
        }
      },
      "cell_type": "code",
      "source": [
        "plt.scatter(Y_pred_dt,Y_test)\n",
        "plt.xlabel(\"Predictions of Decision Tree\")\n",
        "plt.ylabel(\"Target Labels\")"
      ],
      "execution_count": 0,
      "outputs": [
        {
          "output_type": "execute_result",
          "data": {
            "text/plain": [
              "Text(0, 0.5, 'Target Labels')"
            ]
          },
          "metadata": {
            "tags": []
          },
          "execution_count": 57
        },
        {
          "output_type": "display_data",
          "data": {
            "image/png": "[encoded data removed]",
            "text/plain": [
              "<Figure size 432x288 with 1 Axes>"
            ]
          },
          "metadata": {
            "tags": []
          }
        }
      ]
    },
    {
      "metadata": {
        "id": "lz0mksDgGBPI",
        "colab_type": "code",
        "outputId": "e78ecd36-ed18-4bee-f92d-ebe320c2847b",
        "colab": {
          "base_uri": "https://localhost:8080/",
          "height": 34
        }
      },
      "cell_type": "code",
      "source": [
        "accuracy_scores[1] = mean_absolute_error(Y_test,Y_pred_dt)\n",
        "print(accuracy_scores[1])"
      ],
      "execution_count": 0,
      "outputs": [
        {
          "output_type": "stream",
          "text": [
            "6.946091432448082\n"
          ],
          "name": "stdout"
        }
      ]
    },
    {
      "metadata": {
        "id": "OlDOocQmKK2k",
        "colab_type": "text"
      },
      "cell_type": "markdown",
      "source": [
        "### Random Forest"
      ]
    },
    {
      "metadata": {
        "id": "nQp_PBuQKK2l",
        "colab_type": "code",
        "colab": {}
      },
      "cell_type": "code",
      "source": [
        "from sklearn.ensemble import RandomForestRegressor"
      ],
      "execution_count": 0,
      "outputs": []
    },
    {
      "metadata": {
        "id": "QmrgoUmjKK2o",
        "colab_type": "code",
        "outputId": "4e8e94ab-44b1-4911-c474-43585c3f3bc6",
        "colab": {
          "base_uri": "https://localhost:8080/",
          "height": 119
        }
      },
      "cell_type": "code",
      "source": [
        "rf = RandomForestRegressor(n_estimators = 10, random_state = 42)\n",
        "\n",
        "rf.fit(X_train, Y_train)"
      ],
      "execution_count": 0,
      "outputs": [
        {
          "output_type": "execute_result",
          "data": {
            "text/plain": [
              "RandomForestRegressor(bootstrap=True, criterion='mse', max_depth=None,\n",
              "           max_features='auto', max_leaf_nodes=None,\n",
              "           min_impurity_decrease=0.0, min_impurity_split=None,\n",
              "           min_samples_leaf=1, min_samples_split=2,\n",
              "           min_weight_fraction_leaf=0.0, n_estimators=10, n_jobs=None,\n",
              "           oob_score=False, random_state=42, verbose=0, warm_start=False)"
            ]
          },
          "metadata": {
            "tags": []
          },
          "execution_count": 37
        }
      ]
    },
    {
      "metadata": {
        "id": "cLs2rgARKK2s",
        "colab_type": "code",
        "colab": {}
      },
      "cell_type": "code",
      "source": [
        "Y_pred_rf = rf.predict(X_test)"
      ],
      "execution_count": 0,
      "outputs": []
    },
    {
      "metadata": {
        "id": "bkHuNczgDdzg",
        "colab_type": "code",
        "outputId": "d995b3da-f31f-4b83-fcb3-65cf65548bea",
        "colab": {
          "base_uri": "https://localhost:8080/",
          "height": 299
        }
      },
      "cell_type": "code",
      "source": [
        "plt.scatter(Y_pred_rf,Y_test)\n",
        "plt.xlabel(\"Predictions of Random Forest\")\n",
        "plt.ylabel(\"Target Labels\")"
      ],
      "execution_count": 0,
      "outputs": [
        {
          "output_type": "execute_result",
          "data": {
            "text/plain": [
              "Text(0, 0.5, 'Target Labels')"
            ]
          },
          "metadata": {
            "tags": []
          },
          "execution_count": 58
        },
        {
          "output_type": "display_data",
          "data": {
            "image/png": "[encoded data removed]",
            "text/plain": [
              "<Figure size 432x288 with 1 Axes>"
            ]
          },
          "metadata": {
            "tags": []
          }
        }
      ]
    },
    {
      "metadata": {
        "id": "UG-mmT04GUWy",
        "colab_type": "code",
        "outputId": "959cfdcb-0eca-4abb-a5ba-4309d99e4da9",
        "colab": {
          "base_uri": "https://localhost:8080/",
          "height": 34
        }
      },
      "cell_type": "code",
      "source": [
        "accuracy_scores[2] = mean_absolute_error(Y_test,Y_pred_rf)\n",
        "print(accuracy_scores[2])"
      ],
      "execution_count": 0,
      "outputs": [
        {
          "output_type": "stream",
          "text": [
            "6.220620649939352\n"
          ],
          "name": "stdout"
        }
      ]
    },
    {
      "metadata": {
        "id": "Afu-XzccKK2u",
        "colab_type": "text"
      },
      "cell_type": "markdown",
      "source": [
        "### XGBoost Regression"
      ]
    },
    {
      "metadata": {
        "id": "B7LNrAtkKK2v",
        "colab_type": "code",
        "colab": {}
      },
      "cell_type": "code",
      "source": [
        "import xgboost as xgb"
      ],
      "execution_count": 0,
      "outputs": []
    },
    {
      "metadata": {
        "id": "lsXSK3LBKK21",
        "colab_type": "code",
        "outputId": "ef042a25-e808-4562-8ae9-3318c3a7ec05",
        "colab": {
          "base_uri": "https://localhost:8080/",
          "height": 170
        }
      },
      "cell_type": "code",
      "source": [
        "model_xgb = xgb.XGBRegressor()\n",
        "\n",
        "model_xgb.fit(X_train,Y_train)"
      ],
      "execution_count": 0,
      "outputs": [
        {
          "output_type": "stream",
          "text": [
            "/usr/local/lib/python3.6/dist-packages/xgboost/core.py:587: FutureWarning: Series.base is deprecated and will be removed in a future version\n",
            "  if getattr(data, 'base', None) is not None and \\\n"
          ],
          "name": "stderr"
        },
        {
          "output_type": "execute_result",
          "data": {
            "text/plain": [
              "XGBRegressor(base_score=0.5, booster='gbtree', colsample_bylevel=1,\n",
              "       colsample_bytree=1, gamma=0, importance_type='gain',\n",
              "       learning_rate=0.1, max_delta_step=0, max_depth=3,\n",
              "       min_child_weight=1, missing=None, n_estimators=100, n_jobs=1,\n",
              "       nthread=None, objective='reg:linear', random_state=0, reg_alpha=0,\n",
              "       reg_lambda=1, scale_pos_weight=1, seed=None, silent=True,\n",
              "       subsample=1)"
            ]
          },
          "metadata": {
            "tags": []
          },
          "execution_count": 41
        }
      ]
    },
    {
      "metadata": {
        "id": "-Wt5W6VkKK2-",
        "colab_type": "code",
        "colab": {}
      },
      "cell_type": "code",
      "source": [
        "Y_pred_xgb = model_xgb.predict(X_test)"
      ],
      "execution_count": 0,
      "outputs": []
    },
    {
      "metadata": {
        "id": "O1R87NdDD2O6",
        "colab_type": "code",
        "outputId": "c33e4b11-f9b3-4240-c7b2-24921de37610",
        "colab": {
          "base_uri": "https://localhost:8080/",
          "height": 299
        }
      },
      "cell_type": "code",
      "source": [
        "plt.scatter(Y_pred_xgb,Y_test)\n",
        "plt.xlabel(\"Predictions of XGBoost\")\n",
        "plt.ylabel(\"Target Labels\")"
      ],
      "execution_count": 0,
      "outputs": [
        {
          "output_type": "execute_result",
          "data": {
            "text/plain": [
              "Text(0, 0.5, 'Target Labels')"
            ]
          },
          "metadata": {
            "tags": []
          },
          "execution_count": 59
        },
        {
          "output_type": "display_data",
          "data": {
            "image/png": "[encoded data removed]",
            "text/plain": [
              "<Figure size 432x288 with 1 Axes>"
            ]
          },
          "metadata": {
            "tags": []
          }
        }
      ]
    },
    {
      "metadata": {
        "id": "Ea-IakguG1h1",
        "colab_type": "code",
        "outputId": "d33b7e95-f9a6-46b0-fb8c-1d62c4c3ceff",
        "colab": {
          "base_uri": "https://localhost:8080/",
          "height": 34
        }
      },
      "cell_type": "code",
      "source": [
        "accuracy_scores[3] = mean_absolute_error(Y_test,Y_pred_xgb)\n",
        "print(accuracy_scores[3])"
      ],
      "execution_count": 0,
      "outputs": [
        {
          "output_type": "stream",
          "text": [
            "6.341275831114474\n"
          ],
          "name": "stdout"
        }
      ]
    },
    {
      "metadata": {
        "id": "dU4feqfgKK3C",
        "colab_type": "text"
      },
      "cell_type": "markdown",
      "source": [
        "### Neural Network"
      ]
    },
    {
      "metadata": {
        "id": "5wKoKhnzKK3D",
        "colab_type": "code",
        "outputId": "1076e28d-2e91-4a75-c95d-a9d9e442a13b",
        "colab": {
          "base_uri": "https://localhost:8080/",
          "height": 34
        }
      },
      "cell_type": "code",
      "source": [
        "from keras.callbacks import ModelCheckpoint\n",
        "from keras.models import Sequential\n",
        "from keras.layers import Dense, Activation, Flatten"
      ],
      "execution_count": 0,
      "outputs": [
        {
          "output_type": "stream",
          "text": [
            "Using TensorFlow backend.\n"
          ],
          "name": "stderr"
        }
      ]
    },
    {
      "metadata": {
        "id": "x7NAq-ROKK3F",
        "colab_type": "code",
        "outputId": "94c4dbed-23ea-41fc-e4e6-a95d4fa9c3be",
        "colab": {
          "base_uri": "https://localhost:8080/",
          "height": 358
        }
      },
      "cell_type": "code",
      "source": [
        "\n",
        "model = Sequential()\n",
        "model.add(Dense(16,kernel_initializer='normal',activation='relu',input_dim=56))\n",
        "model.add(Dense(16,kernel_initializer='normal',activation='relu'))\n",
        "model.add(Dense(16,kernel_initializer='normal',activation='relu'))\n",
        "model.add(Dense(16,kernel_initializer='normal',activation='relu'))\n",
        "model.add(Dense(1,kernel_initializer='normal',activation='linear'))\n",
        "\n",
        "model.compile(loss=\"mean_absolute_error\",optimizer='adam',metrics=['mean_absolute_error'])\n",
        "\n",
        "model.summary()"
      ],
      "execution_count": 0,
      "outputs": [
        {
          "output_type": "stream",
          "text": [
            "WARNING:tensorflow:From /usr/local/lib/python3.6/dist-packages/tensorflow/python/framework/op_def_library.py:263: colocate_with (from tensorflow.python.framework.ops) is deprecated and will be removed in a future version.\n",
            "Instructions for updating:\n",
            "Colocations handled automatically by placer.\n",
            "_________________________________________________________________\n",
            "Layer (type)                 Output Shape              Param #   \n",
            "=================================================================\n",
            "dense_1 (Dense)              (None, 16)                912       \n",
            "_________________________________________________________________\n",
            "dense_2 (Dense)              (None, 16)                272       \n",
            "_________________________________________________________________\n",
            "dense_3 (Dense)              (None, 16)                272       \n",
            "_________________________________________________________________\n",
            "dense_4 (Dense)              (None, 16)                272       \n",
            "_________________________________________________________________\n",
            "dense_5 (Dense)              (None, 1)                 17        \n",
            "=================================================================\n",
            "Total params: 1,745\n",
            "Trainable params: 1,745\n",
            "Non-trainable params: 0\n",
            "_________________________________________________________________\n"
          ],
          "name": "stdout"
        }
      ]
    },
    {
      "metadata": {
        "id": "M3a4d9yGKK3M",
        "colab_type": "code",
        "outputId": "d5ed2ccf-1484-4c4d-f63b-202ad11bc8e9",
        "colab": {
          "base_uri": "https://localhost:8080/",
          "height": 426
        }
      },
      "cell_type": "code",
      "source": [
        "model.fit(X_train, Y_train, epochs=10)\n"
      ],
      "execution_count": 0,
      "outputs": [
        {
          "output_type": "stream",
          "text": [
            "WARNING:tensorflow:From /usr/local/lib/python3.6/dist-packages/tensorflow/python/ops/math_ops.py:3066: to_int32 (from tensorflow.python.ops.math_ops) is deprecated and will be removed in a future version.\n",
            "Instructions for updating:\n",
            "Use tf.cast instead.\n",
            "Epoch 1/10\n",
            "72622/72622 [==============================] - 10s 140us/step - loss: 5.9986 - mean_absolute_error: 5.9986\n",
            "Epoch 2/10\n",
            "72622/72622 [==============================] - 8s 106us/step - loss: 7.8124 - mean_absolute_error: 7.8124\n",
            "Epoch 3/10\n",
            "72622/72622 [==============================] - 8s 105us/step - loss: 5.9274 - mean_absolute_error: 5.9274\n",
            "Epoch 4/10\n",
            "72622/72622 [==============================] - 8s 105us/step - loss: 5.7079 - mean_absolute_error: 5.7079\n",
            "Epoch 5/10\n",
            "72622/72622 [==============================] - 8s 104us/step - loss: 6.9321 - mean_absolute_error: 6.9321\n",
            "Epoch 6/10\n",
            "72622/72622 [==============================] - 8s 105us/step - loss: 5.9473 - mean_absolute_error: 5.9473\n",
            "Epoch 7/10\n",
            "72622/72622 [==============================] - 8s 105us/step - loss: 5.7055 - mean_absolute_error: 5.7055\n",
            "Epoch 8/10\n",
            "72622/72622 [==============================] - 8s 107us/step - loss: 6.0097 - mean_absolute_error: 6.0097\n",
            "Epoch 9/10\n",
            "72622/72622 [==============================] - 8s 114us/step - loss: 6.3373 - mean_absolute_error: 6.3373\n",
            "Epoch 10/10\n",
            "72622/72622 [==============================] - 8s 105us/step - loss: 5.7309 - mean_absolute_error: 5.7309\n"
          ],
          "name": "stdout"
        },
        {
          "output_type": "execute_result",
          "data": {
            "text/plain": [
              "<keras.callbacks.History at 0x7f9e421a5668>"
            ]
          },
          "metadata": {
            "tags": []
          },
          "execution_count": 46
        }
      ]
    },
    {
      "metadata": {
        "id": "qL7xFJe9K4qq",
        "colab_type": "code",
        "outputId": "b54cb64c-7863-4d55-92a0-6baca777b7ea",
        "colab": {
          "base_uri": "https://localhost:8080/",
          "height": 968
        }
      },
      "cell_type": "code",
      "source": [
        "history = model.fit(X_train, Y_train, epochs=20)\n",
        "\n",
        "plt.plot(history.history['mean_absolute_error'])"
      ],
      "execution_count": 0,
      "outputs": [
        {
          "output_type": "stream",
          "text": [
            "Epoch 1/20\n",
            "72622/72622 [==============================] - 8s 104us/step - loss: 5.6252 - mean_absolute_error: 5.6252\n",
            "Epoch 2/20\n",
            "72622/72622 [==============================] - 8s 105us/step - loss: 5.6873 - mean_absolute_error: 5.6873\n",
            "Epoch 3/20\n",
            "72622/72622 [==============================] - 8s 105us/step - loss: 5.6142 - mean_absolute_error: 5.6142\n",
            "Epoch 4/20\n",
            "72622/72622 [==============================] - 8s 105us/step - loss: 6.4190 - mean_absolute_error: 6.4190\n",
            "Epoch 5/20\n",
            "72622/72622 [==============================] - 8s 104us/step - loss: 5.6800 - mean_absolute_error: 5.6800\n",
            "Epoch 6/20\n",
            "72622/72622 [==============================] - 8s 104us/step - loss: 5.8022 - mean_absolute_error: 5.8022\n",
            "Epoch 7/20\n",
            "72622/72622 [==============================] - 8s 106us/step - loss: 5.6858 - mean_absolute_error: 5.6858\n",
            "Epoch 8/20\n",
            "72622/72622 [==============================] - 8s 104us/step - loss: 5.6972 - mean_absolute_error: 5.6972\n",
            "Epoch 9/20\n",
            "72622/72622 [==============================] - 8s 112us/step - loss: 5.6000 - mean_absolute_error: 5.6000\n",
            "Epoch 10/20\n",
            "72622/72622 [==============================] - 8s 109us/step - loss: 5.8247 - mean_absolute_error: 5.8247\n",
            "Epoch 11/20\n",
            "72622/72622 [==============================] - 8s 104us/step - loss: 5.6919 - mean_absolute_error: 5.6919\n",
            "Epoch 12/20\n",
            "72622/72622 [==============================] - 8s 103us/step - loss: 5.5672 - mean_absolute_error: 5.5672\n",
            "Epoch 13/20\n",
            "72622/72622 [==============================] - 8s 104us/step - loss: 5.6120 - mean_absolute_error: 5.6120\n",
            "Epoch 14/20\n",
            "72622/72622 [==============================] - 8s 104us/step - loss: 5.6620 - mean_absolute_error: 5.6620\n",
            "Epoch 15/20\n",
            "72622/72622 [==============================] - 8s 104us/step - loss: 5.5625 - mean_absolute_error: 5.5625\n",
            "Epoch 16/20\n",
            "72622/72622 [==============================] - 8s 104us/step - loss: 5.6178 - mean_absolute_error: 5.6178\n",
            "Epoch 17/20\n",
            "72622/72622 [==============================] - 8s 104us/step - loss: 5.5541 - mean_absolute_error: 5.5541\n",
            "Epoch 18/20\n",
            "72622/72622 [==============================] - 8s 105us/step - loss: 5.5564 - mean_absolute_error: 5.5564\n",
            "Epoch 19/20\n",
            "72622/72622 [==============================] - 8s 108us/step - loss: 5.5517 - mean_absolute_error: 5.5517\n",
            "Epoch 20/20\n",
            "72622/72622 [==============================] - 9s 119us/step - loss: 5.5517 - mean_absolute_error: 5.5517\n"
          ],
          "name": "stdout"
        },
        {
          "output_type": "execute_result",
          "data": {
            "text/plain": [
              "[<matplotlib.lines.Line2D at 0x7f9e414c5828>]"
            ]
          },
          "metadata": {
            "tags": []
          },
          "execution_count": 47
        },
        {
          "output_type": "display_data",
          "data": {
            "image/png": "[encoded data removed]",
            "text/plain": [
              "<Figure size 432x288 with 1 Axes>"
            ]
          },
          "metadata": {
            "tags": []
          }
        }
      ]
    },
    {
      "metadata": {
        "id": "6KIPwo5wMiuo",
        "colab_type": "code",
        "outputId": "e881c78f-5783-4ad8-f9ba-552729dd9d37",
        "colab": {
          "base_uri": "https://localhost:8080/",
          "height": 524
        }
      },
      "cell_type": "code",
      "source": [
        "plt.plot(history.history['mean_absolute_error'])\n",
        "plt.ylabel(\"Mean Absolute Error with each epoch\")\n",
        "plt.xlabel(\"Epochs\")"
      ],
      "execution_count": 0,
      "outputs": [
        {
          "output_type": "execute_result",
          "data": {
            "text/plain": [
              "Text(0.5, 0, 'Epochs')"
            ]
          },
          "metadata": {
            "tags": []
          },
          "execution_count": 80
        },
        {
          "output_type": "display_data",
          "data": {
            "image/png": "[encoded data removed]",
            "text/plain": [
              "<Figure size 1080x576 with 1 Axes>"
            ]
          },
          "metadata": {
            "tags": []
          }
        }
      ]
    },
    {
      "metadata": {
        "id": "ZlJ63roZKK3P",
        "colab_type": "code",
        "colab": {}
      },
      "cell_type": "code",
      "source": [
        "Y_pred_nn = model.predict(X_test)"
      ],
      "execution_count": 0,
      "outputs": []
    },
    {
      "metadata": {
        "id": "yPZMOSmzEIEO",
        "colab_type": "code",
        "outputId": "ba0ff3e7-e3df-46b9-b31d-85a10eac9d89",
        "colab": {
          "base_uri": "https://localhost:8080/",
          "height": 299
        }
      },
      "cell_type": "code",
      "source": [
        "plt.scatter(Y_pred_nn,Y_test)\n",
        "plt.xlabel(\"Predictions of Neural Network\")\n",
        "plt.ylabel(\"Target Labels\")"
      ],
      "execution_count": 0,
      "outputs": [
        {
          "output_type": "execute_result",
          "data": {
            "text/plain": [
              "Text(0, 0.5, 'Target Labels')"
            ]
          },
          "metadata": {
            "tags": []
          },
          "execution_count": 60
        },
        {
          "output_type": "display_data",
          "data": {
            "image/png": "[encoded data removed]",
            "text/plain": [
              "<Figure size 432x288 with 1 Axes>"
            ]
          },
          "metadata": {
            "tags": []
          }
        }
      ]
    },
    {
      "metadata": {
        "id": "JIkmkg0BKK3S",
        "colab_type": "code",
        "outputId": "317259bd-0972-4709-8854-da4321042dd0",
        "colab": {
          "base_uri": "https://localhost:8080/",
          "height": 34
        }
      },
      "cell_type": "code",
      "source": [
        "accuracy_scores[4] = mean_absolute_error(Y_test,Y_pred_dt)\n",
        "print(accuracy_scores[4])"
      ],
      "execution_count": 0,
      "outputs": [
        {
          "output_type": "stream",
          "text": [
            "6.946091432448082\n"
          ],
          "name": "stdout"
        }
      ]
    },
    {
      "metadata": {
        "id": "IztOhNU7S71K",
        "colab_type": "text"
      },
      "cell_type": "markdown",
      "source": [
        "## Support Vector Regression"
      ]
    },
    {
      "metadata": {
        "id": "oz6Em-XwN1bm",
        "colab_type": "code",
        "colab": {}
      },
      "cell_type": "code",
      "source": [
        "from sklearn.svm import SVR"
      ],
      "execution_count": 0,
      "outputs": []
    },
    {
      "metadata": {
        "id": "jcVBjs1gN863",
        "colab_type": "code",
        "outputId": "cd18fab2-0534-4d17-a0a1-666d3f13d9e2",
        "colab": {
          "base_uri": "https://localhost:8080/",
          "height": 122
        }
      },
      "cell_type": "code",
      "source": [
        "svr = SVR()\n",
        "\n",
        "svr.fit(X_train,Y_train)"
      ],
      "execution_count": 0,
      "outputs": [
        {
          "output_type": "stream",
          "text": [
            "/usr/local/lib/python3.6/dist-packages/sklearn/svm/base.py:196: FutureWarning: The default value of gamma will change from 'auto' to 'scale' in version 0.22 to account better for unscaled features. Set gamma explicitly to 'auto' or 'scale' to avoid this warning.\n",
            "  \"avoid this warning.\", FutureWarning)\n"
          ],
          "name": "stderr"
        },
        {
          "output_type": "execute_result",
          "data": {
            "text/plain": [
              "SVR(C=1.0, cache_size=200, coef0=0.0, degree=3, epsilon=0.1,\n",
              "  gamma='auto_deprecated', kernel='rbf', max_iter=-1, shrinking=True,\n",
              "  tol=0.001, verbose=False)"
            ]
          },
          "metadata": {
            "tags": []
          },
          "execution_count": 51
        }
      ]
    },
    {
      "metadata": {
        "id": "yAdnPxCZN83n",
        "colab_type": "code",
        "colab": {}
      },
      "cell_type": "code",
      "source": [
        "Y_pred_svr = svr.predict(X_test)"
      ],
      "execution_count": 0,
      "outputs": []
    },
    {
      "metadata": {
        "id": "YAOlSaSVTu1F",
        "colab_type": "code",
        "outputId": "764bc176-2a61-413d-e754-4bc3ecc381f5",
        "colab": {
          "base_uri": "https://localhost:8080/",
          "height": 34
        }
      },
      "cell_type": "code",
      "source": [
        "score_svr = mean_absolute_error(Y_test,Y_pred_svr)\n",
        "print(score_svr)"
      ],
      "execution_count": 0,
      "outputs": [
        {
          "output_type": "stream",
          "text": [
            "5.162115473134497\n"
          ],
          "name": "stdout"
        }
      ]
    },
    {
      "metadata": {
        "id": "ME18dVxuUJY-",
        "colab_type": "code",
        "outputId": "5f2c5e9a-e387-427c-f7ab-e5c97970029a",
        "colab": {
          "base_uri": "https://localhost:8080/",
          "height": 299
        }
      },
      "cell_type": "code",
      "source": [
        "plt.scatter(Y_pred_svr,Y_test)\n",
        "plt.xlabel(\"Predictions of Support Vector Regression\")\n",
        "plt.ylabel(\"Target Labels\")"
      ],
      "execution_count": 0,
      "outputs": [
        {
          "output_type": "execute_result",
          "data": {
            "text/plain": [
              "Text(0, 0.5, 'Target Labels')"
            ]
          },
          "metadata": {
            "tags": []
          },
          "execution_count": 56
        },
        {
          "output_type": "display_data",
          "data": {
            "image/png": "[encoded data removed]",
            "text/plain": [
              "<Figure size 432x288 with 1 Axes>"
            ]
          },
          "metadata": {
            "tags": []
          }
        }
      ]
    },
    {
      "metadata": {
        "id": "gj9uk8CSKK3Z",
        "colab_type": "text"
      },
      "cell_type": "markdown",
      "source": [
        "## Evaluation of models"
      ]
    },
    {
      "metadata": {
        "id": "qavxhjaDKK3c",
        "colab_type": "code",
        "outputId": "060479f9-8628-41bc-b1b9-398a483cc94c",
        "colab": {
          "base_uri": "https://localhost:8080/",
          "height": 102
        }
      },
      "cell_type": "code",
      "source": [
        "print(\"The mean absolute error of Linear Regression is: \"+str(accuracy_scores[0]))\n",
        "print(\"The mean absolute error of Decision Tree is: \"+str(accuracy_scores[1]))\n",
        "print(\"The mean absolute error of Random Forest is: \"+str(accuracy_scores[2]))\n",
        "print(\"The mean absolute error of XGBoost Regressor is: \"+str(accuracy_scores[3]))\n",
        "print(\"The mean absolute error of Neural Networkis: \"+str(accuracy_scores[4]))"
      ],
      "execution_count": 0,
      "outputs": [
        {
          "output_type": "stream",
          "text": [
            "The mean absolute error of Linear Regression is: 1\n",
            "The mean absolute error of Decision Tree is: 2\n",
            "The mean absolute error of Random Forest is: 3\n",
            "The mean absolute error of XGBoost Regressor is: 4\n",
            "The mean absolute error of Neural Networkis: 5\n"
          ],
          "name": "stdout"
        }
      ]
    },
    {
      "metadata": {
        "id": "ljKBq7EhEre0",
        "colab_type": "code",
        "colab": {}
      },
      "cell_type": "code",
      "source": [
        "score_lr = mean_absolute_error(Y_test,Y_pred_lr)\n",
        "score_dt = mean_absolute_error(Y_test,Y_pred_dt)\n",
        "score_rf = mean_absolute_error(Y_test,Y_pred_rf)\n",
        "score_xgb = mean_absolute_error(Y_test,Y_pred_xgb)\n",
        "score_nn = mean_absolute_error(Y_test,Y_pred_nn)\n",
        "score_svr = mean_absolute_error(Y_test,Y_pred_svr)"
      ],
      "execution_count": 0,
      "outputs": []
    },
    {
      "metadata": {
        "id": "_9NYnqZ2EO02",
        "colab_type": "code",
        "outputId": "043eea79-90bf-4199-96da-51f8d2dfd5b8",
        "colab": {
          "base_uri": "https://localhost:8080/",
          "height": 119
        }
      },
      "cell_type": "code",
      "source": [
        "scores = [score_lr,score_svr,score_dt,score_rf,score_xgb,score_nn]\n",
        "algorithms = [\"Linear Regression\",\"Support Vector Regression\",\"Decision Tree\",\"Random Forest\",\"XGBoost\",\"Neural Network\"]    \n",
        "\n",
        "for i in range(len(algorithms)):\n",
        "    print(\"The accuracy score achieved using \"+algorithms[i]+\" is: \"+str(scores[i])+\" %\")"
      ],
      "execution_count": 0,
      "outputs": [
        {
          "output_type": "stream",
          "text": [
            "The accuracy score achieved using Linear Regression is: 6.6408724895616515 %\n",
            "The accuracy score achieved using Support Vector Regression is: 5.162115473134497 %\n",
            "The accuracy score achieved using Decision Tree is: 6.946091432448082 %\n",
            "The accuracy score achieved using Random Forest is: 6.220620649939352 %\n",
            "The accuracy score achieved using XGBoost is: 6.341275831114474 %\n",
            "The accuracy score achieved using Neural Network is: 5.35996419211058 %\n"
          ],
          "name": "stdout"
        }
      ]
    },
    {
      "metadata": {
        "id": "mFQjOF4JFLGt",
        "colab_type": "code",
        "outputId": "83a9c232-c0b6-405e-c813-32b620eea931",
        "colab": {
          "base_uri": "https://localhost:8080/",
          "height": 507
        }
      },
      "cell_type": "code",
      "source": [
        "\n",
        "sns.set(rc={'figure.figsize':(15,8)})\n",
        "plt.ylabel(\"Mean Absolute Error\")\n",
        "\n",
        "sns.barplot(algorithms,scores)"
      ],
      "execution_count": 0,
      "outputs": [
        {
          "output_type": "execute_result",
          "data": {
            "text/plain": [
              "<matplotlib.axes._subplots.AxesSubplot at 0x7f9e3c0cf668>"
            ]
          },
          "metadata": {
            "tags": []
          },
          "execution_count": 68
        },
        {
          "output_type": "display_data",
          "data": {
            "image/png": "[encoded data removed]",
            "text/plain": [
              "<Figure size 1080x576 with 1 Axes>"
            ]
          },
          "metadata": {
            "tags": []
          }
        }
      ]
    },
    {
      "metadata": {
        "id": "Gv1k7HB6VYQn",
        "colab_type": "text"
      },
      "cell_type": "markdown",
      "source": [
        "### r2 score"
      ]
    },
    {
      "metadata": {
        "id": "BZrlbFZhVWy1",
        "colab_type": "code",
        "colab": {}
      },
      "cell_type": "code",
      "source": [
        "from sklearn.metrics import r2_score"
      ],
      "execution_count": 0,
      "outputs": []
    },
    {
      "metadata": {
        "id": "m5S2qrQfVkiS",
        "colab_type": "code",
        "colab": {}
      },
      "cell_type": "code",
      "source": [
        "r2_score_lr = r2_score(Y_test,Y_pred_lr)\n",
        "r2_score_svr = r2_score(Y_test,Y_pred_svr)\n",
        "r2_score_dt = r2_score(Y_test,Y_pred_dt)\n",
        "r2_score_rf = r2_score(Y_test,Y_pred_rf)\n",
        "r2_score_xgb = r2_score(Y_test,Y_pred_xgb)\n",
        "r2_score_nn = r2_score(Y_test,Y_pred_nn)"
      ],
      "execution_count": 0,
      "outputs": []
    },
    {
      "metadata": {
        "id": "sk2vxfrcV4PW",
        "colab_type": "code",
        "outputId": "5e63ba08-780d-4cee-ae77-98bc34c3d966",
        "colab": {
          "base_uri": "https://localhost:8080/",
          "height": 119
        }
      },
      "cell_type": "code",
      "source": [
        "r2_scores = [r2_score_lr,r2_score_svr,r2_score_dt,r2_score_rf,r2_score_xgb,r2_score_nn]\n",
        "\n",
        "for i in range(len(algorithms)):\n",
        "    print(\"The r2 accuracy score achieved using \"+algorithms[i]+\" is: \"+str(r2_scores[i]))"
      ],
      "execution_count": 0,
      "outputs": [
        {
          "output_type": "stream",
          "text": [
            "The r2 accuracy score achieved using Linear Regression is: 0.074352157516137\n",
            "The r2 accuracy score achieved using Support Vector Regression is: 0.00463644975569355\n",
            "The r2 accuracy score achieved using Decision Tree is: -0.41983452007784394\n",
            "The r2 accuracy score achieved using Random Forest is: 0.02471009587009121\n",
            "The r2 accuracy score achieved using XGBoost is: 0.1075164683469122\n",
            "The r2 accuracy score achieved using Neural Network is: -0.04540484253321364\n"
          ],
          "name": "stdout"
        }
      ]
    },
    {
      "metadata": {
        "id": "q4ev7YPeWMnW",
        "colab_type": "code",
        "outputId": "7cc897a4-2092-4b6d-9769-5f12687f1ad4",
        "colab": {
          "base_uri": "https://localhost:8080/",
          "height": 507
        }
      },
      "cell_type": "code",
      "source": [
        "sns.set(rc={'figure.figsize':(15,8)})\n",
        "plt.ylabel(\"r2 score\")\n",
        "\n",
        "sns.barplot(algorithms,r2_scores)"
      ],
      "execution_count": 0,
      "outputs": [
        {
          "output_type": "execute_result",
          "data": {
            "text/plain": [
              "<matplotlib.axes._subplots.AxesSubplot at 0x7f9e3c04d0b8>"
            ]
          },
          "metadata": {
            "tags": []
          },
          "execution_count": 75
        },
        {
          "output_type": "display_data",
          "data": {
            "image/png": "[encoded data removed]",
            "text/plain": [
              "<Figure size 1080x576 with 1 Axes>"
            ]
          },
          "metadata": {
            "tags": []
          }
        }
      ]
    },
    {
      "metadata": {
        "id": "0thwGGaFWV0A",
        "colab_type": "code",
        "outputId": "2e22df35-1bd1-4b31-b57c-7aa17c999b45",
        "colab": {
          "base_uri": "https://localhost:8080/",
          "height": 507
        }
      },
      "cell_type": "code",
      "source": [
        "sns.set(rc={'figure.figsize':(15,8)})\n",
        "plt.ylabel(\"Absolute value of r2 score\")\n",
        "\n",
        "r2_scores[2] = abs(r2_scores[2])\n",
        "r2_scores[5] = abs(r2_scores[5])\n",
        "\n",
        "sns.barplot(algorithms,r2_scores)"
      ],
      "execution_count": 0,
      "outputs": [
        {
          "output_type": "execute_result",
          "data": {
            "text/plain": [
              "<matplotlib.axes._subplots.AxesSubplot at 0x7f9e33e1d588>"
            ]
          },
          "metadata": {
            "tags": []
          },
          "execution_count": 80
        },
        {
          "output_type": "display_data",
          "data": {
            "image/png": "[encoded data removed]",
            "text/plain": [
              "<Figure size 1080x576 with 1 Axes>"
            ]
          },
          "metadata": {
            "tags": []
          }
        }
      ]
    },
    {
      "metadata": {
        "id": "YcVjJ_cOZhTu",
        "colab_type": "text"
      },
      "cell_type": "markdown",
      "source": [
        "### RMSE"
      ]
    },
    {
      "metadata": {
        "id": "I8N6YXiAZfpn",
        "colab_type": "code",
        "colab": {}
      },
      "cell_type": "code",
      "source": [
        "from sklearn.metrics import mean_squared_error\n",
        "from math import sqrt"
      ],
      "execution_count": 0,
      "outputs": []
    },
    {
      "metadata": {
        "id": "EbrQ1kghaLmK",
        "colab_type": "code",
        "colab": {}
      },
      "cell_type": "code",
      "source": [
        "rmse_lr = sqrt(mean_squared_error(Y_test, Y_pred_lr))\n",
        "rmse_svr = sqrt(mean_squared_error(Y_test, Y_pred_svr))\n",
        "rmse_dt = sqrt(mean_squared_error(Y_test, Y_pred_dt))\n",
        "rmse_rf = sqrt(mean_squared_error(Y_test, Y_pred_rf))\n",
        "rmse_xgb = sqrt(mean_squared_error(Y_test, Y_pred_xgb))\n",
        "rmse_nn = sqrt(mean_squared_error(Y_test, Y_pred_nn))"
      ],
      "execution_count": 0,
      "outputs": []
    },
    {
      "metadata": {
        "id": "2goPCX8ValvN",
        "colab_type": "code",
        "outputId": "0f0d58c9-2b35-4b3d-d72a-027f143798b7",
        "colab": {
          "base_uri": "https://localhost:8080/",
          "height": 119
        }
      },
      "cell_type": "code",
      "source": [
        "rmse_scores = [rmse_lr,rmse_svr,rmse_dt,rmse_rf,rmse_xgb,rmse_nn]\n",
        "\n",
        "for i in range(len(algorithms)):\n",
        "    print(\"The RMSE accuracy score achieved using \"+algorithms[i]+\" is: \"+str(rmse_scores[i]))"
      ],
      "execution_count": 0,
      "outputs": [
        {
          "output_type": "stream",
          "text": [
            "The RMSE accuracy score achieved using Linear Regression is: 12.441219068593874\n",
            "The RMSE accuracy score achieved using Support Vector Regression is: 12.901223745292507\n",
            "The RMSE accuracy score achieved using Decision Tree is: 15.408448322859352\n",
            "The RMSE accuracy score achieved using Random Forest is: 12.770470700763669\n",
            "The RMSE accuracy score achieved using XGBoost is: 12.216312854886363\n",
            "The RMSE accuracy score achieved using Neural Network is: 13.221547648804938\n"
          ],
          "name": "stdout"
        }
      ]
    },
    {
      "metadata": {
        "id": "GRjO2yrza2gt",
        "colab_type": "code",
        "outputId": "167bd387-b5d8-47a8-9cf0-0f33ba590a9b",
        "colab": {
          "base_uri": "https://localhost:8080/",
          "height": 507
        }
      },
      "cell_type": "code",
      "source": [
        "sns.set(rc={'figure.figsize':(15,8)})\n",
        "plt.ylabel(\"Root Mean Squared Error\")\n",
        "\n",
        "sns.barplot(algorithms,rmse_scores)"
      ],
      "execution_count": 0,
      "outputs": [
        {
          "output_type": "execute_result",
          "data": {
            "text/plain": [
              "<matplotlib.axes._subplots.AxesSubplot at 0x7f9e33c609e8>"
            ]
          },
          "metadata": {
            "tags": []
          },
          "execution_count": 91
        },
        {
          "output_type": "display_data",
          "data": {
            "image/png": "[encoded data removed]",
            "text/plain": [
              "<Figure size 1080x576 with 1 Axes>"
            ]
          },
          "metadata": {
            "tags": []
          }
        }
      ]
    }
  ]
}